{
 "cells": [
  {
   "cell_type": "markdown",
   "metadata": {
    "id": "X-ANW9UaDDg-"
   },
   "source": [
    "# FIT5202 Data processing for big data\n",
    "\n",
    "##  Activity: Machine Learning with Spark (Classification Using Decision Tree, Random Forest,  and Logistic Regression)\n",
    "\n",
    "Last week we learnt about basics of machine learning with Apache Spark. **``MLlib``** is Apache Spark's scalable machine learning library. Its goal is to make practical machine learning scalable and easy. At a high level, it provides tools such as:\n",
    "\n",
    "- ML Algorithms: common learning algorithms such as classification, regression, clustering, and collaborative filtering\n",
    "- Featurization: feature extraction, transformation, dimensionality reduction, and selection\n",
    "- Pipelines: tools for constructing, evaluating, and tuning ML Pipelines\n",
    "- Persistence: saving and load algorithms, models, and Pipelines\n",
    "- Utilities: linear algebra, statistics, data handling, etc.\n",
    "\n",
    "We looked into transformers, estimators and machine learning pipeline in the last weeks tutorial activity.\n",
    "\n",
    "This week we have learnt about different classification algorithms in the lecture. We will look into how to use the different popular family of classification and regression methods; Decision Trees and Random forests."
   ]
  },
  {
   "cell_type": "markdown",
   "metadata": {
    "id": "tCBduWesDDhD"
   },
   "source": [
    "## Table of Contents\n",
    "\n",
    "* [Bank case study: Will the client subscribe?](#one)\n",
    "* [Data Loading and Preparation](#data-preparation)\n",
    "* [Feature Engineering](#feature-engineering)\n",
    "    * [StringIndexer](#feature-engineering)\n",
    "    * [OneHotEncoder](#feature-engineering)\n",
    "    * [VectorAssembler](#feature-engineering)\n",
    "* [Pipeline API](#pipeline)\n",
    "* [Train/Test Split](#train-test)\n",
    "* [ML Classification Models](#models)\n",
    "    * [Decision Tree](#dt)\n",
    "    * [Random Forest](#rf)        \n",
    "    * [Logistic Regression](#lr)    \n",
    "* [Model Evaluation](#model-evaluation)\n",
    "    * [Confusion Matrix](#confusion-matrix)\n",
    "    * [Area Under the Curve](#roc)    \n",
    "    * [Visualizing ROC Curve](#roc-viz)\n",
    "* [Lab Tasks](#lab-task-1)\n",
    "    * [Lab Task 1](#lab-task-1)\n",
    "    * [Lab Task 2](#lab-task-2)\n",
    "    * [Lab Task 3](#lab-task-3)\n",
    "    * [Lab Task 4](#lab-task-4)\n",
    "    * [Lab Task 5](#lab-task-5)\n",
    "* [Challenge Tasks](#challenge-task)\n",
    "    * [Challenge Task 1](#challenge-task)\n",
    "    "
   ]
  },
  {
   "cell_type": "markdown",
   "metadata": {
    "id": "wW29BEFcDDhE"
   },
   "source": [
    "## Bank case study: Will the client subscribe? <a class=\"anchor\" id=\"one\"></a>\n",
    "<hr/>\n",
    "\n",
    "The data was used to direct marketing campaigns of a banking institution. The marketing campaigns were based on phone calls. The classification goal is to predict whether the client will subscribe (1/0) to a term deposit.\n",
    "\n",
    "### **Attributes**\n",
    "\n",
    "1. age (numeric)\n",
    "2. job : type of job (categorical: 'admin.','blue-collar','entrepreneur','housemaid','management','retired','self-employed','services','student','technician','unemployed','unknown')\n",
    "3. marital : marital status (categorical: 'divorced','married','single','unknown'; note: 'divorced' means divorced or widowed)\n",
    "4. education (categorical: 'primary', 'secondary', 'tertiary', 'unknown')\n",
    "5. default: has credit in default? (categorical: 'no','yes','unknown')\n",
    "6. balance : bank balance\n",
    "7. housing: has housing loan? (categorical: 'no','yes','unknown')\n",
    "8. loan: has personal loan? (categorical: 'no','yes','unknown')\n",
    "\n",
    "### Related with the last contact of the current campaign:\n",
    "9. contact: contact communication type (categorical: 'cellular','telephone','unknown')\n",
    "10. day: last contact day of the week (numerical: 1,2,...28,29,30)\n",
    "1. month: last contact month of year (categorical: 'jan', 'feb', 'mar', ..., 'nov', 'dec')\n",
    "12. duration: last contact duration, in seconds (numeric). Important note: this attribute highly affects the output target (e.g., if duration=0 then y='no'). Yet, the duration is not known before a call is performed. Also, after the end of the call y is obviously known. Thus, this input should only be included for benchmark purposes and should be discarded if the intention is to have a realistic predictive model.\n",
    "\n",
    "### Other attributes:\n",
    "12. campaign: number of contacts performed during this campaign and for this client (numeric, includes last contact)\n",
    "13. pdays: number of days that passed by after the client was last contacted from a previous campaign (numeric; 999 means client was not previously contacted)\n",
    "14. previous: number of contacts performed before this campaign and for this client (numeric)\n",
    "15. poutcome: outcome of the previous marketing campaign (categorical: 'failure','nonexistent','success','unknown')\n",
    "\n",
    "### Output variable (desired target):\n",
    "16. deposit - has the client subscribed a term deposit? (binary: 'yes','no')"
   ]
  },
  {
   "cell_type": "markdown",
   "metadata": {
    "id": "7x7dhI9uDDhF"
   },
   "source": [
    "<a class=\"anchor\" id=\"lab-task-1\"></a>\n",
    "<div style=\"background:rgba(0,109,174,0.2);padding:10px;border-radius:4px\"><strong style=\"color:#FF5555\">1. Lab Task: </strong> \n",
    "\n",
    "Complete the following steps for the initial part to get the data ready for the Classification Algorithms.\n",
    "\n",
    " 1. **Loading data:** Load the <code>bank.csv</code> file using spark session\n",
    " 2. **Prepare the data :** Prepare data for machine learning and preprocess the data according to the algorithm for training. \n",
    " 3. **Feature Engineering:** Use <code>StringIndexer</code>, <code>OneHotEncoder</code> and <code>Vector Assembler</code> to transform the dataset into <em>features</em> and <em>label</em> columns. \n",
    " 4. **Pipeline API :** Assemble the above steps of transformation into a <code>Pipeline</code>. Use the pipeline to <strong>transform</strong> the data.\n",
    " 5. **Train/Test Split :** For the transformed data, create a <strong>train/test</strong> split of <strong>80%/20%</strong>.\n",
    "</div>"
   ]
  },
  {
   "cell_type": "markdown",
   "metadata": {
    "id": "fIyCqEZ7DDhG"
   },
   "source": [
    "### Step 1: Data Loading and Preparation <a class=\"anchor\" name=\"data-preparation\"></a> "
   ]
  },
  {
   "cell_type": "markdown",
   "metadata": {
    "id": "HFEFmRt4DDhG"
   },
   "source": [
    "In this step, you can do some data exploration like: \n",
    "1. See some sample data, check the schema\n",
    "2. Check the statistics of the numerical columns in the dataset\n",
    "3. Target Variable Distribution, what are the number of instances the target variable has?\n",
    "4. Check if the dataframe contains null values?\n",
    "5. Separate the numerical and non-numerical columns to apply feature engineering"
   ]
  },
  {
   "cell_type": "code",
   "execution_count": 1,
   "metadata": {
    "id": "Gkn7FrQ0DDhH"
   },
   "outputs": [],
   "source": [
    "#Write your code here\n",
    "from pyspark import SparkConf # Spark\n",
    "from pyspark.sql import SparkSession\n",
    "\n",
    "spark_conf = SparkConf()\\\n",
    "            .setMaster(\"local[*]\")\\\n",
    "            .setAppName(\"ML-Classification\")\n",
    "\n",
    "spark = SparkSession.builder.config(conf=spark_conf).getOrCreate()\n",
    "spark.sparkContext.setLogLevel('ERROR')\n",
    "df = spark.read.csv('bank.csv', header = True, inferSchema = True)\n",
    "cols = df.columns"
   ]
  },
  {
   "cell_type": "code",
   "execution_count": 2,
   "metadata": {
    "id": "DqeYXFMPDDhI"
   },
   "outputs": [],
   "source": [
    "# First, save the category in the category columns list.\n",
    "categoryInputCols = ['job', 'marital', 'education', 'default', 'housing', 'loan', 'contact', 'poutcome']\n",
    "numericInputCols = ['age', 'balance', 'duration', 'campaign', 'pdays', 'previous']\n",
    "categoryOutputCol = 'deposit'\n",
    "categoryCols = categoryInputCols+[categoryOutputCol]"
   ]
  },
  {
   "cell_type": "markdown",
   "metadata": {
    "id": "ZwZ48hZdDDhJ"
   },
   "source": [
    "### Step 2: Feature Engineering <a class=\"anchor\" name=\"feature-engineering\"></a> "
   ]
  },
  {
   "cell_type": "code",
   "execution_count": 3,
   "metadata": {
    "id": "TQPri0qtDDhL",
    "outputId": "bae512b0-2615-4265-f656-f0d88542782b"
   },
   "outputs": [
    {
     "name": "stdout",
     "output_type": "stream",
     "text": [
      "['job', 'marital', 'education', 'default', 'housing', 'loan', 'contact', 'poutcome', 'deposit']\n",
      "['job_index', 'marital_index', 'education_index', 'default_index', 'housing_index', 'loan_index', 'contact_index', 'poutcome_index', 'label']\n",
      "+---+----------+-------+---------+-------+-------+-------+----+-------+---+-----+--------+--------+-----+--------+--------+-------+---------+-------------+---------------+-------------+-------------+----------+-------------+--------------+-----+\n",
      "|age|       job|marital|education|default|balance|housing|loan|contact|day|month|duration|campaign|pdays|previous|poutcome|deposit|job_index|marital_index|education_index|default_index|housing_index|loan_index|contact_index|poutcome_index|label|\n",
      "+---+----------+-------+---------+-------+-------+-------+----+-------+---+-----+--------+--------+-----+--------+--------+-------+---------+-------------+---------------+-------------+-------------+----------+-------------+--------------+-----+\n",
      "| 59|    admin.|married|secondary|     no|   2343|    yes|  no|unknown|  5|  may|    1042|       1|   -1|       0| unknown|    yes|      3.0|          0.0|            0.0|          0.0|          1.0|       0.0|          1.0|           0.0|  1.0|\n",
      "| 56|    admin.|married|secondary|     no|     45|     no|  no|unknown|  5|  may|    1467|       1|   -1|       0| unknown|    yes|      3.0|          0.0|            0.0|          0.0|          0.0|       0.0|          1.0|           0.0|  1.0|\n",
      "| 41|technician|married|secondary|     no|   1270|    yes|  no|unknown|  5|  may|    1389|       1|   -1|       0| unknown|    yes|      2.0|          0.0|            0.0|          0.0|          1.0|       0.0|          1.0|           0.0|  1.0|\n",
      "| 55|  services|married|secondary|     no|   2476|    yes|  no|unknown|  5|  may|     579|       1|   -1|       0| unknown|    yes|      4.0|          0.0|            0.0|          0.0|          1.0|       0.0|          1.0|           0.0|  1.0|\n",
      "| 54|    admin.|married| tertiary|     no|    184|     no|  no|unknown|  5|  may|     673|       2|   -1|       0| unknown|    yes|      3.0|          0.0|            1.0|          0.0|          0.0|       0.0|          1.0|           0.0|  1.0|\n",
      "+---+----------+-------+---------+-------+-------+-------+----+-------+---+-----+--------+--------+-----+--------+--------+-------+---------+-------------+---------------+-------------+-------------+----------+-------------+--------------+-----+\n",
      "only showing top 5 rows\n",
      "\n"
     ]
    }
   ],
   "source": [
    "#Write your code here\n",
    "### Convert categorical columns\n",
    "from pyspark.ml.feature import StringIndexer\n",
    "\n",
    "# Define the output columns\n",
    "outputCols=[f'{x}_index' for x in categoryInputCols]\n",
    "outputCols.append('label')\n",
    "\n",
    "print(categoryCols)\n",
    "print(outputCols)\n",
    "\n",
    "# Create the index values for categorical values\n",
    "# Initialize StringIndexer (use inputCols and outputCols)\n",
    "inputIndexer = StringIndexer(inputCols=categoryCols, outputCols=outputCols)\n",
    "\n",
    "# Call the fit and transform() method to get the encoded results \n",
    "df_indexed = inputIndexer.fit(df).transform(df)\n",
    "\n",
    "# Display the output, only the output columns\n",
    "df_indexed.show(5)"
   ]
  },
  {
   "cell_type": "code",
   "execution_count": 4,
   "metadata": {
    "id": "NtqYtoJrDDhM",
    "outputId": "f861ad8f-c458-4f98-b2ba-8544f9d48b37"
   },
   "outputs": [
    {
     "name": "stdout",
     "output_type": "stream",
     "text": [
      "+---+-----------+--------+---------+-------+-------+-------+----+-------+---+-----+--------+--------+-----+--------+--------+-------+---------+-------------+---------------+-------------+-------------+----------+-------------+--------------+-----+--------------+-------------+-------------+-------------+-------------+-------------+-------------+-------------+\n",
      "|age|        job| marital|education|default|balance|housing|loan|contact|day|month|duration|campaign|pdays|previous|poutcome|deposit|job_index|marital_index|education_index|default_index|housing_index|loan_index|contact_index|poutcome_index|label|       job_vec|  marital_vec|education_vec|  default_vec|  housing_vec|     loan_vec|  contact_vec| poutcome_vec|\n",
      "+---+-----------+--------+---------+-------+-------+-------+----+-------+---+-----+--------+--------+-----+--------+--------+-------+---------+-------------+---------------+-------------+-------------+----------+-------------+--------------+-----+--------------+-------------+-------------+-------------+-------------+-------------+-------------+-------------+\n",
      "| 59|     admin.| married|secondary|     no|   2343|    yes|  no|unknown|  5|  may|    1042|       1|   -1|       0| unknown|    yes|      3.0|          0.0|            0.0|          0.0|          1.0|       0.0|          1.0|           0.0|  1.0|(11,[3],[1.0])|(2,[0],[1.0])|(3,[0],[1.0])|(1,[0],[1.0])|    (1,[],[])|(1,[0],[1.0])|(2,[1],[1.0])|(3,[0],[1.0])|\n",
      "| 56|     admin.| married|secondary|     no|     45|     no|  no|unknown|  5|  may|    1467|       1|   -1|       0| unknown|    yes|      3.0|          0.0|            0.0|          0.0|          0.0|       0.0|          1.0|           0.0|  1.0|(11,[3],[1.0])|(2,[0],[1.0])|(3,[0],[1.0])|(1,[0],[1.0])|(1,[0],[1.0])|(1,[0],[1.0])|(2,[1],[1.0])|(3,[0],[1.0])|\n",
      "| 41| technician| married|secondary|     no|   1270|    yes|  no|unknown|  5|  may|    1389|       1|   -1|       0| unknown|    yes|      2.0|          0.0|            0.0|          0.0|          1.0|       0.0|          1.0|           0.0|  1.0|(11,[2],[1.0])|(2,[0],[1.0])|(3,[0],[1.0])|(1,[0],[1.0])|    (1,[],[])|(1,[0],[1.0])|(2,[1],[1.0])|(3,[0],[1.0])|\n",
      "| 55|   services| married|secondary|     no|   2476|    yes|  no|unknown|  5|  may|     579|       1|   -1|       0| unknown|    yes|      4.0|          0.0|            0.0|          0.0|          1.0|       0.0|          1.0|           0.0|  1.0|(11,[4],[1.0])|(2,[0],[1.0])|(3,[0],[1.0])|(1,[0],[1.0])|    (1,[],[])|(1,[0],[1.0])|(2,[1],[1.0])|(3,[0],[1.0])|\n",
      "| 54|     admin.| married| tertiary|     no|    184|     no|  no|unknown|  5|  may|     673|       2|   -1|       0| unknown|    yes|      3.0|          0.0|            1.0|          0.0|          0.0|       0.0|          1.0|           0.0|  1.0|(11,[3],[1.0])|(2,[0],[1.0])|(3,[1],[1.0])|(1,[0],[1.0])|(1,[0],[1.0])|(1,[0],[1.0])|(2,[1],[1.0])|(3,[0],[1.0])|\n",
      "| 42| management|  single| tertiary|     no|      0|    yes| yes|unknown|  5|  may|     562|       2|   -1|       0| unknown|    yes|      0.0|          1.0|            1.0|          0.0|          1.0|       1.0|          1.0|           0.0|  1.0|(11,[0],[1.0])|(2,[1],[1.0])|(3,[1],[1.0])|(1,[0],[1.0])|    (1,[],[])|    (1,[],[])|(2,[1],[1.0])|(3,[0],[1.0])|\n",
      "| 56| management| married| tertiary|     no|    830|    yes| yes|unknown|  6|  may|    1201|       1|   -1|       0| unknown|    yes|      0.0|          0.0|            1.0|          0.0|          1.0|       1.0|          1.0|           0.0|  1.0|(11,[0],[1.0])|(2,[0],[1.0])|(3,[1],[1.0])|(1,[0],[1.0])|    (1,[],[])|    (1,[],[])|(2,[1],[1.0])|(3,[0],[1.0])|\n",
      "| 60|    retired|divorced|secondary|     no|    545|    yes|  no|unknown|  6|  may|    1030|       1|   -1|       0| unknown|    yes|      5.0|          2.0|            0.0|          0.0|          1.0|       0.0|          1.0|           0.0|  1.0|(11,[5],[1.0])|    (2,[],[])|(3,[0],[1.0])|(1,[0],[1.0])|    (1,[],[])|(1,[0],[1.0])|(2,[1],[1.0])|(3,[0],[1.0])|\n",
      "| 37| technician| married|secondary|     no|      1|    yes|  no|unknown|  6|  may|     608|       1|   -1|       0| unknown|    yes|      2.0|          0.0|            0.0|          0.0|          1.0|       0.0|          1.0|           0.0|  1.0|(11,[2],[1.0])|(2,[0],[1.0])|(3,[0],[1.0])|(1,[0],[1.0])|    (1,[],[])|(1,[0],[1.0])|(2,[1],[1.0])|(3,[0],[1.0])|\n",
      "| 28|   services|  single|secondary|     no|   5090|    yes|  no|unknown|  6|  may|    1297|       3|   -1|       0| unknown|    yes|      4.0|          1.0|            0.0|          0.0|          1.0|       0.0|          1.0|           0.0|  1.0|(11,[4],[1.0])|(2,[1],[1.0])|(3,[0],[1.0])|(1,[0],[1.0])|    (1,[],[])|(1,[0],[1.0])|(2,[1],[1.0])|(3,[0],[1.0])|\n",
      "| 38|     admin.|  single|secondary|     no|    100|    yes|  no|unknown|  7|  may|     786|       1|   -1|       0| unknown|    yes|      3.0|          1.0|            0.0|          0.0|          1.0|       0.0|          1.0|           0.0|  1.0|(11,[3],[1.0])|(2,[1],[1.0])|(3,[0],[1.0])|(1,[0],[1.0])|    (1,[],[])|(1,[0],[1.0])|(2,[1],[1.0])|(3,[0],[1.0])|\n",
      "| 30|blue-collar| married|secondary|     no|    309|    yes|  no|unknown|  7|  may|    1574|       2|   -1|       0| unknown|    yes|      1.0|          0.0|            0.0|          0.0|          1.0|       0.0|          1.0|           0.0|  1.0|(11,[1],[1.0])|(2,[0],[1.0])|(3,[0],[1.0])|(1,[0],[1.0])|    (1,[],[])|(1,[0],[1.0])|(2,[1],[1.0])|(3,[0],[1.0])|\n",
      "| 29| management| married| tertiary|     no|    199|    yes| yes|unknown|  7|  may|    1689|       4|   -1|       0| unknown|    yes|      0.0|          0.0|            1.0|          0.0|          1.0|       1.0|          1.0|           0.0|  1.0|(11,[0],[1.0])|(2,[0],[1.0])|(3,[1],[1.0])|(1,[0],[1.0])|    (1,[],[])|    (1,[],[])|(2,[1],[1.0])|(3,[0],[1.0])|\n",
      "| 46|blue-collar|  single| tertiary|     no|    460|    yes|  no|unknown|  7|  may|    1102|       2|   -1|       0| unknown|    yes|      1.0|          1.0|            1.0|          0.0|          1.0|       0.0|          1.0|           0.0|  1.0|(11,[1],[1.0])|(2,[1],[1.0])|(3,[1],[1.0])|(1,[0],[1.0])|    (1,[],[])|(1,[0],[1.0])|(2,[1],[1.0])|(3,[0],[1.0])|\n",
      "| 31| technician|  single| tertiary|     no|    703|    yes|  no|unknown|  8|  may|     943|       2|   -1|       0| unknown|    yes|      2.0|          1.0|            1.0|          0.0|          1.0|       0.0|          1.0|           0.0|  1.0|(11,[2],[1.0])|(2,[1],[1.0])|(3,[1],[1.0])|(1,[0],[1.0])|    (1,[],[])|(1,[0],[1.0])|(2,[1],[1.0])|(3,[0],[1.0])|\n",
      "| 35| management|divorced| tertiary|     no|   3837|    yes|  no|unknown|  8|  may|    1084|       1|   -1|       0| unknown|    yes|      0.0|          2.0|            1.0|          0.0|          1.0|       0.0|          1.0|           0.0|  1.0|(11,[0],[1.0])|    (2,[],[])|(3,[1],[1.0])|(1,[0],[1.0])|    (1,[],[])|(1,[0],[1.0])|(2,[1],[1.0])|(3,[0],[1.0])|\n",
      "| 32|blue-collar|  single|  primary|     no|    611|    yes|  no|unknown|  8|  may|     541|       3|   -1|       0| unknown|    yes|      1.0|          1.0|            2.0|          0.0|          1.0|       0.0|          1.0|           0.0|  1.0|(11,[1],[1.0])|(2,[1],[1.0])|(3,[2],[1.0])|(1,[0],[1.0])|    (1,[],[])|(1,[0],[1.0])|(2,[1],[1.0])|(3,[0],[1.0])|\n",
      "| 49|   services| married|secondary|     no|     -8|    yes|  no|unknown|  8|  may|    1119|       1|   -1|       0| unknown|    yes|      4.0|          0.0|            0.0|          0.0|          1.0|       0.0|          1.0|           0.0|  1.0|(11,[4],[1.0])|(2,[0],[1.0])|(3,[0],[1.0])|(1,[0],[1.0])|    (1,[],[])|(1,[0],[1.0])|(2,[1],[1.0])|(3,[0],[1.0])|\n",
      "| 41|     admin.| married|secondary|     no|     55|    yes|  no|unknown|  8|  may|    1120|       2|   -1|       0| unknown|    yes|      3.0|          0.0|            0.0|          0.0|          1.0|       0.0|          1.0|           0.0|  1.0|(11,[3],[1.0])|(2,[0],[1.0])|(3,[0],[1.0])|(1,[0],[1.0])|    (1,[],[])|(1,[0],[1.0])|(2,[1],[1.0])|(3,[0],[1.0])|\n",
      "| 49|     admin.|divorced|secondary|     no|    168|    yes| yes|unknown|  8|  may|     513|       1|   -1|       0| unknown|    yes|      3.0|          2.0|            0.0|          0.0|          1.0|       1.0|          1.0|           0.0|  1.0|(11,[3],[1.0])|    (2,[],[])|(3,[0],[1.0])|(1,[0],[1.0])|    (1,[],[])|    (1,[],[])|(2,[1],[1.0])|(3,[0],[1.0])|\n",
      "+---+-----------+--------+---------+-------+-------+-------+----+-------+---+-----+--------+--------+-----+--------+--------+-------+---------+-------------+---------------+-------------+-------------+----------+-------------+--------------+-----+--------------+-------------+-------------+-------------+-------------+-------------+-------------+-------------+\n",
      "only showing top 20 rows\n",
      "\n"
     ]
    }
   ],
   "source": [
    "from pyspark.ml.feature import OneHotEncoder\n",
    "\n",
    "# input columns for OHE are all output columns from StringIndexer except label\n",
    "inputCols_OHE = [x for x in outputCols if x!='label']\n",
    "outputCols_OHE = [f'{x}_vec' for x in categoryInputCols]\n",
    "\n",
    "#Define OneHotEncoder with the appropriate columns\n",
    "encoder = OneHotEncoder(inputCols=inputCols_OHE,\n",
    "                        outputCols=outputCols_OHE)\n",
    "\n",
    "model = encoder.fit(df_indexed)\n",
    "# Call fit and transform to get the encoded results\n",
    "df_encoded = model.transform(df_indexed)\n",
    "# Display the output columns\n",
    "df_encoded.show()"
   ]
  },
  {
   "cell_type": "code",
   "execution_count": 5,
   "metadata": {
    "id": "6lGcSoR1DDhN",
    "outputId": "856e39ce-cf72-47b9-cb76-e1b3d1e9cf54"
   },
   "outputs": [
    {
     "name": "stdout",
     "output_type": "stream",
     "text": [
      "['job_vec', 'marital_vec', 'education_vec', 'default_vec', 'housing_vec', 'loan_vec', 'contact_vec', 'poutcome_vec', 'age', 'balance', 'duration', 'campaign', 'pdays', 'previous']\n",
      "+--------------------+\n",
      "|            features|\n",
      "+--------------------+\n",
      "|(30,[3,11,13,16,1...|\n",
      "|(30,[3,11,13,16,1...|\n",
      "|(30,[2,11,13,16,1...|\n",
      "|(30,[4,11,13,16,1...|\n",
      "|(30,[3,11,14,16,1...|\n",
      "|(30,[0,12,14,16,2...|\n",
      "|(30,[0,11,14,16,2...|\n",
      "|(30,[5,13,16,18,2...|\n",
      "|(30,[2,11,13,16,1...|\n",
      "|(30,[4,12,13,16,1...|\n",
      "|(30,[3,12,13,16,1...|\n",
      "|(30,[1,11,13,16,1...|\n",
      "|(30,[0,11,14,16,2...|\n",
      "|(30,[1,12,14,16,1...|\n",
      "|(30,[2,12,14,16,1...|\n",
      "|(30,[0,14,16,18,2...|\n",
      "|(30,[1,12,15,16,1...|\n",
      "|(30,[4,11,13,16,1...|\n",
      "|(30,[3,11,13,16,1...|\n",
      "|(30,[3,13,16,20,2...|\n",
      "+--------------------+\n",
      "only showing top 20 rows\n",
      "\n"
     ]
    }
   ],
   "source": [
    "from pyspark.ml.feature import VectorAssembler\n",
    "\n",
    "# inputCols are all the encoded columns from OHE plus numerical columns\n",
    "inputCols=outputCols_OHE\n",
    "assemblerInputs = outputCols_OHE + numericInputCols\n",
    "print(assemblerInputs)\n",
    "# Define the assembler with appropriate input and output columns\n",
    "assembler = VectorAssembler(inputCols = assemblerInputs, outputCol=\"features\")\n",
    "\n",
    "# use the asseembler transform() to get encoded results\n",
    "df_final = assembler.transform(df_encoded)\n",
    "# Display the output\n",
    "df_final.select('features').show()"
   ]
  },
  {
   "cell_type": "markdown",
   "metadata": {
    "id": "Cr2F7wseDDhN"
   },
   "source": [
    "### Step 3: Pipeline API <a class=\"anchor\" name=\"pipeline\"></a> "
   ]
  },
  {
   "cell_type": "code",
   "execution_count": 6,
   "metadata": {
    "id": "Xg6vaXltDDhO",
    "outputId": "85097c41-c040-48f6-e137-fac7bc39001e"
   },
   "outputs": [
    {
     "name": "stdout",
     "output_type": "stream",
     "text": [
      "root\n",
      " |-- label: double (nullable = false)\n",
      " |-- features: vector (nullable = true)\n",
      " |-- age: integer (nullable = true)\n",
      " |-- job: string (nullable = true)\n",
      " |-- marital: string (nullable = true)\n",
      " |-- education: string (nullable = true)\n",
      " |-- default: string (nullable = true)\n",
      " |-- balance: integer (nullable = true)\n",
      " |-- housing: string (nullable = true)\n",
      " |-- loan: string (nullable = true)\n",
      " |-- contact: string (nullable = true)\n",
      " |-- day: integer (nullable = true)\n",
      " |-- month: string (nullable = true)\n",
      " |-- duration: integer (nullable = true)\n",
      " |-- campaign: integer (nullable = true)\n",
      " |-- pdays: integer (nullable = true)\n",
      " |-- previous: integer (nullable = true)\n",
      " |-- poutcome: string (nullable = true)\n",
      " |-- deposit: string (nullable = true)\n",
      "\n"
     ]
    }
   ],
   "source": [
    "#Write your code here\n",
    "from pyspark.ml import Pipeline\n",
    "\n",
    "# Pipelines and PipelineModels help to ensure that training and test data go through identical feature processing steps.\n",
    "stage_1 = inputIndexer\n",
    "stage_2 = encoder\n",
    "stage_3 = assembler\n",
    "\n",
    "stages = [stage_1,stage_2,stage_3]\n",
    "\n",
    "pipeline = Pipeline(stages = stages)\n",
    "pipelineModel = pipeline.fit(df)\n",
    "df_pipeline = pipelineModel.transform(df)\n",
    "\n",
    "#Choose only label and features to create a dataframe\n",
    "selectedCols = ['label', 'features'] + cols\n",
    "df_pipeline = df_pipeline.select(selectedCols)\n",
    "df_pipeline.printSchema()"
   ]
  },
  {
   "cell_type": "markdown",
   "metadata": {
    "id": "0C7EsNVGDDhO"
   },
   "source": [
    "### Step 4: Train/Test Split <a class=\"anchor\" name=\"train-test\"></a> "
   ]
  },
  {
   "cell_type": "code",
   "execution_count": 7,
   "metadata": {
    "id": "wDetljkzDDhO",
    "outputId": "e770b60f-7ff6-468e-9276-9a766d5d2621"
   },
   "outputs": [
    {
     "name": "stdout",
     "output_type": "stream",
     "text": [
      "Training Dataset Count: 7858\n",
      "Test Dataset Count: 3304\n"
     ]
    }
   ],
   "source": [
    "#Write your code here\n",
    "# Divide data into train sets and test sets. \n",
    "# Seed is the value used to make the same data three times later\n",
    "train, test = df_pipeline.randomSplit([0.7, 0.3], seed = 2020)\n",
    "print(\"Training Dataset Count: \" + str(train.count()))\n",
    "print(\"Test Dataset Count: \" + str(test.count()))"
   ]
  },
  {
   "cell_type": "markdown",
   "metadata": {
    "id": "q3eKW_e7DDhP"
   },
   "source": [
    "## ML Classification Models <a class=\"anchor\" name=\"models\"></a>\n",
    "<hr />\n",
    "\n",
    "### Decision Tree <a class=\"anchor\" name=\"dt\"></a>\n",
    "Decision tree algorithms are said to be widely used because they process categorical data and are readily available in classification tasks by multiple classes. The goal of using a Decision Tree is to create a training model that can use to predict the class or value of the target variable by learning simple decision rules inferred from prior data(training data). The picture below shows some components in a decistion tree.\n",
    "![image.png](attachment:image.png)\n",
    "Decision trees use multiple algorithms to decide to split a node into two or more sub-nodes. The creation of sub-nodes increases the homogeneity of resultant sub-nodes. In other words, we can say that the purity of the node increases with respect to the target variable. The decision tree splits the nodes on all available variables and then selects the split which results in most homogeneous sub-nodes.\n",
    "\n",
    "On the downside, decision trees are prone to overfitting. They can easily become over-complex which prevents them from generalizing well to the structure in the dataset. In that case, the model is likely to end up overfitting which is a serious issue in machine learning. To overcome this decision tree hyperparameters could be tuned. For a description of some parameters, refer to this\n",
    "<a href=\"https://towardsdatascience.com/hyperparameters-of-decision-trees-explained-with-visualizations-1a6ef2f67edf\" target=\"_BLANK\">link</a>"
   ]
  },
  {
   "cell_type": "code",
   "execution_count": 8,
   "metadata": {
    "id": "glvbj11tDDhP"
   },
   "outputs": [],
   "source": [
    "from pyspark.ml.classification import DecisionTreeClassifier\n",
    "\n",
    "# Extracts the number of nodes in the decision tree and the tree depth in the model and stores it in dt.\n",
    "dt = DecisionTreeClassifier(featuresCol = 'features', labelCol = 'label', maxDepth = 3)\n",
    "dtModel = dt.fit(train)"
   ]
  },
  {
   "cell_type": "code",
   "execution_count": 9,
   "metadata": {
    "id": "WhTph-k2DDhP",
    "outputId": "37cc3de7-965b-4aa8-fcbc-aee21e2e6ecf"
   },
   "outputs": [
    {
     "name": "stdout",
     "output_type": "stream",
     "text": [
      "+--------------------+-----+----------+--------------------+\n",
      "|            features|label|prediction|         probability|\n",
      "+--------------------+-----+----------+--------------------+\n",
      "|(30,[0,11,13,16,1...|  0.0|       0.0|[0.84571428571428...|\n",
      "|(30,[0,11,13,16,1...|  0.0|       0.0|[0.84571428571428...|\n",
      "|(30,[0,11,13,16,1...|  0.0|       1.0|[0.39656019656019...|\n",
      "|(30,[0,11,13,16,1...|  0.0|       0.0|[0.84571428571428...|\n",
      "|(30,[0,11,13,16,1...|  0.0|       0.0|[0.84571428571428...|\n",
      "|(30,[0,11,13,16,1...|  0.0|       0.0|[0.84571428571428...|\n",
      "|(30,[0,11,13,16,1...|  0.0|       0.0|[0.84571428571428...|\n",
      "|(30,[0,11,13,16,1...|  0.0|       0.0|[0.84571428571428...|\n",
      "|(30,[0,11,13,16,1...|  0.0|       0.0|[0.84571428571428...|\n",
      "|(30,[0,11,13,16,1...|  0.0|       1.0|[0.39656019656019...|\n",
      "|(30,[0,11,13,16,1...|  0.0|       1.0|[0.39656019656019...|\n",
      "|(30,[0,11,13,16,1...|  0.0|       0.0|[0.84571428571428...|\n",
      "|(30,[0,11,13,16,1...|  0.0|       0.0|[0.84571428571428...|\n",
      "|(30,[0,11,13,16,1...|  0.0|       1.0|[0.20560747663551...|\n",
      "|(30,[0,11,13,16,1...|  0.0|       0.0|[0.84571428571428...|\n",
      "|(30,[0,11,13,16,1...|  0.0|       0.0|[0.92890995260663...|\n",
      "|(30,[0,11,13,16,1...|  0.0|       0.0|[0.84571428571428...|\n",
      "|(30,[0,11,13,16,1...|  0.0|       1.0|[0.19665461121157...|\n",
      "|(30,[0,11,13,16,1...|  0.0|       0.0|[0.84571428571428...|\n",
      "|(30,[0,11,13,16,1...|  0.0|       0.0|[0.84571428571428...|\n",
      "+--------------------+-----+----------+--------------------+\n",
      "only showing top 20 rows\n",
      "\n"
     ]
    }
   ],
   "source": [
    "dtPredictions = dtModel.transform(test)\n",
    "dtPredictions.select('features','label','prediction','probability').show()"
   ]
  },
  {
   "cell_type": "markdown",
   "metadata": {
    "id": "PeoqIZkNDDhQ"
   },
   "source": [
    "<div style=\"background:rgba(0,109,174,0.2);padding:10px;border-radius:4px\"><strong style=\"color:#006DAE\">NOTE: </strong>\n",
    "    You can see that DecisionTree has a parameter called <code>maxDepth</code>. Discuss the significance of this parameter.\n",
    "</div>"
   ]
  },
  {
   "cell_type": "markdown",
   "metadata": {
    "id": "cGski5MmDDhQ"
   },
   "source": [
    "### Random Forest <a class=\"anchor\" name=\"rf\"></a>"
   ]
  },
  {
   "cell_type": "code",
   "execution_count": 10,
   "metadata": {
    "id": "DAzhPpApDDhQ"
   },
   "outputs": [],
   "source": [
    "# TODO: Implement Random Forest Classifier\n",
    "# SOLUTION\n",
    "from pyspark.ml.classification import RandomForestClassifier\n",
    "\n",
    "rf = RandomForestClassifier(labelCol=\"label\", featuresCol=\"features\", numTrees=10)\n",
    "forestModel = rf.fit(train)"
   ]
  },
  {
   "cell_type": "code",
   "execution_count": 11,
   "metadata": {
    "id": "RVuzXv7tDDhR",
    "outputId": "b4f77ea0-1c25-4b0a-9960-350827c9802d"
   },
   "outputs": [
    {
     "name": "stdout",
     "output_type": "stream",
     "text": [
      "+--------------------+-----+----------+--------------------+\n",
      "|            features|label|prediction|         probability|\n",
      "+--------------------+-----+----------+--------------------+\n",
      "|(30,[0,11,13,16,1...|  0.0|       0.0|[0.75402042146551...|\n",
      "|(30,[0,11,13,16,1...|  0.0|       0.0|[0.72991116238954...|\n",
      "|(30,[0,11,13,16,1...|  0.0|       1.0|[0.48655813274709...|\n",
      "|(30,[0,11,13,16,1...|  0.0|       0.0|[0.72991116238954...|\n",
      "|(30,[0,11,13,16,1...|  0.0|       0.0|[0.78514860028423...|\n",
      "|(30,[0,11,13,16,1...|  0.0|       0.0|[0.78514860028423...|\n",
      "|(30,[0,11,13,16,1...|  0.0|       0.0|[0.77068870740957...|\n",
      "|(30,[0,11,13,16,1...|  0.0|       0.0|[0.76103934120827...|\n",
      "|(30,[0,11,13,16,1...|  0.0|       0.0|[0.89345225630539...|\n",
      "|(30,[0,11,13,16,1...|  0.0|       1.0|[0.30631048608821...|\n",
      "|(30,[0,11,13,16,1...|  0.0|       0.0|[0.53014716077645...|\n",
      "|(30,[0,11,13,16,1...|  0.0|       0.0|[0.75629191112315...|\n",
      "|(30,[0,11,13,16,1...|  0.0|       0.0|[0.77012855957313...|\n",
      "|(30,[0,11,13,16,1...|  0.0|       1.0|[0.37941815292011...|\n",
      "|(30,[0,11,13,16,1...|  0.0|       0.0|[0.73790019767339...|\n",
      "|(30,[0,11,13,16,1...|  0.0|       0.0|[0.81786369954116...|\n",
      "|(30,[0,11,13,16,1...|  0.0|       0.0|[0.87909317860978...|\n",
      "|(30,[0,11,13,16,1...|  0.0|       1.0|[0.35488257873848...|\n",
      "|(30,[0,11,13,16,1...|  0.0|       0.0|[0.88914585075663...|\n",
      "|(30,[0,11,13,16,1...|  0.0|       0.0|[0.81427981748404...|\n",
      "+--------------------+-----+----------+--------------------+\n",
      "only showing top 20 rows\n",
      "\n"
     ]
    }
   ],
   "source": [
    "rfPredictions = forestModel.transform(test)\n",
    "rfPredictions.select('features','label','prediction','probability').show()"
   ]
  },
  {
   "cell_type": "markdown",
   "metadata": {
    "id": "LBvKALMQDDhR"
   },
   "source": [
    "### Logistic Regression <a class=\"anchor\" name=\"lr\"></a>\n",
    "*Logistic Regression* is a classification algorithm. It is used to predict a binary outcome (1 / 0, Yes / No, True / False) given a set of independent variables. To represent binary/categorical outcome, we use dummy variables. You can also think of logistic regression as a special case of linear regression when the outcome variable is categorical, where we are using log of odds as dependent variable. In simple words, it predicts the probability of occurrence of an event by fitting data to a logit function."
   ]
  },
  {
   "cell_type": "code",
   "execution_count": 12,
   "metadata": {
    "id": "eOM8vrwfDDhR"
   },
   "outputs": [],
   "source": [
    "# TODO: Implement Random Forest Classifier\n",
    "# SOLUTION\n",
    "from pyspark.ml.classification import LogisticRegression\n",
    "\n",
    "# Create an initial model using the train set.\n",
    "lr = LogisticRegression(featuresCol = 'features', labelCol = 'label', maxIter=10,regParam=0.3,elasticNetParam=0.7)\n",
    "lrModel = lr.fit(train)"
   ]
  },
  {
   "cell_type": "code",
   "execution_count": 13,
   "metadata": {
    "id": "ya6memAoDDhR",
    "outputId": "ac700e4d-a33f-4059-ce7a-53f9d9b7db9d"
   },
   "outputs": [
    {
     "name": "stdout",
     "output_type": "stream",
     "text": [
      "+--------------------+-----+----------+--------------------+\n",
      "|            features|label|prediction|         probability|\n",
      "+--------------------+-----+----------+--------------------+\n",
      "|(30,[0,11,13,16,1...|  0.0|       0.0|[0.54727043669615...|\n",
      "|(30,[0,11,13,16,1...|  0.0|       0.0|[0.54335455209702...|\n",
      "|(30,[0,11,13,16,1...|  0.0|       0.0|[0.53504248098562...|\n",
      "|(30,[0,11,13,16,1...|  0.0|       0.0|[0.54575527739709...|\n",
      "|(30,[0,11,13,16,1...|  0.0|       0.0|[0.54571317740759...|\n",
      "|(30,[0,11,13,16,1...|  0.0|       0.0|[0.54242741117923...|\n",
      "|(30,[0,11,13,16,1...|  0.0|       0.0|[0.54221665610882...|\n",
      "|(30,[0,11,13,16,1...|  0.0|       0.0|[0.54478681331273...|\n",
      "|(30,[0,11,13,16,1...|  0.0|       0.0|[0.54722836063203...|\n",
      "|(30,[0,11,13,16,1...|  0.0|       0.0|[0.53098457381297...|\n",
      "|(30,[0,11,13,16,1...|  0.0|       0.0|[0.53559164478294...|\n",
      "|(30,[0,11,13,16,1...|  0.0|       0.0|[0.54314386439407...|\n",
      "|(30,[0,11,13,16,1...|  0.0|       0.0|[0.54840623314502...|\n",
      "|(30,[0,11,13,16,1...|  0.0|       0.0|[0.54554477091896...|\n",
      "|(30,[0,11,13,16,1...|  0.0|       0.0|[0.54453411448176...|\n",
      "|(30,[0,11,13,16,1...|  0.0|       0.0|[0.53588731270707...|\n",
      "|(30,[0,11,13,16,1...|  0.0|       0.0|[0.54697589009436...|\n",
      "|(30,[0,11,13,16,1...|  0.0|       0.0|[0.51594732420818...|\n",
      "|(30,[0,11,13,16,1...|  0.0|       0.0|[0.54529214165929...|\n",
      "|(30,[0,11,13,16,1...|  0.0|       0.0|[0.54840623314502...|\n",
      "+--------------------+-----+----------+--------------------+\n",
      "only showing top 20 rows\n",
      "\n"
     ]
    }
   ],
   "source": [
    "lrPredictions = lrModel.transform(test)\n",
    "lrPredictions.select('features','label','prediction','probability').show()"
   ]
  },
  {
   "cell_type": "markdown",
   "metadata": {
    "id": "pCuhSzitDDhS"
   },
   "source": [
    "<div style=\"background:rgba(0,109,174,0.2);padding:10px;border-radius:4px\"><strong style=\"color:#006DAE\">NOTE: </strong>\n",
    "    Discuss various parameters used in <code>Logistic Regression</code>.\n",
    "</div>"
   ]
  },
  {
   "cell_type": "markdown",
   "metadata": {
    "id": "J8tGIeABDDhS"
   },
   "source": [
    "## Model Evaluation <a class=\"anchor\" name=\"model-evaluation\"></a>\n",
    "<hr />\n",
    "Our goal is not just to build a model, it is about selecting a model which gives high accuracy on our sample data. There are different kinds of evaluation metrics, the choice of these depend on the type and implementation plan. More details on evaluation metrics for classification in Spark can be found <a href=\"https://spark.apache.org/docs/latest/mllib-evaluation-metrics.html\" target=\"_BLANK\">here</a>.\n",
    "We are going to cover the following evaluation in this session:\n",
    "\n",
    "<ul>\n",
    "    <li>\n",
    "        Confusion Matrix\n",
    "        <ul>\n",
    "            <li>Accuracy</li>\n",
    "            <li>Precision</li>\n",
    "            <li>Recall</li>\n",
    "            <li>F1-Score</li>\n",
    "        </ul>\n",
    "    </li>\n",
    "    <li>AUC-ROC</li>        \n",
    "    </ul>\n",
    "\n",
    "#### Accuracy\n",
    "<span style=\"color:red;font-weight:bold\">Accuracy is useful when the target class is well balanced but is not a good choice with unbalanced classes.</span> For example, if a model is designed to predict fraud from a dataset where 95% of the data points are not fraud and 5% of the data points are fraud, then a naive classifier that predicts not fraud, regardless of input, will be 95% accurate. For this reason, metrics like precision and recall are typically used because they take into account the type of error. In most applications there is some desired balance between precision and recall, which can be captured by combining the two into a single metric, called the F-measure."
   ]
  },
  {
   "cell_type": "markdown",
   "metadata": {
    "id": "Asgl52EQDDhS"
   },
   "source": [
    "#### Confusion Matrix <a class=\"anchor\" name=\"confusion-matrix\"></a>\n",
    "\n",
    "Confusion Matrix is a performance measurement for machine learning classification problem where output can be two or more classes. It is a table with 4 different combinations of predicted and actual values as shown in the picture below where T/F refers to true and positive respectively, and P/N to positive and negative respectively.\n",
    "<div>\n",
    "    <div style=\"float:left;width:50%\">\n",
    "<img src=\"attachment:image.png\">\n",
    "    </div>\n",
    "    <div style=\"float:right;width:50%;padding-top:50px\">\n",
    "    <img src=\"https://miro.medium.com/max/1400/1*UVP_xb4F6J-M-xH3haz5Jw.png\">\n",
    "    </div>\n",
    "    <div style=\"clear:both\"></div>\n",
    "    </div>\n",
    "\n",
    "From the confusion matrix, we can obtain the following indicators.\n",
    "\n",
    "- **Recall:** Out of all the positive classes, how much we predicted correctly. It should be high as possible.\n",
    "- **Precision:** Out of all the positive classes we have predicted correctly, how many are actually positive.\n",
    "- **Accuracy:** Out of all the classes, how much we predicted correctly. It should be high as possible.\n",
    "- **F1-Score : Combining Precision and Accuracy:** It is the weighted average of Precision and Recall. It takes both <strong>False Positives</strong> and <strong>False Negative </strong> into account."
   ]
  },
  {
   "cell_type": "markdown",
   "metadata": {
    "id": "M84ZqJHqDDhS"
   },
   "source": [
    "<a class=\"anchor\" id=\"lab-task-2\"></a>\n",
    "<div style=\"background:rgba(0,109,174,0.2);padding:10px;border-radius:4px\"><strong style=\"color:#FF5555\">2. Lab Task: </strong>\n",
    "    Calculate the remaining <strong>False Negative and False Positive</strong> for <code>Decision Tree</code> based on the example below. Then Compute the other metrics, i.e. <strong>Accuracy</strong>, <strong>Precision</strong>, <strong>Recall</strong> and <strong>F1-Score</strong> for the DT Model.    \n",
    "</div>\n"
   ]
  },
  {
   "cell_type": "code",
   "execution_count": 14,
   "metadata": {
    "id": "eFSulXq3DDhS",
    "outputId": "d81d445f-c2c6-411a-b388-88bf11f08a56"
   },
   "outputs": [
    {
     "name": "stdout",
     "output_type": "stream",
     "text": [
      "+-----+----------+-----+\n",
      "|label|prediction|count|\n",
      "+-----+----------+-----+\n",
      "|  1.0|       1.0| 1393|\n",
      "|  0.0|       1.0|  535|\n",
      "|  1.0|       0.0|  232|\n",
      "|  0.0|       0.0| 1144|\n",
      "+-----+----------+-----+\n",
      "\n",
      "Accuracy: 0.7678571428571429\n",
      "Precision: 0.7225103734439834\n",
      "Recall: 0.8572307692307692\n"
     ]
    }
   ],
   "source": [
    "# Calculate the elements of the confusion matrix\n",
    "TN = dtPredictions.filter('prediction = 0 AND label = 0').count()\n",
    "TP = dtPredictions.filter('prediction = 1 AND label = 1').count()\n",
    "FN = dtPredictions.filter('prediction = 0 AND label =1').count()\n",
    "FP = dtPredictions.filter('prediction = 1 AND label =0').count()\n",
    "\n",
    "# show confusion matrix\n",
    "dtPredictions.groupBy('label', 'prediction').count().show()\n",
    "# calculate metrics by the confusion matrix\n",
    "accuracy = (TN + TP) / (TN + TP + FN + FP)\n",
    "precision = TP / (TP + FP)\n",
    "recall = TP / (TP + FN)\n",
    "\n",
    "print(f'Accuracy: {accuracy}')\n",
    "print(f'Precision: {precision}')\n",
    "print(f'Recall: {recall}')"
   ]
  },
  {
   "cell_type": "markdown",
   "metadata": {
    "id": "HMRa8TZ8DDhT"
   },
   "source": [
    "<a class=\"anchor\" id=\"lab-task-3\"></a>\n",
    "<div style=\"background:rgba(0,109,174,0.2);padding:10px;border-radius:4px\"><strong style=\"color:#FF5555\">3. Lab Task: </strong>\n",
    "    Create a function <code>compute_metrics()</code> which takes <strong>predictions</strong> as input parameter and computes all these metrics. Use the function to compute the 4 metrics for all 3 Classification Algorithms.\n",
    "</div>\n"
   ]
  },
  {
   "cell_type": "code",
   "execution_count": 15,
   "metadata": {
    "id": "T-Nq2Sv-DDhT"
   },
   "outputs": [],
   "source": [
    "def compute_metrics(predictions):\n",
    "    # Calculate the elements of the confusion matrix\n",
    "    TN = predictions.filter('prediction = 0 AND label = prediction').count()\n",
    "    TP = predictions.filter('prediction = 1 AND label = prediction').count()\n",
    "    FN = predictions.filter('prediction = 0 AND label <> prediction').count()\n",
    "    FP = predictions.filter('prediction = 1 AND label <> prediction').count()\n",
    "    \n",
    "    # calculate metrics by the confusion matrix\n",
    "    accuracy = (TN + TP) / (TN + TP + FN + FP)\n",
    "    precision = TP / (TP + FP)\n",
    "    recall = TP / (TP + FN)\n",
    "    f1 = 2/((1/recall)+(1/precision))\n",
    "    return accuracy,precision,recall,f1    "
   ]
  },
  {
   "cell_type": "code",
   "execution_count": 16,
   "metadata": {
    "id": "olgIqVN1DDhT",
    "outputId": "80dc7f82-982b-4308-b6e4-ce0957c5dd6d"
   },
   "outputs": [
    {
     "name": "stdout",
     "output_type": "stream",
     "text": [
      "Logistic regression: (0.5402542372881356, 0.8840579710144928, 0.07507692307692308, 0.1384004537719796)\n",
      "Decision Trees: (0.7678571428571429, 0.7225103734439834, 0.8572307692307692, 0.7841260906276386)\n",
      "Random Forest: (0.8069007263922519, 0.7963963963963964, 0.816, 0.8060790273556231)\n"
     ]
    }
   ],
   "source": [
    "#WRITE CODE : Print the accuracy,precision,recall and f1 scores for each Classification algorithm, using the function created\n",
    "print('Logistic regression:',compute_metrics(lrPredictions))\n",
    "print('Decision Trees:',compute_metrics(dtPredictions))\n",
    "print('Random Forest:',compute_metrics(rfPredictions))"
   ]
  },
  {
   "cell_type": "markdown",
   "metadata": {
    "id": "LYPg2sAzDDhU"
   },
   "source": [
    "<a class=\"anchor\" id=\"lab-task-4\"></a>\n",
    "<div style=\"background:rgba(0,109,174,0.2);padding:10px;border-radius:4px\"><strong style=\"color:#FF5555\">4. Lab Task: </strong>\n",
    "  Present the accuracies, precision and recall of the different classification algorithms in a bar chart using <code>matplotlib</code>.  You can use the function given here:\n",
    "    <pre>\n",
    "    import matplotlib.pyplot as plt\n",
    "    %matplotlib inline\n",
    "    def plot_metrics(x,y):\n",
    "        plt.style.use('ggplot')   \n",
    "        x_pos = [i for i, _ in enumerate(x)]\n",
    "        plt.bar(x_pos, y, color='blue')\n",
    "        plt.xlabel(\"Classification Algorithms\")\n",
    "        plt.ylabel(\"AUC\")\n",
    "        plt.title(\"Accuracy of ML Classification Algorithms\")\n",
    "        plt.xticks(x_pos, x)\n",
    "        plt.show()\n",
    "    </pre>\n",
    "What do you observe about the differences in the accuracy/precision/recall/f1-scores for these different classification algorithms? How do you decide the most suitable metric? Discuss this with your tutor.   \n",
    "</div>\n"
   ]
  },
  {
   "cell_type": "code",
   "execution_count": 17,
   "metadata": {
    "id": "CKgv0AFpDDhU"
   },
   "outputs": [],
   "source": [
    "import numpy as np\n",
    "import matplotlib.pyplot as plt\n",
    "%matplotlib inline\n",
    "\n",
    "\n",
    "lr_acc,lr_pr,lr_rec,lr_f1=compute_metrics(lrPredictions)\n",
    "dt_acc,dt_pr,dt_rec,dt_f1=compute_metrics(dtPredictions)\n",
    "rf_acc,rf_pr,rf_rec,rf_f1=compute_metrics(rfPredictions)"
   ]
  },
  {
   "cell_type": "code",
   "execution_count": 18,
   "metadata": {
    "id": "teM_x4vhDDhU",
    "outputId": "da693591-883c-433f-c8cc-b8d35a4f771d"
   },
   "outputs": [
    {
     "data": {
      "image/png": "[encoded data removed]",
      "text/plain": [
       "<Figure size 640x480 with 1 Axes>"
      ]
     },
     "metadata": {},
     "output_type": "display_data"
    }
   ],
   "source": [
    "y_acc=[lr_acc,dt_acc,rf_acc]\n",
    "y_pr=[lr_pr,dt_pr,rf_pr]\n",
    "y_rec=[lr_rec,dt_rec,rf_rec]\n",
    "\n",
    "# set width of bar\n",
    "barWidth = 0.25\n",
    "    \n",
    "# Set position of bar on X axis\n",
    "r1 = np.arange(len(y_acc))\n",
    "r2 = [x + barWidth for x in r1]\n",
    "r3 = [x + barWidth for x in r2]\n",
    "\n",
    "# Make the plot\n",
    "plt.bar(r1, y_acc, color='#7f6d5f', width=barWidth, edgecolor='white', label='Accuracy')\n",
    "plt.bar(r2, y_pr, color='#557f2d', width=barWidth, edgecolor='white', label='Precision')\n",
    "plt.bar(r3, y_rec, color='#2d7f5e', width=barWidth, edgecolor='white', label='Recall')\n",
    " \n",
    "# Add xticks on the middle of the group bars\n",
    "plt.xlabel('group', fontweight='bold')\n",
    "plt.xticks([r + barWidth for r in range(len(y_acc))], ['LR', 'DT', 'RF'])\n",
    " \n",
    "# Create legend & Show graphic\n",
    "plt.legend()\n",
    "plt.show()\n"
   ]
  },
  {
   "cell_type": "markdown",
   "metadata": {
    "id": "Z6YMb-iEDDhU"
   },
   "source": [
    "#### Area Under the Curve (AUC-ROC) <a class=\"anchor\" name=\"roc\"></a>\n",
    "When we need to check or visualize the performance of the multi - class classification problem, we use AUC (Area Under The Curve) ROC (Receiver Operating Characteristics) curve. It is one of the most important evaluation metrics for checking any classification model’s performance.\n",
    "\n",
    "<br/><br/>\n",
    "\n",
    "<div style=\"width:40%;float:left;text-align:left;\">\n",
    "<img src=\"attachment:image.png\" width=\"200px;\">\n",
    "    </div><div style=\"width:60%;float:right;text-align:justify\">\n",
    "AUC - ROC curve is a performance measurement for classification problem at various thresholds settings. ROC is a probability curve and AUC represents degree or measure of separability. It tells how much model is capable of distinguishing between classes. Higher the AUC, better the model is at predicting 0s as 0s and 1s as 1s.\n",
    "    \n",
    "In the example below, we are using Spark's <code>BinaryClassificationEvaluator</code> to compute the AUC-ROC curve.\n",
    "   </div>\n",
    "   <div style=\"clear:both\"></div> "
   ]
  },
  {
   "cell_type": "markdown",
   "metadata": {
    "id": "wl0btBJDDDhU"
   },
   "source": [
    "##### Binary Classification Metrics <a class=\"anchor\" name=\"bce\"></a> \n",
    "Now let's evaluate the model using BinaryClassificationMetrics class in Spark ML. BinaryClassificationMetrics by default uses areaUnderROC as the performance metric.\n",
    "<a href=\"https://spark.apache.org/docs/latest/mllib-evaluation-metrics.html#binary-classification\" target='_BLANK'>Read More</a>"
   ]
  },
  {
   "cell_type": "markdown",
   "metadata": {
    "id": "D3WziQ4ADDhU"
   },
   "source": [
    "<a class=\"anchor\" id=\"lab-task-5\"></a>\n",
    "<div style=\"background:rgba(0,109,174,0.2);padding:10px;border-radius:4px\"><strong style=\"color:#FF5555\">5. Lab Task: </strong>\n",
    "    Compute the <code>Area Under ROC</code> for the two other Algorithms based on the example below.\n",
    "</div>\n"
   ]
  },
  {
   "cell_type": "code",
   "execution_count": 19,
   "metadata": {
    "id": "zSLZsUNtDDhU",
    "outputId": "f1c0e63b-a37a-43b1-a701-bd452cda1a16"
   },
   "outputs": [
    {
     "name": "stdout",
     "output_type": "stream",
     "text": [
      "0.7783094332707198\n",
      "areaUnderROC\n"
     ]
    }
   ],
   "source": [
    "# Use BinaryClassificationEvaluator to evaluate a model\n",
    "from pyspark.ml.evaluation import BinaryClassificationEvaluator\n",
    "\n",
    "# Evaluate model Decision Tree\n",
    "evaluator = BinaryClassificationEvaluator(rawPredictionCol=\"rawPrediction\")\n",
    "auc_dt = evaluator.evaluate(dtPredictions)\n",
    "print(auc_dt)\n",
    "print(evaluator.getMetricName())"
   ]
  },
  {
   "cell_type": "code",
   "execution_count": 20,
   "metadata": {
    "id": "o-63aAp3DDhV",
    "outputId": "90e6186b-953c-46e2-98dd-c341b2cfba17"
   },
   "outputs": [
    {
     "name": "stdout",
     "output_type": "stream",
     "text": [
      "0.8765228386860314\n",
      "areaUnderROC\n"
     ]
    }
   ],
   "source": [
    "#WRITE CODE : area under curve for Random Forest\n",
    "#random forest\n",
    "evaluator = BinaryClassificationEvaluator(rawPredictionCol=\"rawPrediction\")\n",
    "auc_rf = evaluator.evaluate(rfPredictions)\n",
    "print(auc_rf)\n",
    "print(evaluator.getMetricName())"
   ]
  },
  {
   "cell_type": "code",
   "execution_count": 21,
   "metadata": {
    "id": "FAm9BrsqDDhV",
    "outputId": "bf275a3e-0251-4dc9-bae7-90cf6046abc7"
   },
   "outputs": [
    {
     "name": "stdout",
     "output_type": "stream",
     "text": [
      "0.7994241993860816\n",
      "areaUnderROC\n"
     ]
    }
   ],
   "source": [
    "#WRITE CODE : area under curve for Logistic Regression\n",
    "#logistic Regression\n",
    "evaluator = BinaryClassificationEvaluator(rawPredictionCol=\"rawPrediction\")\n",
    "auc_lr = evaluator.evaluate(lrPredictions)\n",
    "print(auc_lr)\n",
    "print(evaluator.getMetricName())"
   ]
  },
  {
   "cell_type": "markdown",
   "metadata": {
    "id": "V7M94urXDDhV"
   },
   "source": [
    "### Visualizing AUC-ROC <a class=\"anchor\" name=\"roc-viz\"></a> \n",
    "We can easily visualize the ROC curve for <strong>Logistic Regression</strong> using the <code>BinaryClassificationEvaluator</code>. The example below shows how to plot it using matplotlib.\n"
   ]
  },
  {
   "cell_type": "code",
   "execution_count": 22,
   "metadata": {
    "id": "AWMa1Ns2DDhV",
    "outputId": "33c738e4-7c36-4a5c-9fad-7a7bc48d5bcd"
   },
   "outputs": [
    {
     "name": "stdout",
     "output_type": "stream",
     "text": [
      "Area Under ROC: 0.7994241993860816\n"
     ]
    },
    {
     "data": {
      "image/png": "[encoded data removed]",
      "text/plain": [
       "<Figure size 640x480 with 1 Axes>"
      ]
     },
     "metadata": {},
     "output_type": "display_data"
    }
   ],
   "source": [
    "import matplotlib.pyplot as plt\n",
    "\n",
    "print(\"Area Under ROC: \" + str(evaluator.evaluate(lrPredictions, {evaluator.metricName: \"areaUnderROC\"})))\n",
    "\n",
    "# Plot ROC curve\n",
    "trainingSummary = lrModel.summary\n",
    "roc = trainingSummary.roc.toPandas()\n",
    "plt.plot(roc['FPR'],roc['TPR'])\n",
    "plt.ylabel('TPR')\n",
    "plt.xlabel('FPR')\n",
    "plt.title('ROC Curve')\n",
    "plt.show()"
   ]
  },
  {
   "cell_type": "markdown",
   "metadata": {
    "id": "gYo2w7UWDDhV"
   },
   "source": [
    "<div style=\"background:rgba(164,0,255,0.2);padding:10px;border-radius:4px\">\n",
    "However, for other algorithms, we need to calculate it manually. The ROC Curve is simply a line plot of <code>FPR</code> and <code>TPR</code> across all thresholds (i.e. 0-1). We can calculate <code>TPR</code> and <code>FPR</code> from the confusion matrix. However, by default, a threshold value of 0.5 is used while computing the confusion matrix. So we need a way to compute the confusion matrix for different thresholds.</div>"
   ]
  },
  {
   "cell_type": "markdown",
   "metadata": {
    "id": "x6eOCLtuDDhV"
   },
   "source": [
    "##### Getting the thresholds\n",
    "We can simply use numpy <code>linspace</code> to get a list of thresholds."
   ]
  },
  {
   "cell_type": "code",
   "execution_count": 23,
   "metadata": {
    "id": "n5xRBFdFDDhW",
    "outputId": "6f56bbd2-848b-4d1c-f972-de289868e967"
   },
   "outputs": [
    {
     "name": "stdout",
     "output_type": "stream",
     "text": [
      "[0.         0.01010101 0.02020202 0.03030303 0.04040404 0.05050505\n",
      " 0.06060606 0.07070707 0.08080808 0.09090909 0.1010101  0.11111111\n",
      " 0.12121212 0.13131313 0.14141414 0.15151515 0.16161616 0.17171717\n",
      " 0.18181818 0.19191919 0.2020202  0.21212121 0.22222222 0.23232323\n",
      " 0.24242424 0.25252525 0.26262626 0.27272727 0.28282828 0.29292929\n",
      " 0.3030303  0.31313131 0.32323232 0.33333333 0.34343434 0.35353535\n",
      " 0.36363636 0.37373737 0.38383838 0.39393939 0.4040404  0.41414141\n",
      " 0.42424242 0.43434343 0.44444444 0.45454545 0.46464646 0.47474747\n",
      " 0.48484848 0.49494949 0.50505051 0.51515152 0.52525253 0.53535354\n",
      " 0.54545455 0.55555556 0.56565657 0.57575758 0.58585859 0.5959596\n",
      " 0.60606061 0.61616162 0.62626263 0.63636364 0.64646465 0.65656566\n",
      " 0.66666667 0.67676768 0.68686869 0.6969697  0.70707071 0.71717172\n",
      " 0.72727273 0.73737374 0.74747475 0.75757576 0.76767677 0.77777778\n",
      " 0.78787879 0.7979798  0.80808081 0.81818182 0.82828283 0.83838384\n",
      " 0.84848485 0.85858586 0.86868687 0.87878788 0.88888889 0.8989899\n",
      " 0.90909091 0.91919192 0.92929293 0.93939394 0.94949495 0.95959596\n",
      " 0.96969697 0.97979798 0.98989899 1.        ]\n"
     ]
    }
   ],
   "source": [
    "import numpy as np\n",
    "print(np.linspace(0, 1, 100))"
   ]
  },
  {
   "cell_type": "markdown",
   "metadata": {
    "id": "hnbL1kKBDDhW"
   },
   "source": [
    "If we look at the <code>probability</code> column of the predictions, we will see it is an <code>Array</code> with two probability values, the first one for negative class and the second one for positive class. Now we can consider the <strong>probability for positive class</strong> to decide which value is <strong>positive</strong> and which value is <strong>negative</strong>\n",
    "\n",
    "For example, if our threshold is 0.7, we can say <strong>if the positive probability is greater than 0.7, it is a positive prediction else it is a negative prediction</strong>. \n",
    "\n",
    "Here is an example for the Decision Tree Predictions."
   ]
  },
  {
   "cell_type": "code",
   "execution_count": 24,
   "metadata": {
    "id": "vYg0sS9eDDhW"
   },
   "outputs": [],
   "source": [
    "#User Defined Function to split the probabilities into two columns\n",
    "import pyspark.sql.functions as F\n",
    "import pyspark.sql.types as T\n",
    "to_array = F.udf(lambda v: v.toArray().tolist(), T.ArrayType(T.FloatType()))"
   ]
  },
  {
   "cell_type": "code",
   "execution_count": 25,
   "metadata": {
    "id": "lfKwRQ4-DDhW"
   },
   "outputs": [],
   "source": [
    "#Splitting the probability to 2 parts using the UDF\n",
    "df = dtPredictions.withColumn('probability', to_array('probability'))"
   ]
  },
  {
   "cell_type": "code",
   "execution_count": 26,
   "metadata": {
    "id": "ZyMGOOkJDDhW"
   },
   "outputs": [],
   "source": [
    "#A new df which contains the probabilites in separate columns\n",
    "prob_df = df.select(df.probability[0].alias('negative_prob'),df.probability[1].alias('positive_prob'),'label')"
   ]
  },
  {
   "cell_type": "markdown",
   "metadata": {
    "id": "4RUGlD10DDhW"
   },
   "source": [
    "Now, we have extracted the probabilities for positive and negative class. Now we need to create our own <code>prediction</code> column based on a threshold we are provided."
   ]
  },
  {
   "cell_type": "code",
   "execution_count": 27,
   "metadata": {
    "id": "hHotV8qLDDhW",
    "outputId": "cfc5484d-c6cd-4c0b-803b-e590e74f8acb"
   },
   "outputs": [
    {
     "data": {
      "text/plain": [
       "DataFrame[negative_prob: float, positive_prob: float, label: double, prediction: int]"
      ]
     },
     "execution_count": 27,
     "metadata": {},
     "output_type": "execute_result"
    }
   ],
   "source": [
    "#Here based on the threshold, the prediction column is computed\n",
    "threshold=0.7\n",
    "prob_df.withColumn('prediction',F.when(prob_df.positive_prob > threshold,1).otherwise(0))"
   ]
  },
  {
   "cell_type": "markdown",
   "metadata": {
    "id": "-iMx1zNCDDhW"
   },
   "source": [
    "Now we can create the confusion metrics based on the new predicted class. Let's create a function to do that. The function returns the TN,TP,FN and FP values.\n",
    "\n",
    "CHALLENGE TASK: the following confusion_matrix function is slow, why is it so slow? Can you refactor it?\n",
    "\n",
    "Possible solution - use groupby('prediction', 'label').count() to calculate the counts instead of doing it four times"
   ]
  },
  {
   "cell_type": "code",
   "execution_count": 28,
   "metadata": {
    "id": "IAFgFf6CDDhX"
   },
   "outputs": [],
   "source": [
    "def confusion_matrix(predictions):\n",
    "     # Calculate the elements of the confusion matrix\n",
    "    TN = predictions.filter('prediction = 0 AND label = 0').count()\n",
    "    TP = predictions.filter('prediction = 1 AND label = 1').count()\n",
    "    FN = predictions.filter('prediction = 0 AND label = 1').count()\n",
    "    FP = predictions.filter('prediction = 1 AND label = 0').count()\n",
    "    return TP,TN,FP,FN"
   ]
  },
  {
   "cell_type": "code",
   "execution_count": 29,
   "metadata": {
    "id": "M6u2hYeVDDhX",
    "outputId": "0a7f59d7-cdf8-4776-dfce-471a779b63e4"
   },
   "outputs": [
    {
     "name": "stdout",
     "output_type": "stream",
     "text": [
      "TPR: 0.8572307692307692 FPR: 0.3186420488385944\n"
     ]
    }
   ],
   "source": [
    "#TESTING \n",
    "#for threshold 0.7, lets calculate the TN,TP,FN,FP from confusion matrix\n",
    "threshold=0.7\n",
    "test_df=prob_df.withColumn('prediction',F.when(prob_df.positive_prob > threshold,1).otherwise(0))\n",
    "tp,tn,fp,fn = confusion_matrix(prob_df)  \n",
    "tpr = tp/(tp+fn)\n",
    "fpr = fp/(fp+tn)\n",
    "print('TPR:',tpr,'FPR:',fpr)"
   ]
  },
  {
   "cell_type": "markdown",
   "metadata": {
    "id": "lD1GLG8VDDhX"
   },
   "source": [
    "<a class=\"anchor\" id=\"challenge-task\"></a>\n",
    "<div style=\"background:rgba(164,0,255,0.2);padding:10px;border-radius:4px\"><strong style=\"color:purple\">CHALLENGE TASK: </strong>\n",
    "    Based on all the above information, create a function, which loops through all the thresholds and computes the <code>TPR</code> and <code>TFR</code> for each threshold. Store all the <code>TPR</code> and <code>TFR</code> values in separate arrays and later visualize the <strong>ROC Curve</strong> for <strong>Decision Tree</strong> and <strong>Random Forest</strong>.\n",
    "</div>\n"
   ]
  },
  {
   "cell_type": "code",
   "execution_count": 30,
   "metadata": {
    "id": "ZHMytIGKDDhX",
    "outputId": "019ea825-e39d-4de0-f369-e9bcd06a7cf3"
   },
   "outputs": [
    {
     "name": "stdout",
     "output_type": "stream",
     "text": [
      "Threshold: 0.0 TPR: 1.0 FPR: 1.0\n",
      "Threshold: 0.010101010101010102 TPR: 1.0 FPR: 1.0\n",
      "Threshold: 0.020202020202020204 TPR: 1.0 FPR: 1.0\n",
      "Threshold: 0.030303030303030304 TPR: 1.0 FPR: 1.0\n",
      "Threshold: 0.04040404040404041 TPR: 1.0 FPR: 1.0\n",
      "Threshold: 0.05050505050505051 TPR: 1.0 FPR: 1.0\n",
      "Threshold: 0.06060606060606061 TPR: 1.0 FPR: 1.0\n",
      "Threshold: 0.07070707070707072 TPR: 1.0 FPR: 1.0\n",
      "Threshold: 0.08080808080808081 TPR: 0.9938461538461538 FPR: 0.9058963668850506\n",
      "Threshold: 0.09090909090909091 TPR: 0.9938461538461538 FPR: 0.9058963668850506\n",
      "Threshold: 0.10101010101010102 TPR: 0.9938461538461538 FPR: 0.9058963668850506\n",
      "Threshold: 0.11111111111111112 TPR: 0.9938461538461538 FPR: 0.9058963668850506\n",
      "Threshold: 0.12121212121212122 TPR: 0.9938461538461538 FPR: 0.9058963668850506\n",
      "Threshold: 0.13131313131313133 TPR: 0.9938461538461538 FPR: 0.9058963668850506\n",
      "Threshold: 0.14141414141414144 TPR: 0.9938461538461538 FPR: 0.9058963668850506\n",
      "Threshold: 0.15151515151515152 TPR: 0.9938461538461538 FPR: 0.9058963668850506\n",
      "Threshold: 0.16161616161616163 TPR: 0.8572307692307692 FPR: 0.3186420488385944\n",
      "Threshold: 0.17171717171717174 TPR: 0.8572307692307692 FPR: 0.3186420488385944\n",
      "Threshold: 0.18181818181818182 TPR: 0.8572307692307692 FPR: 0.3186420488385944\n",
      "Threshold: 0.19191919191919193 TPR: 0.8572307692307692 FPR: 0.3186420488385944\n",
      "Threshold: 0.20202020202020204 TPR: 0.8572307692307692 FPR: 0.3186420488385944\n",
      "Threshold: 0.21212121212121213 TPR: 0.8572307692307692 FPR: 0.3186420488385944\n",
      "Threshold: 0.22222222222222224 TPR: 0.8572307692307692 FPR: 0.3186420488385944\n",
      "Threshold: 0.23232323232323235 TPR: 0.8572307692307692 FPR: 0.3186420488385944\n",
      "Threshold: 0.24242424242424243 TPR: 0.8572307692307692 FPR: 0.3186420488385944\n",
      "Threshold: 0.25252525252525254 TPR: 0.8572307692307692 FPR: 0.3186420488385944\n",
      "Threshold: 0.26262626262626265 TPR: 0.8572307692307692 FPR: 0.3186420488385944\n",
      "Threshold: 0.27272727272727276 TPR: 0.8572307692307692 FPR: 0.3186420488385944\n",
      "Threshold: 0.2828282828282829 TPR: 0.8572307692307692 FPR: 0.3186420488385944\n",
      "Threshold: 0.29292929292929293 TPR: 0.8572307692307692 FPR: 0.3186420488385944\n",
      "Threshold: 0.30303030303030304 TPR: 0.8572307692307692 FPR: 0.3186420488385944\n",
      "Threshold: 0.31313131313131315 TPR: 0.8572307692307692 FPR: 0.3186420488385944\n",
      "Threshold: 0.32323232323232326 TPR: 0.8572307692307692 FPR: 0.3186420488385944\n",
      "Threshold: 0.33333333333333337 TPR: 0.8572307692307692 FPR: 0.3186420488385944\n",
      "Threshold: 0.3434343434343435 TPR: 0.8572307692307692 FPR: 0.3186420488385944\n",
      "Threshold: 0.3535353535353536 TPR: 0.8572307692307692 FPR: 0.3186420488385944\n",
      "Threshold: 0.36363636363636365 TPR: 0.8572307692307692 FPR: 0.3186420488385944\n",
      "Threshold: 0.37373737373737376 TPR: 0.8572307692307692 FPR: 0.3186420488385944\n",
      "Threshold: 0.38383838383838387 TPR: 0.8572307692307692 FPR: 0.3186420488385944\n",
      "Threshold: 0.393939393939394 TPR: 0.8572307692307692 FPR: 0.3186420488385944\n",
      "Threshold: 0.4040404040404041 TPR: 0.8572307692307692 FPR: 0.3186420488385944\n",
      "Threshold: 0.4141414141414142 TPR: 0.8572307692307692 FPR: 0.3186420488385944\n",
      "Threshold: 0.42424242424242425 TPR: 0.8572307692307692 FPR: 0.3186420488385944\n",
      "Threshold: 0.43434343434343436 TPR: 0.8572307692307692 FPR: 0.3186420488385944\n",
      "Threshold: 0.4444444444444445 TPR: 0.8572307692307692 FPR: 0.3186420488385944\n",
      "Threshold: 0.4545454545454546 TPR: 0.8572307692307692 FPR: 0.3186420488385944\n",
      "Threshold: 0.4646464646464647 TPR: 0.8572307692307692 FPR: 0.3186420488385944\n",
      "Threshold: 0.4747474747474748 TPR: 0.8572307692307692 FPR: 0.3186420488385944\n",
      "Threshold: 0.48484848484848486 TPR: 0.8572307692307692 FPR: 0.3186420488385944\n",
      "Threshold: 0.494949494949495 TPR: 0.8572307692307692 FPR: 0.3186420488385944\n",
      "Threshold: 0.5050505050505051 TPR: 0.8572307692307692 FPR: 0.3186420488385944\n",
      "Threshold: 0.5151515151515152 TPR: 0.8572307692307692 FPR: 0.3186420488385944\n",
      "Threshold: 0.5252525252525253 TPR: 0.8572307692307692 FPR: 0.3186420488385944\n",
      "Threshold: 0.5353535353535354 TPR: 0.8572307692307692 FPR: 0.3186420488385944\n",
      "Threshold: 0.5454545454545455 TPR: 0.8572307692307692 FPR: 0.3186420488385944\n",
      "Threshold: 0.5555555555555556 TPR: 0.8572307692307692 FPR: 0.3186420488385944\n",
      "Threshold: 0.5656565656565657 TPR: 0.8572307692307692 FPR: 0.3186420488385944\n",
      "Threshold: 0.5757575757575758 TPR: 0.8572307692307692 FPR: 0.3186420488385944\n",
      "Threshold: 0.5858585858585859 TPR: 0.8572307692307692 FPR: 0.3186420488385944\n",
      "Threshold: 0.595959595959596 TPR: 0.8572307692307692 FPR: 0.3186420488385944\n",
      "Threshold: 0.6060606060606061 TPR: 0.5224615384615384 FPR: 0.11197141155449672\n",
      "Threshold: 0.6161616161616162 TPR: 0.5224615384615384 FPR: 0.11197141155449672\n",
      "Threshold: 0.6262626262626263 TPR: 0.5224615384615384 FPR: 0.11197141155449672\n",
      "Threshold: 0.6363636363636365 TPR: 0.5224615384615384 FPR: 0.11197141155449672\n",
      "Threshold: 0.6464646464646465 TPR: 0.5224615384615384 FPR: 0.11197141155449672\n",
      "Threshold: 0.6565656565656566 TPR: 0.5224615384615384 FPR: 0.11197141155449672\n",
      "Threshold: 0.6666666666666667 TPR: 0.5224615384615384 FPR: 0.11197141155449672\n",
      "Threshold: 0.6767676767676768 TPR: 0.5224615384615384 FPR: 0.11197141155449672\n",
      "Threshold: 0.686868686868687 TPR: 0.5224615384615384 FPR: 0.11197141155449672\n",
      "Threshold: 0.696969696969697 TPR: 0.5224615384615384 FPR: 0.11197141155449672\n",
      "Threshold: 0.7070707070707072 TPR: 0.5224615384615384 FPR: 0.11197141155449672\n",
      "Threshold: 0.7171717171717172 TPR: 0.5224615384615384 FPR: 0.11197141155449672\n",
      "Threshold: 0.7272727272727273 TPR: 0.5224615384615384 FPR: 0.11197141155449672\n",
      "Threshold: 0.7373737373737375 TPR: 0.5224615384615384 FPR: 0.11197141155449672\n",
      "Threshold: 0.7474747474747475 TPR: 0.5224615384615384 FPR: 0.11197141155449672\n",
      "Threshold: 0.7575757575757577 TPR: 0.5224615384615384 FPR: 0.11197141155449672\n",
      "Threshold: 0.7676767676767677 TPR: 0.5224615384615384 FPR: 0.11197141155449672\n",
      "Threshold: 0.7777777777777778 TPR: 0.5224615384615384 FPR: 0.11197141155449672\n",
      "Threshold: 0.787878787878788 TPR: 0.5224615384615384 FPR: 0.11197141155449672\n",
      "Threshold: 0.797979797979798 TPR: 0.48 FPR: 0.10482430017867779\n",
      "Threshold: 0.8080808080808082 TPR: 0.0 FPR: 0.0\n",
      "Threshold: 0.8181818181818182 TPR: 0.0 FPR: 0.0\n",
      "Threshold: 0.8282828282828284 TPR: 0.0 FPR: 0.0\n",
      "Threshold: 0.8383838383838385 TPR: 0.0 FPR: 0.0\n",
      "Threshold: 0.8484848484848485 TPR: 0.0 FPR: 0.0\n",
      "Threshold: 0.8585858585858587 TPR: 0.0 FPR: 0.0\n",
      "Threshold: 0.8686868686868687 TPR: 0.0 FPR: 0.0\n",
      "Threshold: 0.8787878787878789 TPR: 0.0 FPR: 0.0\n",
      "Threshold: 0.888888888888889 TPR: 0.0 FPR: 0.0\n",
      "Threshold: 0.8989898989898991 TPR: 0.0 FPR: 0.0\n",
      "Threshold: 0.9090909090909092 TPR: 0.0 FPR: 0.0\n",
      "Threshold: 0.9191919191919192 TPR: 0.0 FPR: 0.0\n",
      "Threshold: 0.9292929292929294 TPR: 0.0 FPR: 0.0\n",
      "Threshold: 0.9393939393939394 TPR: 0.0 FPR: 0.0\n",
      "Threshold: 0.9494949494949496 TPR: 0.0 FPR: 0.0\n",
      "Threshold: 0.9595959595959597 TPR: 0.0 FPR: 0.0\n",
      "Threshold: 0.9696969696969697 TPR: 0.0 FPR: 0.0\n",
      "Threshold: 0.9797979797979799 TPR: 0.0 FPR: 0.0\n",
      "Threshold: 0.98989898989899 TPR: 0.0 FPR: 0.0\n",
      "Threshold: 1.0 TPR: 0.0 FPR: 0.0\n"
     ]
    },
    {
     "data": {
      "image/png": "[encoded data removed]",
      "text/plain": [
       "<Figure size 1000x700 with 1 Axes>"
      ]
     },
     "metadata": {},
     "output_type": "display_data"
    }
   ],
   "source": [
    "#WRITE CODE \n",
    "import numpy as np\n",
    "roc_values = []\n",
    "for threshold in np.linspace(0, 1, 100):        \n",
    "        prob_df=prob_df.withColumn('prediction',F.when(prob_df.positive_prob > threshold,1).otherwise(0))\n",
    "        tp,tn,fp,fn = confusion_matrix(prob_df)  \n",
    "        tpr = tp/(tp+fn)\n",
    "        fpr = fp/(fp+tn)\n",
    "        print('Threshold:',threshold,'TPR:',tpr,'FPR:',fpr)\n",
    "        roc_values.append([tpr, fpr])\n",
    "tpr_values, fpr_values = zip(*roc_values)\n",
    "\n",
    "fig, ax = plt.subplots(figsize=(10,7))\n",
    "ax.plot(fpr_values,tpr_values)\n",
    "ax.plot(np.linspace(0, 1, 100),\n",
    "         np.linspace(0, 1, 100),\n",
    "         label='baseline',\n",
    "         linestyle='--')\n",
    "plt.title('Receiver Operating Characteristic Curve', fontsize=18)\n",
    "plt.ylabel('TPR', fontsize=16)\n",
    "plt.xlabel('FPR', fontsize=16)\n",
    "plt.legend(fontsize=12);"
   ]
  },
  {
   "cell_type": "code",
   "execution_count": 31,
   "metadata": {
    "id": "U7c5tCOyDDhX"
   },
   "outputs": [
    {
     "name": "stderr",
     "output_type": "stream",
     "text": [
      "/opt/conda/lib/python3.10/site-packages/pyspark/sql/context.py:157: FutureWarning: Deprecated in 3.0.0. Use SparkSession.builder.getOrCreate() instead.\n",
      "  warnings.warn(\n"
     ]
    },
    {
     "data": {
      "text/plain": [
       "[<matplotlib.lines.Line2D at 0x7f968fb70520>]"
      ]
     },
     "execution_count": 31,
     "metadata": {},
     "output_type": "execute_result"
    },
    {
     "data": {
      "image/png": "[encoded data removed]",
      "text/plain": [
       "<Figure size 640x480 with 1 Axes>"
      ]
     },
     "metadata": {},
     "output_type": "display_data"
    }
   ],
   "source": [
    "# Alternative solutions to get the fpr and tpr, \n",
    "# Referenced from https://stackoverflow.com/questions/52847408/pyspark-extract-roc-curve\n",
    "\n",
    "from pyspark.mllib.evaluation import BinaryClassificationMetrics\n",
    "\n",
    "# Scala version implements .roc() and .pr()\n",
    "# Python: https://spark.apache.org/docs/latest/api/python/_modules/pyspark/mllib/common.html\n",
    "# Scala: https://spark.apache.org/docs/latest/api/java/org/apache/spark/mllib/evaluation/BinaryClassificationMetrics.html\n",
    "class CurveMetrics(BinaryClassificationMetrics):\n",
    "    def __init__(self, *args):\n",
    "        super(CurveMetrics, self).__init__(*args)\n",
    "\n",
    "    def _to_list(self, rdd):\n",
    "        points = []\n",
    "        # Note this collect could be inefficient for large datasets \n",
    "        # considering there may be one probability per datapoint (at most)\n",
    "        # The Scala version takes a numBins parameter, \n",
    "        # but it doesn't seem possible to pass this from Python to Java\n",
    "        for row in rdd.collect():\n",
    "            # Results are returned as type scala.Tuple2, \n",
    "            # which doesn't appear to have a py4j mapping\n",
    "            points += [(float(row._1()), float(row._2()))]\n",
    "        return points\n",
    "\n",
    "    def get_curve(self, method):\n",
    "        rdd = getattr(self._java_model, method)().toJavaRDD()\n",
    "        return self._to_list(rdd)\n",
    "\n",
    "preds = df.select('label','probability').rdd.map(lambda row: (float(row['probability'][1]), float(row['label'])))\n",
    "points = CurveMetrics(preds).get_curve('roc')\n",
    "\n",
    "plt.figure()\n",
    "x_val = [x[0] for x in points]\n",
    "y_val = [x[1] for x in points]\n",
    "plt.title(\"ROC Curve\")\n",
    "plt.xlabel(\"FPR\")\n",
    "plt.ylabel(\"TPR\")\n",
    "plt.plot(x_val, y_val)"
   ]
  },
  {
   "cell_type": "code",
   "execution_count": 32,
   "metadata": {},
   "outputs": [
    {
     "name": "stdout",
     "output_type": "stream",
     "text": [
      "+-------------+-------------+-----+----------+\n",
      "|negative_prob|positive_prob|label|prediction|\n",
      "+-------------+-------------+-----+----------+\n",
      "|    0.8457143|   0.15428571|  0.0|         0|\n",
      "|    0.8457143|   0.15428571|  0.0|         0|\n",
      "|    0.3965602|    0.6034398|  0.0|         0|\n",
      "|    0.8457143|   0.15428571|  0.0|         0|\n",
      "|    0.8457143|   0.15428571|  0.0|         0|\n",
      "|    0.8457143|   0.15428571|  0.0|         0|\n",
      "|    0.8457143|   0.15428571|  0.0|         0|\n",
      "|    0.8457143|   0.15428571|  0.0|         0|\n",
      "|    0.8457143|   0.15428571|  0.0|         0|\n",
      "|    0.3965602|    0.6034398|  0.0|         0|\n",
      "|    0.3965602|    0.6034398|  0.0|         0|\n",
      "|    0.8457143|   0.15428571|  0.0|         0|\n",
      "|    0.8457143|   0.15428571|  0.0|         0|\n",
      "|   0.20560747|    0.7943925|  0.0|         0|\n",
      "|    0.8457143|   0.15428571|  0.0|         0|\n",
      "|   0.92890996|   0.07109005|  0.0|         0|\n",
      "|    0.8457143|   0.15428571|  0.0|         0|\n",
      "|   0.19665462|    0.8033454|  0.0|         0|\n",
      "|    0.8457143|   0.15428571|  0.0|         0|\n",
      "|    0.8457143|   0.15428571|  0.0|         0|\n",
      "+-------------+-------------+-----+----------+\n",
      "only showing top 20 rows\n",
      "\n"
     ]
    }
   ],
   "source": [
    "prob_df.show()"
   ]
  },
  {
   "cell_type": "markdown",
   "metadata": {
    "id": "t07SSY9QDDhX"
   },
   "source": [
    "### Congratulations on finishing this activity. See you next week."
   ]
  },
  {
   "cell_type": "markdown",
   "metadata": {
    "id": "ZfU_e0FWDDhY"
   },
   "source": [
    "## References\n",
    "\n",
    "1. https://www.kdnuggets.com/2020/04/performance-evaluation-metrics-classification.html\n",
    "2. https://spark.apache.org/docs/latest/mllib-evaluation-metrics.html"
   ]
  }
 ],
 "metadata": {
  "colab": {
   "name": "Week6_Classification Algorithms sample solution.ipynb",
   "provenance": []
  },
  "kernelspec": {
   "display_name": "Python 3 (ipykernel)",
   "language": "python",
   "name": "python3"
  },
  "language_info": {
   "codemirror_mode": {
    "name": "ipython",
    "version": 3
   },
   "file_extension": ".py",
   "mimetype": "text/x-python",
   "name": "python",
   "nbconvert_exporter": "python",
   "pygments_lexer": "ipython3",
   "version": "3.10.11"
  }
 },
 "nbformat": 4,
 "nbformat_minor": 4
}
