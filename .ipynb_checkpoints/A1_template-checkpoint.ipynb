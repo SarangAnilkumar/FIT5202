{
 "cells": [
  {
   "cell_type": "markdown",
   "metadata": {},
   "source": [
    "# FIT5202 2025 S2 Assignment 1 : Analysing Australian Property Market Data\n",
    "\n",
    "## Table of Contents\n",
    "* [Part 1 : Working with RDD](#part-1)  \n",
    "    - [1.1 Data Preparation and Loading](#1.1)  \n",
    "    - [1.2 Data Partitioning in RDD](#1.2)  \n",
    "    - [1.3 Query/Analysis](#1.3)  \n",
    "* [Part 2 : Working with DataFrames](#2-dataframes)  \n",
    "    - [2.1 Data Preparation and Loading](#2-dataframes)  \n",
    "    - [2.2 Query/Analysis](#2.2)  \n",
    "* [Part 3 :  RDDs vs DataFrame vs Spark SQL](#part-3)  "
   ]
  },
  {
   "cell_type": "markdown",
   "metadata": {},
   "source": [
    "Note: Feel free to add Code/Markdown cells as you need."
   ]
  },
  {
   "cell_type": "markdown",
   "metadata": {},
   "source": [
    "# Part 1 : Working with RDDs (30%) <a class=\"anchor\" name=\"part-1\"></a>\n",
    "## 1.1 Working with RDD\n",
    "In this section, you will need to create RDDs from the given datasets, perform partitioning in these RDDs and use various RDD operations to answer the queries. \n",
    "\n",
    "1.1.1 Data Preparation and Loading <a class=\"anchor\" name=\"1.1\"></a>\n",
    "1.\tWrite the code to create a SparkContext object using SparkSession. To create a SparkSession, you first need to build a SparkConf object that contains information about your application. Use Melbourne time as the session timezone. Give your application an appropriate name and run Spark locally with 4 cores on your machine."
   ]
  },
  {
   "cell_type": "code",
   "execution_count": 4,
   "metadata": {},
   "outputs": [
    {
     "ename": "ConnectionRefusedError",
     "evalue": "[Errno 111] Connection refused",
     "output_type": "error",
     "traceback": [
      "\u001b[0;31m---------------------------------------------------------------------------\u001b[0m",
      "\u001b[0;31mConnectionRefusedError\u001b[0m                    Traceback (most recent call last)",
      "Cell \u001b[0;32mIn[4], line 8\u001b[0m\n\u001b[1;32m      6\u001b[0m master \u001b[38;5;241m=\u001b[39m \u001b[38;5;124m\"\u001b[39m\u001b[38;5;124mlocal[*]\u001b[39m\u001b[38;5;124m\"\u001b[39m\n\u001b[1;32m      7\u001b[0m app_name \u001b[38;5;241m=\u001b[39m \u001b[38;5;124m\"\u001b[39m\u001b[38;5;124mFIT5202-A1\u001b[39m\u001b[38;5;124m\"\u001b[39m\n\u001b[0;32m----> 8\u001b[0m spark_conf \u001b[38;5;241m=\u001b[39m \u001b[43mSparkConf\u001b[49m\u001b[43m(\u001b[49m\u001b[43m)\u001b[49m\u001b[38;5;241m.\u001b[39msetMaster(master)\u001b[38;5;241m.\u001b[39msetAppName(app_name)\u001b[38;5;241m.\u001b[39mset(\u001b[38;5;124m\"\u001b[39m\u001b[38;5;124mspark.sql.session.timeZone\u001b[39m\u001b[38;5;124m\"\u001b[39m, \u001b[38;5;124m\"\u001b[39m\u001b[38;5;124mAustralia/Melbourne\u001b[39m\u001b[38;5;124m\"\u001b[39m)\n\u001b[1;32m     10\u001b[0m spark \u001b[38;5;241m=\u001b[39m SparkSession\u001b[38;5;241m.\u001b[39mbuilder\u001b[38;5;241m.\u001b[39mconfig(conf\u001b[38;5;241m=\u001b[39mspark_conf)\u001b[38;5;241m.\u001b[39mgetOrCreate()\n\u001b[1;32m     11\u001b[0m sc \u001b[38;5;241m=\u001b[39m spark\u001b[38;5;241m.\u001b[39msparkContext\n",
      "File \u001b[0;32m/opt/conda/lib/python3.10/site-packages/pyspark/conf.py:132\u001b[0m, in \u001b[0;36mSparkConf.__init__\u001b[0;34m(self, loadDefaults, _jvm, _jconf)\u001b[0m\n\u001b[1;32m    128\u001b[0m _jvm \u001b[38;5;241m=\u001b[39m _jvm \u001b[38;5;129;01mor\u001b[39;00m SparkContext\u001b[38;5;241m.\u001b[39m_jvm\n\u001b[1;32m    130\u001b[0m \u001b[38;5;28;01mif\u001b[39;00m _jvm \u001b[38;5;129;01mis\u001b[39;00m \u001b[38;5;129;01mnot\u001b[39;00m \u001b[38;5;28;01mNone\u001b[39;00m:\n\u001b[1;32m    131\u001b[0m     \u001b[38;5;66;03m# JVM is created, so create self._jconf directly through JVM\u001b[39;00m\n\u001b[0;32m--> 132\u001b[0m     \u001b[38;5;28mself\u001b[39m\u001b[38;5;241m.\u001b[39m_jconf \u001b[38;5;241m=\u001b[39m \u001b[43m_jvm\u001b[49m\u001b[38;5;241;43m.\u001b[39;49m\u001b[43mSparkConf\u001b[49m(loadDefaults)\n\u001b[1;32m    133\u001b[0m     \u001b[38;5;28mself\u001b[39m\u001b[38;5;241m.\u001b[39m_conf \u001b[38;5;241m=\u001b[39m \u001b[38;5;28;01mNone\u001b[39;00m\n\u001b[1;32m    134\u001b[0m \u001b[38;5;28;01melse\u001b[39;00m:\n\u001b[1;32m    135\u001b[0m     \u001b[38;5;66;03m# JVM is not created, so store data in self._conf first\u001b[39;00m\n",
      "File \u001b[0;32m/opt/conda/lib/python3.10/site-packages/py4j/java_gateway.py:1712\u001b[0m, in \u001b[0;36mJVMView.__getattr__\u001b[0;34m(self, name)\u001b[0m\n\u001b[1;32m   1709\u001b[0m \u001b[38;5;28;01mif\u001b[39;00m name \u001b[38;5;241m==\u001b[39m UserHelpAutoCompletion\u001b[38;5;241m.\u001b[39mKEY:\n\u001b[1;32m   1710\u001b[0m     \u001b[38;5;28;01mreturn\u001b[39;00m UserHelpAutoCompletion()\n\u001b[0;32m-> 1712\u001b[0m answer \u001b[38;5;241m=\u001b[39m \u001b[38;5;28;43mself\u001b[39;49m\u001b[38;5;241;43m.\u001b[39;49m\u001b[43m_gateway_client\u001b[49m\u001b[38;5;241;43m.\u001b[39;49m\u001b[43msend_command\u001b[49m\u001b[43m(\u001b[49m\n\u001b[1;32m   1713\u001b[0m \u001b[43m    \u001b[49m\u001b[43mproto\u001b[49m\u001b[38;5;241;43m.\u001b[39;49m\u001b[43mREFLECTION_COMMAND_NAME\u001b[49m\u001b[43m \u001b[49m\u001b[38;5;241;43m+\u001b[39;49m\n\u001b[1;32m   1714\u001b[0m \u001b[43m    \u001b[49m\u001b[43mproto\u001b[49m\u001b[38;5;241;43m.\u001b[39;49m\u001b[43mREFL_GET_UNKNOWN_SUB_COMMAND_NAME\u001b[49m\u001b[43m \u001b[49m\u001b[38;5;241;43m+\u001b[39;49m\u001b[43m \u001b[49m\u001b[43mname\u001b[49m\u001b[43m \u001b[49m\u001b[38;5;241;43m+\u001b[39;49m\u001b[43m \u001b[49m\u001b[38;5;124;43m\"\u001b[39;49m\u001b[38;5;130;43;01m\\n\u001b[39;49;00m\u001b[38;5;124;43m\"\u001b[39;49m\u001b[43m \u001b[49m\u001b[38;5;241;43m+\u001b[39;49m\u001b[43m \u001b[49m\u001b[38;5;28;43mself\u001b[39;49m\u001b[38;5;241;43m.\u001b[39;49m\u001b[43m_id\u001b[49m\u001b[43m \u001b[49m\u001b[38;5;241;43m+\u001b[39;49m\n\u001b[1;32m   1715\u001b[0m \u001b[43m    \u001b[49m\u001b[38;5;124;43m\"\u001b[39;49m\u001b[38;5;130;43;01m\\n\u001b[39;49;00m\u001b[38;5;124;43m\"\u001b[39;49m\u001b[43m \u001b[49m\u001b[38;5;241;43m+\u001b[39;49m\u001b[43m \u001b[49m\u001b[43mproto\u001b[49m\u001b[38;5;241;43m.\u001b[39;49m\u001b[43mEND_COMMAND_PART\u001b[49m\u001b[43m)\u001b[49m\n\u001b[1;32m   1716\u001b[0m \u001b[38;5;28;01mif\u001b[39;00m answer \u001b[38;5;241m==\u001b[39m proto\u001b[38;5;241m.\u001b[39mSUCCESS_PACKAGE:\n\u001b[1;32m   1717\u001b[0m     \u001b[38;5;28;01mreturn\u001b[39;00m JavaPackage(name, \u001b[38;5;28mself\u001b[39m\u001b[38;5;241m.\u001b[39m_gateway_client, jvm_id\u001b[38;5;241m=\u001b[39m\u001b[38;5;28mself\u001b[39m\u001b[38;5;241m.\u001b[39m_id)\n",
      "File \u001b[0;32m/opt/conda/lib/python3.10/site-packages/py4j/java_gateway.py:1036\u001b[0m, in \u001b[0;36mGatewayClient.send_command\u001b[0;34m(self, command, retry, binary)\u001b[0m\n\u001b[1;32m   1015\u001b[0m \u001b[38;5;28;01mdef\u001b[39;00m \u001b[38;5;21msend_command\u001b[39m(\u001b[38;5;28mself\u001b[39m, command, retry\u001b[38;5;241m=\u001b[39m\u001b[38;5;28;01mTrue\u001b[39;00m, binary\u001b[38;5;241m=\u001b[39m\u001b[38;5;28;01mFalse\u001b[39;00m):\n\u001b[1;32m   1016\u001b[0m \u001b[38;5;250m    \u001b[39m\u001b[38;5;124;03m\"\"\"Sends a command to the JVM. This method is not intended to be\u001b[39;00m\n\u001b[1;32m   1017\u001b[0m \u001b[38;5;124;03m       called directly by Py4J users. It is usually called by\u001b[39;00m\n\u001b[1;32m   1018\u001b[0m \u001b[38;5;124;03m       :class:`JavaMember` instances.\u001b[39;00m\n\u001b[0;32m   (...)\u001b[0m\n\u001b[1;32m   1034\u001b[0m \u001b[38;5;124;03m     if `binary` is `True`.\u001b[39;00m\n\u001b[1;32m   1035\u001b[0m \u001b[38;5;124;03m    \"\"\"\u001b[39;00m\n\u001b[0;32m-> 1036\u001b[0m     connection \u001b[38;5;241m=\u001b[39m \u001b[38;5;28;43mself\u001b[39;49m\u001b[38;5;241;43m.\u001b[39;49m\u001b[43m_get_connection\u001b[49m\u001b[43m(\u001b[49m\u001b[43m)\u001b[49m\n\u001b[1;32m   1037\u001b[0m     \u001b[38;5;28;01mtry\u001b[39;00m:\n\u001b[1;32m   1038\u001b[0m         response \u001b[38;5;241m=\u001b[39m connection\u001b[38;5;241m.\u001b[39msend_command(command)\n",
      "File \u001b[0;32m/opt/conda/lib/python3.10/site-packages/py4j/clientserver.py:284\u001b[0m, in \u001b[0;36mJavaClient._get_connection\u001b[0;34m(self)\u001b[0m\n\u001b[1;32m    281\u001b[0m     \u001b[38;5;28;01mpass\u001b[39;00m\n\u001b[1;32m    283\u001b[0m \u001b[38;5;28;01mif\u001b[39;00m connection \u001b[38;5;129;01mis\u001b[39;00m \u001b[38;5;28;01mNone\u001b[39;00m \u001b[38;5;129;01mor\u001b[39;00m connection\u001b[38;5;241m.\u001b[39msocket \u001b[38;5;129;01mis\u001b[39;00m \u001b[38;5;28;01mNone\u001b[39;00m:\n\u001b[0;32m--> 284\u001b[0m     connection \u001b[38;5;241m=\u001b[39m \u001b[38;5;28;43mself\u001b[39;49m\u001b[38;5;241;43m.\u001b[39;49m\u001b[43m_create_new_connection\u001b[49m\u001b[43m(\u001b[49m\u001b[43m)\u001b[49m\n\u001b[1;32m    285\u001b[0m \u001b[38;5;28;01mreturn\u001b[39;00m connection\n",
      "File \u001b[0;32m/opt/conda/lib/python3.10/site-packages/py4j/clientserver.py:291\u001b[0m, in \u001b[0;36mJavaClient._create_new_connection\u001b[0;34m(self)\u001b[0m\n\u001b[1;32m    287\u001b[0m \u001b[38;5;28;01mdef\u001b[39;00m \u001b[38;5;21m_create_new_connection\u001b[39m(\u001b[38;5;28mself\u001b[39m):\n\u001b[1;32m    288\u001b[0m     connection \u001b[38;5;241m=\u001b[39m ClientServerConnection(\n\u001b[1;32m    289\u001b[0m         \u001b[38;5;28mself\u001b[39m\u001b[38;5;241m.\u001b[39mjava_parameters, \u001b[38;5;28mself\u001b[39m\u001b[38;5;241m.\u001b[39mpython_parameters,\n\u001b[1;32m    290\u001b[0m         \u001b[38;5;28mself\u001b[39m\u001b[38;5;241m.\u001b[39mgateway_property, \u001b[38;5;28mself\u001b[39m)\n\u001b[0;32m--> 291\u001b[0m     \u001b[43mconnection\u001b[49m\u001b[38;5;241;43m.\u001b[39;49m\u001b[43mconnect_to_java_server\u001b[49m\u001b[43m(\u001b[49m\u001b[43m)\u001b[49m\n\u001b[1;32m    292\u001b[0m     \u001b[38;5;28mself\u001b[39m\u001b[38;5;241m.\u001b[39mset_thread_connection(connection)\n\u001b[1;32m    293\u001b[0m     \u001b[38;5;28;01mreturn\u001b[39;00m connection\n",
      "File \u001b[0;32m/opt/conda/lib/python3.10/site-packages/py4j/clientserver.py:438\u001b[0m, in \u001b[0;36mClientServerConnection.connect_to_java_server\u001b[0;34m(self)\u001b[0m\n\u001b[1;32m    435\u001b[0m \u001b[38;5;28;01mif\u001b[39;00m \u001b[38;5;28mself\u001b[39m\u001b[38;5;241m.\u001b[39mssl_context:\n\u001b[1;32m    436\u001b[0m     \u001b[38;5;28mself\u001b[39m\u001b[38;5;241m.\u001b[39msocket \u001b[38;5;241m=\u001b[39m \u001b[38;5;28mself\u001b[39m\u001b[38;5;241m.\u001b[39mssl_context\u001b[38;5;241m.\u001b[39mwrap_socket(\n\u001b[1;32m    437\u001b[0m         \u001b[38;5;28mself\u001b[39m\u001b[38;5;241m.\u001b[39msocket, server_hostname\u001b[38;5;241m=\u001b[39m\u001b[38;5;28mself\u001b[39m\u001b[38;5;241m.\u001b[39mjava_address)\n\u001b[0;32m--> 438\u001b[0m \u001b[38;5;28;43mself\u001b[39;49m\u001b[38;5;241;43m.\u001b[39;49m\u001b[43msocket\u001b[49m\u001b[38;5;241;43m.\u001b[39;49m\u001b[43mconnect\u001b[49m\u001b[43m(\u001b[49m\u001b[43m(\u001b[49m\u001b[38;5;28;43mself\u001b[39;49m\u001b[38;5;241;43m.\u001b[39;49m\u001b[43mjava_address\u001b[49m\u001b[43m,\u001b[49m\u001b[43m \u001b[49m\u001b[38;5;28;43mself\u001b[39;49m\u001b[38;5;241;43m.\u001b[39;49m\u001b[43mjava_port\u001b[49m\u001b[43m)\u001b[49m\u001b[43m)\u001b[49m\n\u001b[1;32m    439\u001b[0m \u001b[38;5;28mself\u001b[39m\u001b[38;5;241m.\u001b[39mstream \u001b[38;5;241m=\u001b[39m \u001b[38;5;28mself\u001b[39m\u001b[38;5;241m.\u001b[39msocket\u001b[38;5;241m.\u001b[39mmakefile(\u001b[38;5;124m\"\u001b[39m\u001b[38;5;124mrb\u001b[39m\u001b[38;5;124m\"\u001b[39m)\n\u001b[1;32m    440\u001b[0m \u001b[38;5;28mself\u001b[39m\u001b[38;5;241m.\u001b[39mis_connected \u001b[38;5;241m=\u001b[39m \u001b[38;5;28;01mTrue\u001b[39;00m\n",
      "\u001b[0;31mConnectionRefusedError\u001b[0m: [Errno 111] Connection refused"
     ]
    }
   ],
   "source": [
    "# ==== Part 1.1(1): SparkConf + SparkSession (Melbourne timezone, local[4]) ====\n",
    "from pyspark.sql import SparkSession\n",
    "from pyspark import SparkConf\n",
    "from pyspark import SparkContext # Spark\n",
    "\n",
    "master = \"local[*]\"\n",
    "app_name = \"FIT5202-A1\"\n",
    "spark_conf = SparkConf().setMaster(master).setAppName(app_name).set(\"spark.sql.session.timeZone\", \"Australia/Melbourne\")\n",
    "    \n",
    "spark = SparkSession.builder.config(conf=spark_conf).getOrCreate()\n",
    "sc = spark.sparkContext\n",
    "\n",
    "print(spark)\n",
    "print(\"Timezone:\", spark.conf.get(\"spark.sql.session.timeZone\"))"
   ]
  },
  {
   "cell_type": "markdown",
   "metadata": {},
   "source": [
    "1.1.2 Load the CSV and JSON files into multiple RDDs. "
   ]
  },
  {
   "cell_type": "code",
   "execution_count": 3,
   "metadata": {},
   "outputs": [
    {
     "ename": "ConnectionRefusedError",
     "evalue": "[Errno 111] Connection refused",
     "output_type": "error",
     "traceback": [
      "\u001b[0;31m---------------------------------------------------------------------------\u001b[0m",
      "\u001b[0;31mConnectionRefusedError\u001b[0m                    Traceback (most recent call last)",
      "Cell \u001b[0;32mIn[3], line 13\u001b[0m\n\u001b[1;32m     10\u001b[0m zoning_p  \u001b[38;5;241m=\u001b[39m \u001b[38;5;124m\"\u001b[39m\u001b[38;5;124mdataset/zoning.json\u001b[39m\u001b[38;5;124m\"\u001b[39m\n\u001b[1;32m     12\u001b[0m \u001b[38;5;66;03m# ---------- Spark tuning (safe defaults for big-ish CSV) ----------\u001b[39;00m\n\u001b[0;32m---> 13\u001b[0m \u001b[43mspark\u001b[49m\u001b[38;5;241;43m.\u001b[39;49m\u001b[43mconf\u001b[49m\u001b[38;5;241;43m.\u001b[39;49m\u001b[43mset\u001b[49m\u001b[43m(\u001b[49m\u001b[38;5;124;43m\"\u001b[39;49m\u001b[38;5;124;43mspark.sql.shuffle.partitions\u001b[39;49m\u001b[38;5;124;43m\"\u001b[39;49m\u001b[43m,\u001b[49m\u001b[43m \u001b[49m\u001b[38;5;124;43m\"\u001b[39;49m\u001b[38;5;124;43m200\u001b[39;49m\u001b[38;5;124;43m\"\u001b[39;49m\u001b[43m)\u001b[49m  \u001b[38;5;66;03m# adjust to your cluster size\u001b[39;00m\n\u001b[1;32m     14\u001b[0m spark\u001b[38;5;241m.\u001b[39mconf\u001b[38;5;241m.\u001b[39mset(\u001b[38;5;124m\"\u001b[39m\u001b[38;5;124mspark.sql.files.maxPartitionBytes\u001b[39m\u001b[38;5;124m\"\u001b[39m, \u001b[38;5;28mstr\u001b[39m(\u001b[38;5;241m128\u001b[39m \u001b[38;5;241m*\u001b[39m \u001b[38;5;241m1024\u001b[39m \u001b[38;5;241m*\u001b[39m \u001b[38;5;241m1024\u001b[39m))  \u001b[38;5;66;03m# 128MB splits\u001b[39;00m\n\u001b[1;32m     16\u001b[0m \u001b[38;5;66;03m# ---------- Helpers ----------\u001b[39;00m\n",
      "File \u001b[0;32m/opt/conda/lib/python3.10/site-packages/pyspark/sql/conf.py:43\u001b[0m, in \u001b[0;36mRuntimeConfig.set\u001b[0;34m(self, key, value)\u001b[0m\n\u001b[1;32m     40\u001b[0m \u001b[38;5;129m@since\u001b[39m(\u001b[38;5;241m2.0\u001b[39m)\n\u001b[1;32m     41\u001b[0m \u001b[38;5;28;01mdef\u001b[39;00m \u001b[38;5;21mset\u001b[39m(\u001b[38;5;28mself\u001b[39m, key: \u001b[38;5;28mstr\u001b[39m, value: Union[\u001b[38;5;28mstr\u001b[39m, \u001b[38;5;28mint\u001b[39m, \u001b[38;5;28mbool\u001b[39m]) \u001b[38;5;241m-\u001b[39m\u001b[38;5;241m>\u001b[39m \u001b[38;5;28;01mNone\u001b[39;00m:\n\u001b[1;32m     42\u001b[0m \u001b[38;5;250m    \u001b[39m\u001b[38;5;124;03m\"\"\"Sets the given Spark runtime configuration property.\"\"\"\u001b[39;00m\n\u001b[0;32m---> 43\u001b[0m     \u001b[38;5;28;43mself\u001b[39;49m\u001b[38;5;241;43m.\u001b[39;49m\u001b[43m_jconf\u001b[49m\u001b[38;5;241;43m.\u001b[39;49m\u001b[43mset\u001b[49m\u001b[43m(\u001b[49m\u001b[43mkey\u001b[49m\u001b[43m,\u001b[49m\u001b[43m \u001b[49m\u001b[43mvalue\u001b[49m\u001b[43m)\u001b[49m\n",
      "File \u001b[0;32m/opt/conda/lib/python3.10/site-packages/py4j/java_gateway.py:1321\u001b[0m, in \u001b[0;36mJavaMember.__call__\u001b[0;34m(self, *args)\u001b[0m\n\u001b[1;32m   1314\u001b[0m args_command, temp_args \u001b[38;5;241m=\u001b[39m \u001b[38;5;28mself\u001b[39m\u001b[38;5;241m.\u001b[39m_build_args(\u001b[38;5;241m*\u001b[39margs)\n\u001b[1;32m   1316\u001b[0m command \u001b[38;5;241m=\u001b[39m proto\u001b[38;5;241m.\u001b[39mCALL_COMMAND_NAME \u001b[38;5;241m+\u001b[39m\\\n\u001b[1;32m   1317\u001b[0m     \u001b[38;5;28mself\u001b[39m\u001b[38;5;241m.\u001b[39mcommand_header \u001b[38;5;241m+\u001b[39m\\\n\u001b[1;32m   1318\u001b[0m     args_command \u001b[38;5;241m+\u001b[39m\\\n\u001b[1;32m   1319\u001b[0m     proto\u001b[38;5;241m.\u001b[39mEND_COMMAND_PART\n\u001b[0;32m-> 1321\u001b[0m answer \u001b[38;5;241m=\u001b[39m \u001b[38;5;28;43mself\u001b[39;49m\u001b[38;5;241;43m.\u001b[39;49m\u001b[43mgateway_client\u001b[49m\u001b[38;5;241;43m.\u001b[39;49m\u001b[43msend_command\u001b[49m\u001b[43m(\u001b[49m\u001b[43mcommand\u001b[49m\u001b[43m)\u001b[49m\n\u001b[1;32m   1322\u001b[0m return_value \u001b[38;5;241m=\u001b[39m get_return_value(\n\u001b[1;32m   1323\u001b[0m     answer, \u001b[38;5;28mself\u001b[39m\u001b[38;5;241m.\u001b[39mgateway_client, \u001b[38;5;28mself\u001b[39m\u001b[38;5;241m.\u001b[39mtarget_id, \u001b[38;5;28mself\u001b[39m\u001b[38;5;241m.\u001b[39mname)\n\u001b[1;32m   1325\u001b[0m \u001b[38;5;28;01mfor\u001b[39;00m temp_arg \u001b[38;5;129;01min\u001b[39;00m temp_args:\n",
      "File \u001b[0;32m/opt/conda/lib/python3.10/site-packages/py4j/java_gateway.py:1036\u001b[0m, in \u001b[0;36mGatewayClient.send_command\u001b[0;34m(self, command, retry, binary)\u001b[0m\n\u001b[1;32m   1015\u001b[0m \u001b[38;5;28;01mdef\u001b[39;00m \u001b[38;5;21msend_command\u001b[39m(\u001b[38;5;28mself\u001b[39m, command, retry\u001b[38;5;241m=\u001b[39m\u001b[38;5;28;01mTrue\u001b[39;00m, binary\u001b[38;5;241m=\u001b[39m\u001b[38;5;28;01mFalse\u001b[39;00m):\n\u001b[1;32m   1016\u001b[0m \u001b[38;5;250m    \u001b[39m\u001b[38;5;124;03m\"\"\"Sends a command to the JVM. This method is not intended to be\u001b[39;00m\n\u001b[1;32m   1017\u001b[0m \u001b[38;5;124;03m       called directly by Py4J users. It is usually called by\u001b[39;00m\n\u001b[1;32m   1018\u001b[0m \u001b[38;5;124;03m       :class:`JavaMember` instances.\u001b[39;00m\n\u001b[0;32m   (...)\u001b[0m\n\u001b[1;32m   1034\u001b[0m \u001b[38;5;124;03m     if `binary` is `True`.\u001b[39;00m\n\u001b[1;32m   1035\u001b[0m \u001b[38;5;124;03m    \"\"\"\u001b[39;00m\n\u001b[0;32m-> 1036\u001b[0m     connection \u001b[38;5;241m=\u001b[39m \u001b[38;5;28;43mself\u001b[39;49m\u001b[38;5;241;43m.\u001b[39;49m\u001b[43m_get_connection\u001b[49m\u001b[43m(\u001b[49m\u001b[43m)\u001b[49m\n\u001b[1;32m   1037\u001b[0m     \u001b[38;5;28;01mtry\u001b[39;00m:\n\u001b[1;32m   1038\u001b[0m         response \u001b[38;5;241m=\u001b[39m connection\u001b[38;5;241m.\u001b[39msend_command(command)\n",
      "File \u001b[0;32m/opt/conda/lib/python3.10/site-packages/py4j/clientserver.py:284\u001b[0m, in \u001b[0;36mJavaClient._get_connection\u001b[0;34m(self)\u001b[0m\n\u001b[1;32m    281\u001b[0m     \u001b[38;5;28;01mpass\u001b[39;00m\n\u001b[1;32m    283\u001b[0m \u001b[38;5;28;01mif\u001b[39;00m connection \u001b[38;5;129;01mis\u001b[39;00m \u001b[38;5;28;01mNone\u001b[39;00m \u001b[38;5;129;01mor\u001b[39;00m connection\u001b[38;5;241m.\u001b[39msocket \u001b[38;5;129;01mis\u001b[39;00m \u001b[38;5;28;01mNone\u001b[39;00m:\n\u001b[0;32m--> 284\u001b[0m     connection \u001b[38;5;241m=\u001b[39m \u001b[38;5;28;43mself\u001b[39;49m\u001b[38;5;241;43m.\u001b[39;49m\u001b[43m_create_new_connection\u001b[49m\u001b[43m(\u001b[49m\u001b[43m)\u001b[49m\n\u001b[1;32m    285\u001b[0m \u001b[38;5;28;01mreturn\u001b[39;00m connection\n",
      "File \u001b[0;32m/opt/conda/lib/python3.10/site-packages/py4j/clientserver.py:291\u001b[0m, in \u001b[0;36mJavaClient._create_new_connection\u001b[0;34m(self)\u001b[0m\n\u001b[1;32m    287\u001b[0m \u001b[38;5;28;01mdef\u001b[39;00m \u001b[38;5;21m_create_new_connection\u001b[39m(\u001b[38;5;28mself\u001b[39m):\n\u001b[1;32m    288\u001b[0m     connection \u001b[38;5;241m=\u001b[39m ClientServerConnection(\n\u001b[1;32m    289\u001b[0m         \u001b[38;5;28mself\u001b[39m\u001b[38;5;241m.\u001b[39mjava_parameters, \u001b[38;5;28mself\u001b[39m\u001b[38;5;241m.\u001b[39mpython_parameters,\n\u001b[1;32m    290\u001b[0m         \u001b[38;5;28mself\u001b[39m\u001b[38;5;241m.\u001b[39mgateway_property, \u001b[38;5;28mself\u001b[39m)\n\u001b[0;32m--> 291\u001b[0m     \u001b[43mconnection\u001b[49m\u001b[38;5;241;43m.\u001b[39;49m\u001b[43mconnect_to_java_server\u001b[49m\u001b[43m(\u001b[49m\u001b[43m)\u001b[49m\n\u001b[1;32m    292\u001b[0m     \u001b[38;5;28mself\u001b[39m\u001b[38;5;241m.\u001b[39mset_thread_connection(connection)\n\u001b[1;32m    293\u001b[0m     \u001b[38;5;28;01mreturn\u001b[39;00m connection\n",
      "File \u001b[0;32m/opt/conda/lib/python3.10/site-packages/py4j/clientserver.py:438\u001b[0m, in \u001b[0;36mClientServerConnection.connect_to_java_server\u001b[0;34m(self)\u001b[0m\n\u001b[1;32m    435\u001b[0m \u001b[38;5;28;01mif\u001b[39;00m \u001b[38;5;28mself\u001b[39m\u001b[38;5;241m.\u001b[39mssl_context:\n\u001b[1;32m    436\u001b[0m     \u001b[38;5;28mself\u001b[39m\u001b[38;5;241m.\u001b[39msocket \u001b[38;5;241m=\u001b[39m \u001b[38;5;28mself\u001b[39m\u001b[38;5;241m.\u001b[39mssl_context\u001b[38;5;241m.\u001b[39mwrap_socket(\n\u001b[1;32m    437\u001b[0m         \u001b[38;5;28mself\u001b[39m\u001b[38;5;241m.\u001b[39msocket, server_hostname\u001b[38;5;241m=\u001b[39m\u001b[38;5;28mself\u001b[39m\u001b[38;5;241m.\u001b[39mjava_address)\n\u001b[0;32m--> 438\u001b[0m \u001b[38;5;28;43mself\u001b[39;49m\u001b[38;5;241;43m.\u001b[39;49m\u001b[43msocket\u001b[49m\u001b[38;5;241;43m.\u001b[39;49m\u001b[43mconnect\u001b[49m\u001b[43m(\u001b[49m\u001b[43m(\u001b[49m\u001b[38;5;28;43mself\u001b[39;49m\u001b[38;5;241;43m.\u001b[39;49m\u001b[43mjava_address\u001b[49m\u001b[43m,\u001b[49m\u001b[43m \u001b[49m\u001b[38;5;28;43mself\u001b[39;49m\u001b[38;5;241;43m.\u001b[39;49m\u001b[43mjava_port\u001b[49m\u001b[43m)\u001b[49m\u001b[43m)\u001b[49m\n\u001b[1;32m    439\u001b[0m \u001b[38;5;28mself\u001b[39m\u001b[38;5;241m.\u001b[39mstream \u001b[38;5;241m=\u001b[39m \u001b[38;5;28mself\u001b[39m\u001b[38;5;241m.\u001b[39msocket\u001b[38;5;241m.\u001b[39mmakefile(\u001b[38;5;124m\"\u001b[39m\u001b[38;5;124mrb\u001b[39m\u001b[38;5;124m\"\u001b[39m)\n\u001b[1;32m    440\u001b[0m \u001b[38;5;28mself\u001b[39m\u001b[38;5;241m.\u001b[39mis_connected \u001b[38;5;241m=\u001b[39m \u001b[38;5;28;01mTrue\u001b[39;00m\n",
      "\u001b[0;31mConnectionRefusedError\u001b[0m: [Errno 111] Connection refused"
     ]
    }
   ],
   "source": [
    "# Final lightweight & robust replacement for Part 1.1.(2)(3)(4)\n",
    "\n",
    "import json\n",
    "from pyspark import StorageLevel\n",
    "from pyspark.sql import functions as F, types as T\n",
    "\n",
    "csv_path = 'dataset/nsw_property_price.csv'\n",
    "council_p = \"dataset/council.json\"\n",
    "purpose_p = \"dataset/property_purpose.json\"\n",
    "zoning_p  = \"dataset/zoning.json\"\n",
    "\n",
    "# ---------- Spark tuning (safe defaults for big-ish CSV) ----------\n",
    "spark.conf.set(\"spark.sql.shuffle.partitions\", \"200\")  # adjust to your cluster size\n",
    "spark.conf.set(\"spark.sql.files.maxPartitionBytes\", str(128 * 1024 * 1024))  # 128MB splits\n",
    "\n",
    "# ---------- Helpers ----------\n",
    "def to_dict_str(row, cols):\n",
    "    d = {}\n",
    "    for c in cols:\n",
    "        v = row[c] if isinstance(row, dict) else row[c]\n",
    "        d[c] = (None if v is None else str(v))\n",
    "    return d\n",
    "\n",
    "def print_first_n_as_dicts(df, n, title):\n",
    "    print(f\"\\n{title}\")\n",
    "    cols = df.columns\n",
    "    # .limit(n).collect() is fine here; n is small\n",
    "    for r in df.limit(n).collect():\n",
    "        print(to_dict_str(r.asDict(recursive=True), cols))\n",
    "\n",
    "def read_lookup_records(path):\n",
    "    \"\"\"Flatten the odd JSON shapes into a list[dict].\"\"\"\n",
    "    with open(path, \"r\", encoding=\"utf-8\") as f:\n",
    "        obj = json.load(f)\n",
    "\n",
    "    # 1) [ { \"<header>\": [ {..}, {..} ] } ]\n",
    "    if isinstance(obj, list) and len(obj) == 1 and isinstance(obj[0], dict) and len(obj[0]) == 1:\n",
    "        only_val = next(iter(obj[0].values()))\n",
    "        if isinstance(only_val, list) and all(isinstance(x, dict) for x in only_val):\n",
    "            return only_val\n",
    "\n",
    "    # 2) [ {..}, {..} ]\n",
    "    if isinstance(obj, list) and all(isinstance(x, dict) for x in obj):\n",
    "        return obj\n",
    "\n",
    "    # 3) { \"<something>\": [ {..}, {..} ] }  OR  {..single record..}\n",
    "    if isinstance(obj, dict):\n",
    "        for v in obj.values():\n",
    "            if isinstance(v, list) and all(isinstance(x, dict) for x in v):\n",
    "                return v\n",
    "        return [obj]\n",
    "\n",
    "    return []\n",
    "\n",
    "def bad_id(colname):\n",
    "    # invalid if null OR empty string after trim OR literal \"0\"\n",
    "    col_s = F.col(colname).cast(\"string\")\n",
    "    return col_s.isNull() | (F.trim(col_s) == \"\") | (col_s == \"0\")\n",
    "\n",
    "def safe_count(df):\n",
    "    \"\"\"Try df.count(); if the JVM grumbles, do a memory-thrifty RDD scan.\"\"\"\n",
    "    try:\n",
    "        return df.count()\n",
    "    except Exception:\n",
    "        # Fallback: count via RDD mapPartitions (avoids some Catalyst overhead paths)\n",
    "        return df.rdd.mapPartitions(lambda it: [sum(1 for _ in it)]).sum()\n",
    "\n",
    "# ---------- Read CSV (robust, typed-but-forgiving) ----------\n",
    "schema = T.StructType([\n",
    "    T.StructField(\"property_id\",        T.StringType(), True),\n",
    "    T.StructField(\"purchase_price\",     T.StringType(), True),  # keep as string to preserve exact text/scale\n",
    "    T.StructField(\"address\",            T.StringType(), True),\n",
    "    T.StructField(\"post_code\",          T.StringType(), True),  # keep as string to preserve leading zeros\n",
    "    T.StructField(\"property_type\",      T.StringType(), True),\n",
    "    T.StructField(\"strata_lot_number\",  T.StringType(), True),\n",
    "    T.StructField(\"property_name\",      T.StringType(), True),\n",
    "    T.StructField(\"area\",               T.StringType(), True),  # keep raw text to match your printed examples\n",
    "    T.StructField(\"area_type\",          T.StringType(), True),\n",
    "    T.StructField(\"iso_contract_date\",  T.StringType(), True),  # parse later if needed\n",
    "    T.StructField(\"iso_settlement_date\",T.StringType(), True),\n",
    "    T.StructField(\"nature_of_property\", T.StringType(), True),\n",
    "    T.StructField(\"legal_description\",  T.StringType(), True),\n",
    "    T.StructField(\"id\",                 T.StringType(), True),\n",
    "    T.StructField(\"council_id\",         T.StringType(), True),\n",
    "    T.StructField(\"purpose_id\",         T.StringType(), True),\n",
    "    T.StructField(\"zone_id\",            T.StringType(), True),\n",
    "])\n",
    "\n",
    "df = (\n",
    "    spark.read\n",
    "    .option(\"header\", True)\n",
    "    .option(\"multiLine\", True)\n",
    "    .option(\"quote\", '\"')\n",
    "    .option(\"escape\", '\"')\n",
    "    .option(\"mode\", \"PERMISSIVE\")\n",
    "    .schema(schema)\n",
    "    .csv(csv_path)\n",
    ").cache()  # single cache we reuse a couple of times\n",
    "\n",
    "row_count_raw = safe_count(df)\n",
    "print(\"CSV rows (no header):\", row_count_raw)\n",
    "print_first_n_as_dicts(df, 8, \"First 8 records (no cleaning):\")\n",
    "\n",
    "# ---------- Read & flatten JSON lookups ----------\n",
    "council_recs = read_lookup_records(council_p)\n",
    "purpose_recs = read_lookup_records(purpose_p)\n",
    "zoning_recs  = read_lookup_records(zoning_p)\n",
    "\n",
    "council_df = (spark.createDataFrame(council_recs)\n",
    "              .select(F.col(\"council_id\").cast(\"string\").alias(\"council_id\"),\n",
    "                      F.col(\"council_name\").cast(\"string\").alias(\"council_name\"))\n",
    "              .dropDuplicates([\"council_id\"]))\n",
    "\n",
    "purpose_df = (spark.createDataFrame(purpose_recs)\n",
    "              .select(F.col(\"purpose_id\").cast(\"string\").alias(\"purpose_id\"),\n",
    "                      F.col(\"primary_purpose\").cast(\"string\").alias(\"primary_purpose\"))\n",
    "              .dropDuplicates([\"purpose_id\"]))\n",
    "\n",
    "zoning_df = (spark.createDataFrame(zoning_recs)\n",
    "             .select(F.col(\"zoning_id\").cast(\"string\").alias(\"zone_id\"),\n",
    "                     F.col(\"zoning\").cast(\"string\").alias(\"zoning\"))\n",
    "             .dropDuplicates([\"zone_id\"]))\n",
    "\n",
    "print(\"\\nCouncil records:\", safe_count(council_df))\n",
    "print(\"Purpose records:\", safe_count(purpose_df))\n",
    "print(\"Zoning records:\",  safe_count(zoning_df))\n",
    "\n",
    "print_first_n_as_dicts(council_df, 8, \"First 8 council:\")\n",
    "print_first_n_as_dicts(purpose_df, 8, \"First 8 purpose:\")\n",
    "print_first_n_as_dicts(zoning_df,  8, \"First 8 zoning:\")\n",
    "\n",
    "# ---------- Clean invalid rows (null/empty/'0' purpose_id or council_id) ----------\n",
    "# Build the predicate once to avoid Planner rework\n",
    "valid_pred = ~(bad_id(\"purpose_id\") | bad_id(\"council_id\"))\n",
    "\n",
    "clean_df = df.filter(valid_pred).cache()\n",
    "\n",
    "clean_count = safe_count(clean_df)\n",
    "print(\"\\nCSV rows (after cleaning):\", clean_count)\n",
    "print_first_n_as_dicts(clean_df, 8, \"First 8 cleaned records:\")\n",
    "\n",
    "# Free memory pressure early\n",
    "df.unpersist()\n",
    "clean_df.unpersist()\n",
    "# (lookup DFs are small; no need to persist/unpersist them)\n"
   ]
  },
  {
   "cell_type": "code",
   "execution_count": 9,
   "metadata": {},
   "outputs": [
    {
     "name": "stdout",
     "output_type": "stream",
     "text": [
      "CSV rows (no header): 4854814\n",
      "\n",
      "First 8 records (no cleaning):\n",
      "{'property_id': '4270509', 'purchase_price': '1400000.00', 'address': '8 C NYARI RD, KENTHURST', 'post_code': '2156', 'property_type': 'house', 'strata_lot_number': '', 'property_name': '', 'area': '2.044', 'area_type': 'H', 'iso_contract_date': '2023-12-14', 'iso_settlement_date': '2024-02-14', 'nature_of_property': 'V', 'legal_description': '2/1229857', 'id': '142', 'council_id': '200', 'purpose_id': '9922', 'zone_id': '53'}\n",
      "{'property_id': '4329326', 'purchase_price': '1105000.00', 'address': '82 CAMARERO ST, BOX HILL', 'post_code': '2765', 'property_type': 'house', 'strata_lot_number': '', 'property_name': '', 'area': '300.2', 'area_type': 'M', 'iso_contract_date': '2024-01-12', 'iso_settlement_date': '2024-02-09', 'nature_of_property': 'R', 'legal_description': '1119/1256791', 'id': '143', 'council_id': '200', 'purpose_id': '7071', 'zone_id': '41'}\n",
      "{'property_id': '1864112', 'purchase_price': '55000.00', 'address': '321 AUBURN ST, MOREE', 'post_code': '2400', 'property_type': 'house', 'strata_lot_number': '', 'property_name': '', 'area': '847.3', 'area_type': 'M', 'iso_contract_date': '2023-09-15', 'iso_settlement_date': '2024-01-29', 'nature_of_property': 'R', 'legal_description': '17/36061', 'id': '192', 'council_id': '168', 'purpose_id': '7071', 'zone_id': '40'}\n",
      "{'property_id': '1869899', 'purchase_price': '680000.00', 'address': '207 GWYDIRFIELD RD, MOREE', 'post_code': '2400', 'property_type': 'house', 'strata_lot_number': '', 'property_name': 'SPRINGVALE', 'area': '2.023', 'area_type': 'H', 'iso_contract_date': '2024-01-19', 'iso_settlement_date': '2024-02-09', 'nature_of_property': 'R', 'legal_description': '6/251911', 'id': '193', 'council_id': '168', 'purpose_id': '7071', 'zone_id': '48'}\n",
      "{'property_id': '1867775', 'purchase_price': '220000.00', 'address': '90 MERRIWA ST, BOGGABILLA', 'post_code': '2409', 'property_type': 'house', 'strata_lot_number': '', 'property_name': '', 'area': '2023.0', 'area_type': 'M', 'iso_contract_date': '2023-12-08', 'iso_settlement_date': '2024-02-09', 'nature_of_property': 'R', 'legal_description': '1/1/758127', 'id': '194', 'council_id': '168', 'purpose_id': '7071', 'zone_id': '52'}\n",
      "{'property_id': '2738374', 'purchase_price': '690000.00', 'address': '10 PETOSTRUM PL, PORT MACQUARIE', 'post_code': '2444', 'property_type': 'house', 'strata_lot_number': '', 'property_name': '', 'area': '672.8', 'area_type': 'M', 'iso_contract_date': '2023-12-14', 'iso_settlement_date': '2024-02-14', 'nature_of_property': 'R', 'legal_description': '94/815767', 'id': '242', 'council_id': '184', 'purpose_id': '7071', 'zone_id': '40'}\n",
      "{'property_id': '1608665', 'purchase_price': '661000.00', 'address': '71 MULYAN ST, COMO', 'post_code': '2226', 'property_type': 'house', 'strata_lot_number': '', 'property_name': '', 'area': '561.7', 'area_type': 'M', 'iso_contract_date': '2013-03-23', 'iso_settlement_date': '2013-05-09', 'nature_of_property': '3', 'legal_description': '2/11301', 'id': '26440', 'council_id': '196', 'purpose_id': '4301', 'zone_id': '2'}\n",
      "{'property_id': '638909', 'purchase_price': '780208.00', 'address': '38 DUFFY AVE, THORNLEIGH', 'post_code': '2120', 'property_type': 'house', 'strata_lot_number': '', 'property_name': '', 'area': '3113.2', 'area_type': 'M', 'iso_contract_date': '2023-06-27', 'iso_settlement_date': '2024-02-09', 'nature_of_property': 'V', 'legal_description': '6, 7/533837 3, 4/1047718', 'id': '440', 'council_id': '147', 'purpose_id': '9922', 'zone_id': '23'}\n",
      "\n",
      "Council records: 1\n",
      "Purpose records: 1\n",
      "Zoning records: 1\n",
      "\n",
      "First 8 council: [{'council_id,council_name\\n': [{'council_id': 1, 'council_name': '003'}, {'council_id': 2, 'council_name': '011'}, {'council_id': 3, 'council_name': '013'}, {'council_id': 4, 'council_name': '014'}, {'council_id': 5, 'council_name': '020'}, {'council_id': 6, 'council_name': '021'}, {'council_id': 7, 'council_name': '022'}, {'council_id': 8, 'council_name': '024'}, {'council_id': 9, 'council_name': '026'}, {'council_id': 10, 'council_name': '028'}, {'council_id': 11, 'council_name': '029'}, {'council_id': 12, 'council_name': '031'}, {'council_id': 13, 'council_name': '034'}, {'council_id': 14, 'council_name': '035'}, {'council_id': 15, 'council_name': '037'}, {'council_id': 16, 'council_name': '039'}, {'council_id': 17, 'council_name': '040'}, {'council_id': 18, 'council_name': '044'}, {'council_id': 19, 'council_name': '053'}, {'council_id': 20, 'council_name': '055'}, {'council_id': 21, 'council_name': '056'}, {'council_id': 22, 'council_name': '057'}, {'council_id': 23, 'council_name': '058'}, {'council_id': 24, 'council_name': '059'}, {'council_id': 25, 'council_name': '060'}, {'council_id': 26, 'council_name': '062'}, {'council_id': 27, 'council_name': '068'}, {'council_id': 28, 'council_name': '069'}, {'council_id': 29, 'council_name': '071'}, {'council_id': 30, 'council_name': '072'}, {'council_id': 31, 'council_name': '073'}, {'council_id': 32, 'council_name': '076'}, {'council_id': 33, 'council_name': '077'}, {'council_id': 34, 'council_name': '086'}, {'council_id': 35, 'council_name': '089'}, {'council_id': 36, 'council_name': '091'}, {'council_id': 37, 'council_name': '093'}, {'council_id': 38, 'council_name': '108'}, {'council_id': 39, 'council_name': '112'}, {'council_id': 40, 'council_name': '114'}, {'council_id': 41, 'council_name': '120'}, {'council_id': 42, 'council_name': '127'}, {'council_id': 43, 'council_name': '129'}, {'council_id': 44, 'council_name': '130'}, {'council_id': 45, 'council_name': '134'}, {'council_id': 46, 'council_name': '135'}, {'council_id': 47, 'council_name': '136'}, {'council_id': 48, 'council_name': '138'}, {'council_id': 49, 'council_name': '140'}, {'council_id': 50, 'council_name': '141'}, {'council_id': 51, 'council_name': '142'}, {'council_id': 52, 'council_name': '153'}, {'council_id': 53, 'council_name': '154'}, {'council_id': 54, 'council_name': '160'}, {'council_id': 55, 'council_name': '162'}, {'council_id': 56, 'council_name': '165'}, {'council_id': 57, 'council_name': '172'}, {'council_id': 58, 'council_name': '180'}, {'council_id': 59, 'council_name': '181'}, {'council_id': 60, 'council_name': '185'}, {'council_id': 61, 'council_name': '186'}, {'council_id': 62, 'council_name': '191'}, {'council_id': 63, 'council_name': '194'}, {'council_id': 64, 'council_name': '195'}, {'council_id': 65, 'council_name': '197'}, {'council_id': 66, 'council_name': '203'}, {'council_id': 67, 'council_name': '204'}, {'council_id': 68, 'council_name': '205'}, {'council_id': 69, 'council_name': '206'}, {'council_id': 70, 'council_name': '208'}, {'council_id': 71, 'council_name': '211'}, {'council_id': 72, 'council_name': '221'}, {'council_id': 73, 'council_name': '237'}, {'council_id': 74, 'council_name': '241'}, {'council_id': 75, 'council_name': '242'}, {'council_id': 76, 'council_name': '245'}, {'council_id': 77, 'council_name': '246'}, {'council_id': 78, 'council_name': '248'}, {'council_id': 79, 'council_name': '249'}, {'council_id': 80, 'council_name': '256'}, {'council_id': 81, 'council_name': '539'}, {'council_id': 82, 'council_name': '540'}, {'council_id': 83, 'council_name': '623'}, {'council_id': 84, 'council_name': '672'}, {'council_id': 85, 'council_name': '678'}, {'council_id': 86, 'council_name': '695'}, {'council_id': 87, 'council_name': '698'}, {'council_id': 88, 'council_name': '722'}, {'council_id': 89, 'council_name': '905'}, {'council_id': 90, 'council_name': '911'}, {'council_id': 91, 'council_name': 'ALBURY'}, {'council_id': 92, 'council_name': 'ARMIDALE REGIONAL'}, {'council_id': 93, 'council_name': 'BALLINA'}, {'council_id': 94, 'council_name': 'BALRANALD'}, {'council_id': 95, 'council_name': 'BATHURST REGIONAL'}, {'council_id': 96, 'council_name': 'BAYSIDE'}, {'council_id': 97, 'council_name': 'BEGA VALLEY'}, {'council_id': 98, 'council_name': 'BELLINGEN'}, {'council_id': 99, 'council_name': 'BERRIGAN'}, {'council_id': 100, 'council_name': 'BLACKTOWN'}, {'council_id': 101, 'council_name': 'BLAND'}, {'council_id': 102, 'council_name': 'BLAYNEY'}, {'council_id': 103, 'council_name': 'BLUE MOUNTAINS'}, {'council_id': 104, 'council_name': 'BOGAN'}, {'council_id': 105, 'council_name': 'BOURKE'}, {'council_id': 106, 'council_name': 'BREWARRINA'}, {'council_id': 107, 'council_name': 'BROKEN HILL'}, {'council_id': 108, 'council_name': 'BURWOOD'}, {'council_id': 109, 'council_name': 'BYRON'}, {'council_id': 110, 'council_name': 'CABONNE'}, {'council_id': 111, 'council_name': 'CAMDEN'}, {'council_id': 112, 'council_name': 'CAMPBELLTOWN'}, {'council_id': 113, 'council_name': 'CANADA BAY'}, {'council_id': 114, 'council_name': 'CANTERBURY-BANKSTOWN'}, {'council_id': 115, 'council_name': 'CARRATHOOL'}, {'council_id': 116, 'council_name': 'CENTRAL COAST'}, {'council_id': 117, 'council_name': 'CENTRAL DARLING'}, {'council_id': 118, 'council_name': 'CESSNOCK'}, {'council_id': 119, 'council_name': 'CITY OF PARRAMATTA'}, {'council_id': 120, 'council_name': 'CITY OF SYDNEY'}, {'council_id': 121, 'council_name': 'CLARENCE VALLEY'}, {'council_id': 122, 'council_name': 'COBAR'}, {'council_id': 123, 'council_name': 'COFFS HARBOUR'}, {'council_id': 124, 'council_name': 'COOLAMON'}, {'council_id': 125, 'council_name': 'COONAMBLE'}, {'council_id': 126, 'council_name': 'COOTAMUNDRA-GUNDAGAI REGIONAL'}, {'council_id': 127, 'council_name': 'COWRA'}, {'council_id': 128, 'council_name': 'CUMBERLAND'}, {'council_id': 129, 'council_name': 'DUBBO REGIONAL'}, {'council_id': 130, 'council_name': 'DUNGOG'}, {'council_id': 131, 'council_name': 'EDWARD RIVER'}, {'council_id': 132, 'council_name': 'EUROBODALLA'}, {'council_id': 133, 'council_name': 'FAIRFIELD'}, {'council_id': 134, 'council_name': 'FEDERATION'}, {'council_id': 135, 'council_name': 'FORBES'}, {'council_id': 136, 'council_name': 'GEORGES RIVER'}, {'council_id': 137, 'council_name': 'GILGANDRA'}, {'council_id': 138, 'council_name': 'GLEN INNES SEVERN'}, {'council_id': 139, 'council_name': 'GOULBURN MULWAREE'}, {'council_id': 140, 'council_name': 'GREATER HUME'}, {'council_id': 141, 'council_name': 'GRIFFITH'}, {'council_id': 142, 'council_name': 'GUNNEDAH'}, {'council_id': 143, 'council_name': 'GWYDIR'}, {'council_id': 144, 'council_name': 'HAWKESBURY'}, {'council_id': 145, 'council_name': 'HAY'}, {'council_id': 146, 'council_name': 'HILLTOPS'}, {'council_id': 147, 'council_name': 'HORNSBY'}, {'council_id': 148, 'council_name': 'HUNTERS HILL'}, {'council_id': 149, 'council_name': 'INNER WEST'}, {'council_id': 150, 'council_name': 'INVERELL'}, {'council_id': 151, 'council_name': 'JUNEE'}, {'council_id': 152, 'council_name': 'KEMPSEY'}, {'council_id': 153, 'council_name': 'KIAMA'}, {'council_id': 154, 'council_name': 'KU-RING-GAI'}, {'council_id': 155, 'council_name': 'KYOGLE'}, {'council_id': 156, 'council_name': 'LACHLAN'}, {'council_id': 157, 'council_name': 'LAKE MACQUARIE'}, {'council_id': 158, 'council_name': 'LANE COVE'}, {'council_id': 159, 'council_name': 'LEETON'}, {'council_id': 160, 'council_name': 'LISMORE'}, {'council_id': 161, 'council_name': 'LITHGOW'}, {'council_id': 162, 'council_name': 'LIVERPOOL'}, {'council_id': 163, 'council_name': 'LIVERPOOL PLAINS'}, {'council_id': 164, 'council_name': 'LOCKHART'}, {'council_id': 165, 'council_name': 'MAITLAND'}, {'council_id': 166, 'council_name': 'MID-COAST'}, {'council_id': 167, 'council_name': 'MID WESTERN REGIONAL'}, {'council_id': 168, 'council_name': 'MOREE PLAINS'}, {'council_id': 169, 'council_name': 'MOSMAN'}, {'council_id': 170, 'council_name': 'MURRAY RIVER'}, {'council_id': 171, 'council_name': 'MURRUMBIDGEE'}, {'council_id': 172, 'council_name': 'MUSWELLBROOK'}, {'council_id': 173, 'council_name': 'NAMBUCCA'}, {'council_id': 174, 'council_name': 'NARRABRI'}, {'council_id': 175, 'council_name': 'NARRANDERA'}, {'council_id': 176, 'council_name': 'NARROMINE'}, {'council_id': 177, 'council_name': 'NEWCASTLE'}, {'council_id': 178, 'council_name': 'NORTHERN BEACHES'}, {'council_id': 179, 'council_name': 'NORTH SYDNEY'}, {'council_id': 180, 'council_name': 'OBERON'}, {'council_id': 181, 'council_name': 'ORANGE'}, {'council_id': 182, 'council_name': 'PARKES'}, {'council_id': 183, 'council_name': 'PENRITH'}, {'council_id': 184, 'council_name': 'PORT MACQUARIE-HASTINGS'}, {'council_id': 185, 'council_name': 'PORT STEPHENS'}, {'council_id': 186, 'council_name': 'QUEANBEYAN-PALERANG REGIONAL'}, {'council_id': 187, 'council_name': 'RANDWICK'}, {'council_id': 188, 'council_name': 'RICHMOND VALLEY'}, {'council_id': 189, 'council_name': 'RYDE'}, {'council_id': 190, 'council_name': 'SHELLHARBOUR'}, {'council_id': 191, 'council_name': 'SHOALHAVEN'}, {'council_id': 192, 'council_name': 'SINGLETON'}, {'council_id': 193, 'council_name': 'SNOWY MONARO REGIONAL'}, {'council_id': 194, 'council_name': 'SNOWY VALLEYS'}, {'council_id': 195, 'council_name': 'STRATHFIELD'}, {'council_id': 196, 'council_name': 'SUTHERLAND'}, {'council_id': 197, 'council_name': 'TAMWORTH REGIONAL'}, {'council_id': 198, 'council_name': 'TEMORA'}, {'council_id': 199, 'council_name': 'TENTERFIELD'}, {'council_id': 200, 'council_name': 'THE HILLS SHIRE'}, {'council_id': 201, 'council_name': 'TWEED'}, {'council_id': 202, 'council_name': 'UNINCORPORATED AREA'}, {'council_id': 203, 'council_name': 'UNINCORPORATED SYDNEY HARBOUR'}, {'council_id': 204, 'council_name': 'UPPER HUNTER'}, {'council_id': 205, 'council_name': 'UPPER LACHLAN'}, {'council_id': 206, 'council_name': 'URALLA'}, {'council_id': 207, 'council_name': 'WAGGA WAGGA'}, {'council_id': 208, 'council_name': 'WALCHA'}, {'council_id': 209, 'council_name': 'WALGETT'}, {'council_id': 210, 'council_name': 'WARREN'}, {'council_id': 211, 'council_name': 'WARRUMBUNGLE'}, {'council_id': 212, 'council_name': 'WAVERLEY'}, {'council_id': 213, 'council_name': 'WEDDIN'}, {'council_id': 214, 'council_name': 'WENTWORTH'}, {'council_id': 215, 'council_name': 'WILLOUGHBY'}, {'council_id': 216, 'council_name': 'WINGECARRIBEE'}, {'council_id': 217, 'council_name': 'WOLLONDILLY'}, {'council_id': 218, 'council_name': 'WOLLONGONG'}, {'council_id': 219, 'council_name': 'WOOLLAHRA'}, {'council_id': 220, 'council_name': 'YASS VALLEY'}]}]\n",
      "\n",
      "First 8 purpose: [{'purpose_id, primary_purpose\\n': [{'purpose_id': 1, 'primary_purpose': ''}, {'purpose_id': 16, 'primary_purpose': '0FFICE'}, {'purpose_id': 29, 'primary_purpose': '10 FLATS'}, {'purpose_id': 31, 'primary_purpose': '10 UNITS'}, {'purpose_id': 115, 'primary_purpose': '2'}, {'purpose_id': 159, 'primary_purpose': '2 CAR SPACES'}, {'purpose_id': 167, 'primary_purpose': '2 FLATS'}, {'purpose_id': 190, 'primary_purpose': '2 SHEDS'}, {'purpose_id': 193, 'primary_purpose': '2 SHOPS'}, {'purpose_id': 229, 'primary_purpose': '2 UNITS'}, {'purpose_id': 273, 'primary_purpose': '3 FLATS'}, {'purpose_id': 287, 'primary_purpose': '3 UNITS'}, {'purpose_id': 312, 'primary_purpose': '4 FLATS'}, {'purpose_id': 323, 'primary_purpose': '4 UNITS'}, {'purpose_id': 361, 'primary_purpose': '6 FLATS'}, {'purpose_id': 364, 'primary_purpose': '6MOTEL UNITS'}, {'purpose_id': 369, 'primary_purpose': '6 UNITS'}, {'purpose_id': 389, 'primary_purpose': '8 MOTEL UNITS'}, {'purpose_id': 406, 'primary_purpose': 'ABATTOIR'}, {'purpose_id': 415, 'primary_purpose': 'ACCOMMODATION'}, {'purpose_id': 449, 'primary_purpose': 'AGED CARE'}, {'purpose_id': 455, 'primary_purpose': 'AGED CARE FAC'}, {'purpose_id': 457, 'primary_purpose': 'AGED CARE FACI'}, {'purpose_id': 474, 'primary_purpose': 'AGRICULTURAL'}, {'purpose_id': 487, 'primary_purpose': 'AIRPORT'}, {'purpose_id': 489, 'primary_purpose': 'AIRPORT HANGAR'}, {'purpose_id': 515, 'primary_purpose': 'AMUSEMENT PAR'}, {'purpose_id': 528, 'primary_purpose': 'APARTMENT'}, {'purpose_id': 537, 'primary_purpose': 'APARTMENTS'}, {'purpose_id': 547, 'primary_purpose': 'APT'}, {'purpose_id': 611, 'primary_purpose': 'BACKPACKERS'}, {'purpose_id': 615, 'primary_purpose': 'BAKERY'}, {'purpose_id': 627, 'primary_purpose': 'BANK'}, {'purpose_id': 635, 'primary_purpose': 'BANK PREMISES'}, {'purpose_id': 643, 'primary_purpose': 'BARN'}, {'purpose_id': 705, 'primary_purpose': 'BDY ADJ SALE PT LOT '}, {'purpose_id': 710, 'primary_purpose': 'BDY ADJUSTMENT SALE '}, {'purpose_id': 720, 'primary_purpose': 'BED & BREAKFA'}, {'purpose_id': 740, 'primary_purpose': 'BERTH'}, {'purpose_id': 755, 'primary_purpose': 'BLDG'}, {'purpose_id': 760, 'primary_purpose': 'BLDGS'}, {'purpose_id': 789, 'primary_purpose': 'BLOCK OF FLAT'}, {'purpose_id': 791, 'primary_purpose': 'BLOCK OF FLATS'}, {'purpose_id': 797, 'primary_purpose': 'BLOCK OF UNIT'}, {'purpose_id': 799, 'primary_purpose': 'BLOCK OF UNITS'}, {'purpose_id': 801, 'primary_purpose': 'BLOCK UNITS'}, {'purpose_id': 809, 'primary_purpose': 'BOARDING HOUS'}, {'purpose_id': 811, 'primary_purpose': 'BOARDING HOUSE'}, {'purpose_id': 825, 'primary_purpose': 'BOAT MOORING'}, {'purpose_id': 830, 'primary_purpose': 'BOAT SHED'}, {'purpose_id': 831, 'primary_purpose': 'BOATSHED'}, {'purpose_id': 840, 'primary_purpose': 'BORE SITE'}, {'purpose_id': 851, 'primary_purpose': 'BOUNDARY ADJU'}, {'purpose_id': 852, 'primary_purpose': 'BOUNDARY ADJUS'}, {'purpose_id': 874, 'primary_purpose': 'BOWLING CLUB'}, {'purpose_id': 893, 'primary_purpose': 'BRICK FACTORY'}, {'purpose_id': 915, 'primary_purpose': 'BUILDING'}, {'purpose_id': 918, 'primary_purpose': 'BUILDING BLOC'}, {'purpose_id': 924, 'primary_purpose': 'BUILDINGS'}, {'purpose_id': 953, 'primary_purpose': 'BUS DEPOT'}, {'purpose_id': 973, 'primary_purpose': 'BUSINESS'}, {'purpose_id': 985, 'primary_purpose': 'BUSINESS PREM'}, {'purpose_id': 995, 'primary_purpose': 'BUSINESS RP'}, {'purpose_id': 1005, 'primary_purpose': 'BUSINESS UNIT'}, {'purpose_id': 1031, 'primary_purpose': 'CABIN'}, {'purpose_id': 1044, 'primary_purpose': 'CAFE'}, {'purpose_id': 1073, 'primary_purpose': 'CAMP'}, {'purpose_id': 1082, 'primary_purpose': 'CANE FARM'}, {'purpose_id': 1099, 'primary_purpose': 'CARAVAN PARK'}, {'purpose_id': 1106, 'primary_purpose': 'CARAVAN PK'}, {'purpose_id': 1116, 'primary_purpose': 'CAR DEALERSHI'}, {'purpose_id': 1135, 'primary_purpose': 'CAR PARK'}, {'purpose_id': 1137, 'primary_purpose': 'CARPARK'}, {'purpose_id': 1141, 'primary_purpose': 'CAR PARKING'}, {'purpose_id': 1150, 'primary_purpose': 'CAR PARKS'}, {'purpose_id': 1151, 'primary_purpose': 'CARPARKS'}, {'purpose_id': 1162, 'primary_purpose': 'CARPORT'}, {'purpose_id': 1185, 'primary_purpose': 'CAR SPACE'}, {'purpose_id': 1187, 'primary_purpose': 'CARSPACE'}, {'purpose_id': 1188, 'primary_purpose': 'CARSPACE '}, {'purpose_id': 1201, 'primary_purpose': 'CAR SPACES'}, {'purpose_id': 1203, 'primary_purpose': 'CARSPACES'}, {'purpose_id': 1212, 'primary_purpose': 'CARSPACES & S'}, {'purpose_id': 1213, 'primary_purpose': 'CARSPACE & ST'}, {'purpose_id': 1214, 'primary_purpose': 'CAR SPACE/STO'}, {'purpose_id': 1216, 'primary_purpose': 'CARSPACE&STOR'}, {'purpose_id': 1218, 'primary_purpose': 'CARSPACE/STOR'}, {'purpose_id': 1221, 'primary_purpose': 'CAR SPACES X11'}, {'purpose_id': 1238, 'primary_purpose': 'CAR WASH'}, {'purpose_id': 1240, 'primary_purpose': 'CARWASH'}, {'purpose_id': 1249, 'primary_purpose': 'CAR YARD'}, {'purpose_id': 1252, 'primary_purpose': 'CARYARD'}, {'purpose_id': 1286, 'primary_purpose': 'CATTLE YARDS'}, {'purpose_id': 1318, 'primary_purpose': 'CENTRE'}, {'purpose_id': 1344, 'primary_purpose': 'CHILD CARE'}, {'purpose_id': 1346, 'primary_purpose': 'CHILDCARE'}, {'purpose_id': 1348, 'primary_purpose': 'CHILD CARE CE'}, {'purpose_id': 1351, 'primary_purpose': 'CHILD CARE CEN'}, {'purpose_id': 1352, 'primary_purpose': 'CHILDCARE CEN'}, {'purpose_id': 1354, 'primary_purpose': 'CHILDCARE CENT'}, {'purpose_id': 1355, 'primary_purpose': 'CHILDCARECENT'}, {'purpose_id': 1361, 'primary_purpose': 'CHILD CARE CT'}, {'purpose_id': 1364, 'primary_purpose': 'CHILDCARE CTR'}, {'purpose_id': 1378, 'primary_purpose': 'CHURCH'}, {'purpose_id': 1385, 'primary_purpose': 'CHURCH BLDG'}, {'purpose_id': 1389, 'primary_purpose': 'CHURCH BUILDI'}, {'purpose_id': 1398, 'primary_purpose': 'CHURCH & HALL'}, {'purpose_id': 1399, 'primary_purpose': 'CHURCH HALL'}, {'purpose_id': 1429, 'primary_purpose': 'CINEMA'}, {'purpose_id': 1441, 'primary_purpose': 'CLINIC'}, {'purpose_id': 1450, 'primary_purpose': 'CLOSED RD'}, {'purpose_id': 1461, 'primary_purpose': 'CLOSED ROAD'}, {'purpose_id': 1471, 'primary_purpose': 'CLOSED ROADS'}, {'purpose_id': 1480, 'primary_purpose': 'CLUB'}, {'purpose_id': 1486, 'primary_purpose': 'CLUB HOUSE'}, {'purpose_id': 1487, 'primary_purpose': 'CLUBHOUSE'}, {'purpose_id': 1497, 'primary_purpose': 'CLUB PREMISES'}, {'purpose_id': 1532, 'primary_purpose': 'COAL MINE'}, {'purpose_id': 1533, 'primary_purpose': 'COALMINE'}, {'purpose_id': 1547, 'primary_purpose': 'COLLEGE'}, {'purpose_id': 1574, 'primary_purpose': 'COMEMRCIAL'}, {'purpose_id': 1576, 'primary_purpose': 'COMEMRCIAL BL'}, {'purpose_id': 1581, 'primary_purpose': 'COMEMRCIAL PR'}, {'purpose_id': 1589, 'primary_purpose': 'COMEMRCIAL UN'}, {'purpose_id': 1594, 'primary_purpose': 'COMERCIAL'}, {'purpose_id': 1616, 'primary_purpose': 'COM/INDUST'}, {'purpose_id': 1621, 'primary_purpose': 'COMM'}, {'purpose_id': 1630, 'primary_purpose': 'COMM BLDG'}, {'purpose_id': 1657, 'primary_purpose': 'COMMECIAL'}, {'purpose_id': 1681, 'primary_purpose': 'COMMERCAIL'}, {'purpose_id': 1695, 'primary_purpose': 'COMMERCIA'}, {'purpose_id': 1704, 'primary_purpose': 'COMMERCIAL'}, {'purpose_id': 1705, 'primary_purpose': 'COMMERCIAL '}, {'purpose_id': 1706, 'primary_purpose': 'COMMERCIAL &'}, {'purpose_id': 1728, 'primary_purpose': 'COMMERCIAL BA'}, {'purpose_id': 1737, 'primary_purpose': 'COMMERCIAL BL'}, {'purpose_id': 1739, 'primary_purpose': 'COMMERCIAL BLD'}, {'purpose_id': 1743, 'primary_purpose': 'COMMERCIAL BU'}, {'purpose_id': 1745, 'primary_purpose': 'COMMERCIAL BUI'}, {'purpose_id': 1746, 'primary_purpose': 'COMMERCIALBUI'}, {'purpose_id': 1760, 'primary_purpose': 'COMMERCIAL CO'}, {'purpose_id': 1769, 'primary_purpose': 'COMMERCIAL FA'}, {'purpose_id': 1771, 'primary_purpose': 'COMMERCIAL FAC'}, {'purpose_id': 1778, 'primary_purpose': 'COMMERCIAL HO'}, {'purpose_id': 1783, 'primary_purpose': 'COMMERCIAL IN'}, {'purpose_id': 1784, 'primary_purpose': 'COMMERCIAL/IN'}, {'purpose_id': 1787, 'primary_purpose': 'COMMERCIAL/IND'}, {'purpose_id': 1792, 'primary_purpose': 'COMMERCIAL LA'}, {'purpose_id': 1793, 'primary_purpose': 'COMMERCIAL/LA'}, {'purpose_id': 1796, 'primary_purpose': 'COMMERCIAL LO'}, {'purpose_id': 1797, 'primary_purpose': 'COMMERCIAL LOT'}, {'purpose_id': 1819, 'primary_purpose': 'COMMERCIAL OF'}, {'purpose_id': 1821, 'primary_purpose': 'COMMERCIAL/OF'}, {'purpose_id': 1822, 'primary_purpose': 'COMMERCIAL OFF'}, {'purpose_id': 1823, 'primary_purpose': 'COMMERCIALOFF'}, {'purpose_id': 1830, 'primary_purpose': 'COMMERCIAL PP'}, {'purpose_id': 1832, 'primary_purpose': 'COMMERCIAL PR'}, {'purpose_id': 1833, 'primary_purpose': 'COMMERCIAL PR '}, {'purpose_id': 1835, 'primary_purpose': 'COMMERCIAL PRE'}, {'purpose_id': 1836, 'primary_purpose': 'COMMERCIALPRE'}, {'purpose_id': 1840, 'primary_purpose': 'COMMERCIAL PRO'}, {'purpose_id': 1856, 'primary_purpose': 'COMMERCIAL & R'}, {'purpose_id': 1861, 'primary_purpose': 'COMMERCIAL RE'}, {'purpose_id': 1865, 'primary_purpose': 'COMMERCIAL/RE'}, {'purpose_id': 1870, 'primary_purpose': 'COMMERCIAL/RES'}, {'purpose_id': 1887, 'primary_purpose': 'COMMERCIAL SH'}, {'purpose_id': 1890, 'primary_purpose': 'COMMERCIAL/SH'}, {'purpose_id': 1891, 'primary_purpose': 'COMMERCIAL SHE'}, {'purpose_id': 1892, 'primary_purpose': 'COMMERCIALSHED'}, {'purpose_id': 1893, 'primary_purpose': 'COMMERCIAL SHO'}, {'purpose_id': 1895, 'primary_purpose': 'COMMERCIALSHOP'}, {'purpose_id': 1897, 'primary_purpose': 'COMMERCIAL SI'}, {'purpose_id': 1902, 'primary_purpose': 'COMMERCIAL SP'}, {'purpose_id': 1904, 'primary_purpose': 'COMMERCIAL ST'}, {'purpose_id': 1908, 'primary_purpose': 'COMMERCIAL STR'}, {'purpose_id': 1910, 'primary_purpose': 'COMMERCIAL SU'}, {'purpose_id': 1915, 'primary_purpose': 'COMMERCIAL SUI'}, {'purpose_id': 1925, 'primary_purpose': 'COMMERCIAL UN'}, {'purpose_id': 1926, 'primary_purpose': 'COMMERCIAL UN '}, {'purpose_id': 1927, 'primary_purpose': 'COMMERCIAL/UN'}, {'purpose_id': 1928, 'primary_purpose': 'COMMERCIAL UNI'}, {'purpose_id': 1929, 'primary_purpose': 'COMMERCIALUNI'}, {'purpose_id': 1931, 'primary_purpose': 'COMMERCIALUNIT'}, {'purpose_id': 1933, 'primary_purpose': 'COMMERCIAL US'}, {'purpose_id': 1938, 'primary_purpose': 'COMMERCIAL WA'}, {'purpose_id': 1990, 'primary_purpose': 'COMMERIAL'}, {'purpose_id': 1996, 'primary_purpose': 'COMMERICAL'}, {'purpose_id': 2000, 'primary_purpose': 'COMMERICAL/CA'}, {'purpose_id': 2006, 'primary_purpose': 'COMMERICAL OF'}, {'purpose_id': 2008, 'primary_purpose': 'COMMERICAL PR'}, {'purpose_id': 2011, 'primary_purpose': 'COMMERICAL/RES'}, {'purpose_id': 2018, 'primary_purpose': 'COMMERICAL UN'}, {'purpose_id': 2019, 'primary_purpose': 'COMMERICAL UNI'}, {'purpose_id': 2023, 'primary_purpose': 'COMMERICIAL'}, {'purpose_id': 2062, 'primary_purpose': 'COMML STRATA'}, {'purpose_id': 2065, 'primary_purpose': 'COMMMERCIAL'}, {'purpose_id': 2074, 'primary_purpose': 'COMM OFFICE'}, {'purpose_id': 2077, 'primary_purpose': 'COMM. OFFICE'}, {'purpose_id': 2087, 'primary_purpose': 'COMMON PROPER'}, {'purpose_id': 2101, 'primary_purpose': 'COMM PREMISES'}, {'purpose_id': 2116, 'primary_purpose': 'COMM/RES'}, {'purpose_id': 2126, 'primary_purpose': 'COMM/RESID'}, {'purpose_id': 2128, 'primary_purpose': 'COMM/RESIDEN'}, {'purpose_id': 2131, 'primary_purpose': 'COMM/RESIDENT'}, {'purpose_id': 2149, 'primary_purpose': 'COMM STE'}, {'purpose_id': 2152, 'primary_purpose': 'COMM STRATA'}, {'purpose_id': 2160, 'primary_purpose': 'COMM SUITE'}, {'purpose_id': 2175, 'primary_purpose': 'COMM UNIT'}, {'purpose_id': 2178, 'primary_purpose': 'COMM. UNIT'}, {'purpose_id': 2179, 'primary_purpose': 'COMM.UNIT'}, {'purpose_id': 2183, 'primary_purpose': 'COMM UNIT/CAR'}, {'purpose_id': 2184, 'primary_purpose': 'COMM UNITS'}, {'purpose_id': 2185, 'primary_purpose': 'COMM. UNITS'}, {'purpose_id': 2192, 'primary_purpose': 'COMMUNITY HAL'}, {'purpose_id': 2193, 'primary_purpose': 'COMMUNITY HALL'}, {'purpose_id': 2241, 'primary_purpose': 'COM UNIT'}, {'purpose_id': 2260, 'primary_purpose': 'CONCRETE PLAN'}, {'purpose_id': 2278, 'primary_purpose': 'CONMERCIAL'}, {'purpose_id': 2290, 'primary_purpose': 'CONSULTING RO'}, {'purpose_id': 2298, 'primary_purpose': 'CONVENT'}, {'purpose_id': 2333, 'primary_purpose': 'COTTAGE'}, {'purpose_id': 2343, 'primary_purpose': 'COTTAGES & FAR'}, {'purpose_id': 2385, 'primary_purpose': 'CROWN ROAD'}, {'purpose_id': 2407, 'primary_purpose': 'CYCLEWAY'}, {'purpose_id': 2414, 'primary_purpose': 'DAIRY FARM'}, {'purpose_id': 2435, 'primary_purpose': 'DAY CARE CENT'}, {'purpose_id': 2455, 'primary_purpose': 'DEFENCE LANDS'}, {'purpose_id': 2475, 'primary_purpose': 'DENTAL SURGER'}, {'purpose_id': 2477, 'primary_purpose': 'DENTAL SURGERY'}, {'purpose_id': 2483, 'primary_purpose': 'DENTIST SURGE'}, {'purpose_id': 2486, 'primary_purpose': 'DEPOT'}, {'purpose_id': 2516, 'primary_purpose': 'DEVELOPMENT'}, {'purpose_id': 2517, 'primary_purpose': 'DEVELOPMENT S'}, {'purpose_id': 2541, 'primary_purpose': 'DISPLAY HOME'}, {'purpose_id': 2573, 'primary_purpose': \"DOCTOR'S SURG\"}, {'purpose_id': 2577, 'primary_purpose': 'DOCTORS SURGE'}, {'purpose_id': 2596, 'primary_purpose': 'DRAINAGE RESE'}, {'purpose_id': 2612, 'primary_purpose': 'DR SURGERY'}, {'purpose_id': 2629, 'primary_purpose': 'DUPLEX'}, {'purpose_id': 2630, 'primary_purpose': 'DUPLEX '}, {'purpose_id': 2654, 'primary_purpose': 'DWELLING'}, {'purpose_id': 2713, 'primary_purpose': 'ERCIAL'}, {'purpose_id': 2722, 'primary_purpose': 'EXCHANGE'}, {'purpose_id': 2765, 'primary_purpose': 'FACTORIES'}, {'purpose_id': 2778, 'primary_purpose': 'FACTORY'}, {'purpose_id': 2779, 'primary_purpose': 'FACTORY '}, {'purpose_id': 2782, 'primary_purpose': 'FACTORY & 9 C'}, {'purpose_id': 2787, 'primary_purpose': 'FACTORY BAY'}, {'purpose_id': 2790, 'primary_purpose': 'FACTORY BAYS'}, {'purpose_id': 2793, 'primary_purpose': 'FACTORY BLD'}, {'purpose_id': 2829, 'primary_purpose': 'FACTORY & OFF'}, {'purpose_id': 2836, 'primary_purpose': 'FACTORY/OFFIC'}, {'purpose_id': 2839, 'primary_purpose': 'FACTORY/OFFICE'}, {'purpose_id': 2843, 'primary_purpose': 'FACTORY PREMI'}, {'purpose_id': 2849, 'primary_purpose': 'FACTORY SHED'}, {'purpose_id': 2876, 'primary_purpose': 'FACTORY UNIT'}, {'purpose_id': 2877, 'primary_purpose': 'FACTORY UNIT '}, {'purpose_id': 2880, 'primary_purpose': 'FACTORYUNIT'}, {'purpose_id': 2883, 'primary_purpose': 'FACTORY UNITS'}, {'purpose_id': 2893, 'primary_purpose': 'FACTORY WAREH'}, {'purpose_id': 2894, 'primary_purpose': 'FACTORY/WAREH'}, {'purpose_id': 2915, 'primary_purpose': 'FAC. UNIT & CS'}, {'purpose_id': 2941, 'primary_purpose': 'FARM'}, {'purpose_id': 2942, 'primary_purpose': 'FARM '}, {'purpose_id': 3038, 'primary_purpose': 'FARM FORESTRY'}, {'purpose_id': 3055, 'primary_purpose': 'FARM & HOUSE'}, {'purpose_id': 3057, 'primary_purpose': 'FARM HOUSE'}, {'purpose_id': 3063, 'primary_purpose': 'FARM/HOUSE'}, {'purpose_id': 3082, 'primary_purpose': 'FARMING'}, {'purpose_id': 3091, 'primary_purpose': 'FARMING LAND'}, {'purpose_id': 3097, 'primary_purpose': 'FARMING LANDS'}, {'purpose_id': 3103, 'primary_purpose': 'FARMING PROPE'}, {'purpose_id': 3110, 'primary_purpose': 'FARMIRURAL'}, {'purpose_id': 3117, 'primary_purpose': 'FARM LAND'}, {'purpose_id': 3122, 'primary_purpose': 'FARMLAND'}, {'purpose_id': 3138, 'primary_purpose': 'FARMLAND/HOUSE'}, {'purpose_id': 3156, 'primary_purpose': 'FARM LANDS'}, {'purpose_id': 3158, 'primary_purpose': 'FARMLANDS'}, {'purpose_id': 3179, 'primary_purpose': 'FARMLET'}, {'purpose_id': 3290, 'primary_purpose': 'FARM PROPERTY'}, {'purpose_id': 3324, 'primary_purpose': 'FARM/RES'}, {'purpose_id': 3327, 'primary_purpose': 'FARM & RESIDE'}, {'purpose_id': 3332, 'primary_purpose': 'FARM/RESIDENC'}, {'purpose_id': 3334, 'primary_purpose': 'FARM RESIDENCE'}, {'purpose_id': 3336, 'primary_purpose': 'FARM/RESIDENCE'}, {'purpose_id': 3354, 'primary_purpose': 'FARM / RURAL'}, {'purpose_id': 3357, 'primary_purpose': 'FARM RURAL'}, {'purpose_id': 3361, 'primary_purpose': 'FARM.RURAL'}, {'purpose_id': 3364, 'primary_purpose': 'FARM/RURAL'}, {'purpose_id': 3365, 'primary_purpose': 'FARM/RURAL '}, {'purpose_id': 3368, 'primary_purpose': 'FARM:RURAL'}, {'purpose_id': 3369, 'primary_purpose': 'FARMRURAL'}, {'purpose_id': 3396, 'primary_purpose': 'FARMS'}, {'purpose_id': 3412, 'primary_purpose': 'FARM SHED'}, {'purpose_id': 3447, 'primary_purpose': 'FARM - WHOLE OF PROP'}, {'purpose_id': 3464, 'primary_purpose': 'FARN'}, {'purpose_id': 3505, 'primary_purpose': 'FIRE STATION'}, {'purpose_id': 3519, 'primary_purpose': 'FLAT'}, {'purpose_id': 3533, 'primary_purpose': 'FLATS'}, {'purpose_id': 3534, 'primary_purpose': 'FLATS '}, {'purpose_id': 3608, 'primary_purpose': 'FOREST'}, {'purpose_id': 3610, 'primary_purpose': 'FORESTRY'}, {'purpose_id': 3611, 'primary_purpose': 'FORESTRY LAND'}, {'purpose_id': 3612, 'primary_purpose': 'FORESTRY PLAN'}, {'purpose_id': 3613, 'primary_purpose': 'FORESTS'}, {'purpose_id': 3641, 'primary_purpose': 'FORMER CROWN ROAD'}, {'purpose_id': 3642, 'primary_purpose': 'FORMER CROWN ROADS'}, {'purpose_id': 3660, 'primary_purpose': 'FORMER ROAD'}, {'purpose_id': 3662, 'primary_purpose': 'FORMER SCHOOL'}, {'purpose_id': 3707, 'primary_purpose': 'FUEL DEPOT'}, {'purpose_id': 3717, 'primary_purpose': 'FUNCTION CENT'}, {'purpose_id': 3728, 'primary_purpose': 'FUNERAL HOME'}, {'purpose_id': 3732, 'primary_purpose': 'FUNERAL PARLO'}, {'purpose_id': 3746, 'primary_purpose': 'GARAGE'}, {'purpose_id': 3759, 'primary_purpose': 'GARAGE, HOUSE'}, {'purpose_id': 3768, 'primary_purpose': 'GARAGES'}, {'purpose_id': 3779, 'primary_purpose': 'GARAGE SPACE'}, {'purpose_id': 3813, 'primary_purpose': 'GENERAL STORE'}, {'purpose_id': 3837, 'primary_purpose': 'GOLF COURSE'}, {'purpose_id': 3839, 'primary_purpose': 'GOLF COURSE &'}, {'purpose_id': 3864, 'primary_purpose': 'GRAIN STORAGE'}, {'purpose_id': 3874, 'primary_purpose': 'GRAZING'}, {'purpose_id': 3883, 'primary_purpose': 'GRAZING LAND'}, {'purpose_id': 3890, 'primary_purpose': 'GRAZING LANDS'}, {'purpose_id': 3894, 'primary_purpose': 'GRAZING PROPE'}, {'purpose_id': 3913, 'primary_purpose': 'GUEST HOUSE'}, {'purpose_id': 3916, 'primary_purpose': 'GUESTHOUSE'}, {'purpose_id': 3939, 'primary_purpose': 'HALL'}, {'purpose_id': 3957, 'primary_purpose': 'HANGAR'}, {'purpose_id': 3960, 'primary_purpose': 'HANGER'}, {'purpose_id': 4013, 'primary_purpose': 'HOBBY FARM'}, {'purpose_id': 4036, 'primary_purpose': 'HOLIDAY FLATS'}, {'purpose_id': 4045, 'primary_purpose': 'HOLIDAY PARK'}, {'purpose_id': 4048, 'primary_purpose': 'HOLIDAY RESOR'}, {'purpose_id': 4049, 'primary_purpose': 'HOLIDAY RESORT'}, {'purpose_id': 4053, 'primary_purpose': 'HOLIDAY UNIT'}, {'purpose_id': 4056, 'primary_purpose': 'HOLIDAY UNITS'}, {'purpose_id': 4062, 'primary_purpose': 'HOME'}, {'purpose_id': 4086, 'primary_purpose': 'HOMESTEAD'}, {'purpose_id': 4106, 'primary_purpose': 'HOME  UNIT'}, {'purpose_id': 4109, 'primary_purpose': 'HOME UNIT'}, {'purpose_id': 4110, 'primary_purpose': 'HOME UNIT '}, {'purpose_id': 4119, 'primary_purpose': 'HOMEUNIT'}, {'purpose_id': 4126, 'primary_purpose': 'HOME UNIT BLD'}, {'purpose_id': 4127, 'primary_purpose': 'HOME UNIT BLO'}, {'purpose_id': 4129, 'primary_purpose': 'HOME UNIT & C'}, {'purpose_id': 4135, 'primary_purpose': 'HOME UNIT/CAR'}, {'purpose_id': 4138, 'primary_purpose': 'HOME UNIT & G'}, {'purpose_id': 4150, 'primary_purpose': 'HOME UNITS'}, {'purpose_id': 4188, 'primary_purpose': 'HORSE STABLES'}, {'purpose_id': 4190, 'primary_purpose': 'HORSE STUD'}, {'purpose_id': 4196, 'primary_purpose': 'HOSPITAL'}, {'purpose_id': 4200, 'primary_purpose': 'HOSPITALS'}, {'purpose_id': 4203, 'primary_purpose': 'HOSTEL'}, {'purpose_id': 4209, 'primary_purpose': 'HOTEL'}, {'purpose_id': 4210, 'primary_purpose': 'HOTEL '}, {'purpose_id': 4256, 'primary_purpose': 'HOTEL/MOTEL'}, {'purpose_id': 4265, 'primary_purpose': 'HOTEL PREMISE'}, {'purpose_id': 4276, 'primary_purpose': 'HOTEL RESORT'}, {'purpose_id': 4281, 'primary_purpose': 'HOTEL ROOM'}, {'purpose_id': 4295, 'primary_purpose': 'HOTEL UNIT '}, {'purpose_id': 4301, 'primary_purpose': 'HOUSE'}, {'purpose_id': 4302, 'primary_purpose': 'HOUSE '}, {'purpose_id': 4322, 'primary_purpose': 'HOUSE AND FARM'}, {'purpose_id': 4328, 'primary_purpose': 'HOUSE AND LAN'}, {'purpose_id': 4330, 'primary_purpose': 'HOUSE AND LAND'}, {'purpose_id': 4370, 'primary_purpose': 'HOUSE & FARM'}, {'purpose_id': 4375, 'primary_purpose': 'HOUSE/FARM'}, {'purpose_id': 4388, 'primary_purpose': 'HOUSE&FARMLAND'}, {'purpose_id': 4389, 'primary_purpose': 'HOUSE/FARMLAND'}, {'purpose_id': 4399, 'primary_purpose': 'HOUSE & GARAG'}, {'purpose_id': 4427, 'primary_purpose': 'HOUSE & LAND'}, {'purpose_id': 4432, 'primary_purpose': 'HOUSE/LAND'}, {'purpose_id': 4463, 'primary_purpose': 'HOUSE & RURAL'}, {'purpose_id': 4467, 'primary_purpose': 'HOUSE/RURAL'}, {'purpose_id': 4489, 'primary_purpose': 'HOUSE & SHOP'}, {'purpose_id': 4494, 'primary_purpose': 'HOUSE/SHOP'}, {'purpose_id': 4520, 'primary_purpose': 'HOUSE TOWNHOU'}, {'purpose_id': 4524, 'primary_purpose': 'HOUSE/TOWNHOU'}, {'purpose_id': 4581, 'primary_purpose': 'I'}, {'purpose_id': 4629, 'primary_purpose': 'INCLUDES 24 LOTS SOL'}, {'purpose_id': 4635, 'primary_purpose': 'INCLUDES OTHER LANDS'}, {'purpose_id': 4695, 'primary_purpose': 'IND UNIT'}, {'purpose_id': 4723, 'primary_purpose': 'INDUST/COM'}, {'purpose_id': 4725, 'primary_purpose': 'INDUST/COMM'}, {'purpose_id': 4757, 'primary_purpose': 'INDUSTRAIL'}, {'purpose_id': 4778, 'primary_purpose': 'INDUSTRIAL'}, {'purpose_id': 4779, 'primary_purpose': 'INDUSTRIAL '}, {'purpose_id': 4790, 'primary_purpose': 'INDUSTRIAL BA'}, {'purpose_id': 4791, 'primary_purpose': 'INDUSTRIAL BAY'}, {'purpose_id': 4794, 'primary_purpose': 'INDUSTRIAL BL'}, {'purpose_id': 4800, 'primary_purpose': 'INDUSTRIAL BU'}, {'purpose_id': 4803, 'primary_purpose': 'INDUSTRIAL BUI'}, {'purpose_id': 4808, 'primary_purpose': 'INDUSTRIAL CO'}, {'purpose_id': 4809, 'primary_purpose': 'INDUSTRIAL/CO'}, {'purpose_id': 4812, 'primary_purpose': 'INDUSTRIAL/COM'}, {'purpose_id': 4813, 'primary_purpose': 'INDUSTRIALCOM'}, {'purpose_id': 4817, 'primary_purpose': 'INDUSTRIAL ES'}, {'purpose_id': 4818, 'primary_purpose': 'INDUSTRIAL FA'}, {'purpose_id': 4827, 'primary_purpose': 'INDUSTRIAL LA'}, {'purpose_id': 4833, 'primary_purpose': 'INDUSTRIAL LOT'}, {'purpose_id': 4846, 'primary_purpose': 'INDUSTRIAL PR'}, {'purpose_id': 4858, 'primary_purpose': 'INDUSTRIAL SH'}, {'purpose_id': 4863, 'primary_purpose': 'INDUSTRIAL SHE'}, {'purpose_id': 4866, 'primary_purpose': 'INDUSTRIALSHED'}, {'purpose_id': 4870, 'primary_purpose': 'INDUSTRIAL SI'}, {'purpose_id': 4874, 'primary_purpose': 'INDUSTRIAL ST'}, {'purpose_id': 4878, 'primary_purpose': 'INDUSTRIAL SU'}, {'purpose_id': 4882, 'primary_purpose': 'INDUSTRIAL UN'}, {'purpose_id': 4883, 'primary_purpose': 'INDUSTRIAL UN '}, {'purpose_id': 4887, 'primary_purpose': 'INDUSTRIAL UNI'}, {'purpose_id': 4888, 'primary_purpose': 'INDUSTRIALUNI'}, {'purpose_id': 4889, 'primary_purpose': 'INDUSTRIALUNIT'}, {'purpose_id': 4894, 'primary_purpose': 'INDUSTRIAL WA'}, {'purpose_id': 4896, 'primary_purpose': 'INDUSTRIAL/WA'}, {'purpose_id': 4899, 'primary_purpose': 'INDUSTRIAL WO'}, {'purpose_id': 4920, 'primary_purpose': 'INDUSTRY'}, {'purpose_id': 4930, 'primary_purpose': 'INDUST SHED'}, {'purpose_id': 4940, 'primary_purpose': 'INDUST UNIT'}, {'purpose_id': 4941, 'primary_purpose': 'INDUST. UNIT'}, {'purpose_id': 4959, 'primary_purpose': 'IND WAREHOUSE'}, {'purpose_id': 4984, 'primary_purpose': 'INVESTMENT'}, {'purpose_id': 5034, 'primary_purpose': 'KINDERGARTEN'}, {'purpose_id': 5052, 'primary_purpose': 'LAND'}, {'purpose_id': 5062, 'primary_purpose': 'LAND AND SHED'}, {'purpose_id': 5116, 'primary_purpose': 'LAND/RES'}, {'purpose_id': 5128, 'primary_purpose': 'LAND & SHED'}, {'purpose_id': 5130, 'primary_purpose': 'LAND/SHED'}, {'purpose_id': 5150, 'primary_purpose': 'LAND WITH SHED'}, {'purpose_id': 5155, 'primary_purpose': 'LANEWAY'}, {'purpose_id': 5161, 'primary_purpose': 'LARGE SHED'}, {'purpose_id': 5197, 'primary_purpose': 'LICENSED HOTE'}, {'purpose_id': 5198, 'primary_purpose': 'LICENSED HOTEL'}, {'purpose_id': 5207, 'primary_purpose': 'LIGHT INDUSTR'}, {'purpose_id': 5210, 'primary_purpose': 'LIGHT INDUSTRY'}, {'purpose_id': 5242, 'primary_purpose': 'LODGE'}, {'purpose_id': 5454, 'primary_purpose': 'MACHINERY SHE'}, {'purpose_id': 5455, 'primary_purpose': 'MACHINERY SHED'}, {'purpose_id': 5473, 'primary_purpose': 'MARINA'}, {'purpose_id': 5478, 'primary_purpose': 'MARINA BERTH'}, {'purpose_id': 5480, 'primary_purpose': 'MARINABERTH'}, {'purpose_id': 5492, 'primary_purpose': 'MARINE BERTH'}, {'purpose_id': 5500, 'primary_purpose': 'MASONIC HALL'}, {'purpose_id': 5522, 'primary_purpose': 'MEDICAL'}, {'purpose_id': 5523, 'primary_purpose': 'MEDICAL CENTR'}, {'purpose_id': 5524, 'primary_purpose': 'MEDICAL CENTRE'}, {'purpose_id': 5539, 'primary_purpose': 'MEDICAL PRACT'}, {'purpose_id': 5547, 'primary_purpose': 'MEDICAL ROOMS'}, {'purpose_id': 5551, 'primary_purpose': 'MEDICAL SUITE'}, {'purpose_id': 5555, 'primary_purpose': 'MEDICAL SUITES'}, {'purpose_id': 5558, 'primary_purpose': 'MEDICAL SURGE'}, {'purpose_id': 5590, 'primary_purpose': 'MILL'}, {'purpose_id': 5594, 'primary_purpose': 'MINE'}, {'purpose_id': 5596, 'primary_purpose': 'MINE/FARM'}, {'purpose_id': 5605, 'primary_purpose': 'MINE SITE'}, {'purpose_id': 5608, 'primary_purpose': 'MINING'}, {'purpose_id': 5612, 'primary_purpose': 'MINING LAND'}, {'purpose_id': 5624, 'primary_purpose': 'MIXED'}, {'purpose_id': 5628, 'primary_purpose': 'MIXEDCOMMERCI'}, {'purpose_id': 5634, 'primary_purpose': 'MIXED FARMING'}, {'purpose_id': 5640, 'primary_purpose': 'MIXED USE'}, {'purpose_id': 5671, 'primary_purpose': 'MOORING'}, {'purpose_id': 5676, 'primary_purpose': 'MOORINGS'}, {'purpose_id': 5683, 'primary_purpose': 'MOTEL'}, {'purpose_id': 5684, 'primary_purpose': 'MOTEL '}, {'purpose_id': 5726, 'primary_purpose': 'MOTEL ROOM'}, {'purpose_id': 5729, 'primary_purpose': 'MOTELS'}, {'purpose_id': 5734, 'primary_purpose': 'MOTEL UNIT'}, {'purpose_id': 5735, 'primary_purpose': 'MOTELUNIT'}, {'purpose_id': 5745, 'primary_purpose': 'MOTOR DEALERS'}, {'purpose_id': 5747, 'primary_purpose': 'MOTOR INN'}, {'purpose_id': 5755, 'primary_purpose': 'MOTOR VEHICLE'}, {'purpose_id': 5817, 'primary_purpose': 'NEWSAGENCY'}, {'purpose_id': 5833, 'primary_purpose': 'NONE'}, {'purpose_id': 5855, 'primary_purpose': 'NULL'}, {'purpose_id': 5857, 'primary_purpose': 'NURSERY'}, {'purpose_id': 5871, 'primary_purpose': 'NURSING HOME'}, {'purpose_id': 5904, 'primary_purpose': 'OFFICE'}, {'purpose_id': 5905, 'primary_purpose': 'OFFICE '}, {'purpose_id': 5923, 'primary_purpose': 'OFFICE BLD'}, {'purpose_id': 5924, 'primary_purpose': 'OFFICE BLDG'}, {'purpose_id': 5932, 'primary_purpose': 'OFFICE BLOCK'}, {'purpose_id': 5938, 'primary_purpose': 'OFFICE BUILDI'}, {'purpose_id': 5940, 'primary_purpose': 'OFFICE BUILDIN'}, {'purpose_id': 5949, 'primary_purpose': 'OFFICE & CAR'}, {'purpose_id': 5953, 'primary_purpose': 'OFFICE & CARS'}, {'purpose_id': 5959, 'primary_purpose': 'OFFICE/CAR SP'}, {'purpose_id': 5964, 'primary_purpose': 'OFFICE/CARSPA'}, {'purpose_id': 5983, 'primary_purpose': 'OFFICE/FACTOR'}, {'purpose_id': 6009, 'primary_purpose': 'OFFICE & PARK'}, {'purpose_id': 6014, 'primary_purpose': 'OFFICE PREMIS'}, {'purpose_id': 6016, 'primary_purpose': 'OFFICE PREMISE'}, {'purpose_id': 6037, 'primary_purpose': 'OFFICES'}, {'purpose_id': 6043, 'primary_purpose': 'OFFICES/CARSP'}, {'purpose_id': 6051, 'primary_purpose': 'OFFICE & SHED'}, {'purpose_id': 6065, 'primary_purpose': 'OFFICE/SHOP'}, {'purpose_id': 6077, 'primary_purpose': 'OFFICE SPACE'}, {'purpose_id': 6090, 'primary_purpose': 'OFFICE STE'}, {'purpose_id': 6110, 'primary_purpose': 'OFFICE SUITE'}, {'purpose_id': 6117, 'primary_purpose': 'OFFICE SUITES'}, {'purpose_id': 6131, 'primary_purpose': 'OFFICE UNIT'}, {'purpose_id': 6137, 'primary_purpose': 'OFFICE UNITS'}, {'purpose_id': 6141, 'primary_purpose': 'OFFICE & WARE'}, {'purpose_id': 6150, 'primary_purpose': 'OFFICE/WAREHO'}, {'purpose_id': 6153, 'primary_purpose': 'OFFICE/WAREHOU'}, {'purpose_id': 6174, 'primary_purpose': 'OFFICE/WORKSH'}, {'purpose_id': 6217, 'primary_purpose': 'OLD CHURCH'}, {'purpose_id': 6267, 'primary_purpose': 'OLD SHOP'}, {'purpose_id': 6310, 'primary_purpose': 'ORCHARD'}, {'purpose_id': 6320, 'primary_purpose': 'Other'}, {'purpose_id': 6321, 'primary_purpose': 'OTHER'}, {'purpose_id': 6331, 'primary_purpose': 'OTHER - FARM'}, {'purpose_id': 6332, 'primary_purpose': 'OTHER FARM'}, {'purpose_id': 6363, 'primary_purpose': 'OYSTER FARM'}, {'purpose_id': 6377, 'primary_purpose': 'PACKING SHED'}, {'purpose_id': 6394, 'primary_purpose': 'PARKING SPACE'}, {'purpose_id': 6423, 'primary_purpose': 'PART FARM'}, {'purpose_id': 6468, 'primary_purpose': 'PART LOT ONLY'}, {'purpose_id': 6509, 'primary_purpose': 'PART SALE OF PROPERT'}, {'purpose_id': 6550, 'primary_purpose': 'PETROL STATIO'}, {'purpose_id': 6551, 'primary_purpose': 'PETROL STATION'}, {'purpose_id': 6558, 'primary_purpose': 'PHARMACY'}, {'purpose_id': 6569, 'primary_purpose': 'PIGGERY'}, {'purpose_id': 6572, 'primary_purpose': 'PINE FOREST'}, {'purpose_id': 6586, 'primary_purpose': 'PLANTATION'}, {'purpose_id': 6611, 'primary_purpose': 'POLICE STATIO'}, {'purpose_id': 6623, 'primary_purpose': 'POST OFFICE'}, {'purpose_id': 6633, 'primary_purpose': 'POULTRY FARM'}, {'purpose_id': 6644, 'primary_purpose': 'PREMISES'}, {'purpose_id': 6648, 'primary_purpose': 'PRE SCHOOL'}, {'purpose_id': 6649, 'primary_purpose': 'PRE-SCHOOL'}, {'purpose_id': 6650, 'primary_purpose': 'PRESCHOOL'}, {'purpose_id': 6666, 'primary_purpose': 'PRIMARY PRODUC'}, {'purpose_id': 6680, 'primary_purpose': 'PRIVATE HOTEL'}, {'purpose_id': 6693, 'primary_purpose': 'PROFESSIONAL'}, {'purpose_id': 6827, 'primary_purpose': 'PUB'}, {'purpose_id': 6838, 'primary_purpose': 'PUBLIC RESERVE'}, {'purpose_id': 6840, 'primary_purpose': 'PUBLIC ROAD'}, {'purpose_id': 6855, 'primary_purpose': 'PUMP STATION'}, {'purpose_id': 6879, 'primary_purpose': 'QUARRY'}, {'purpose_id': 6887, 'primary_purpose': 'R'}, {'purpose_id': 6905, 'primary_purpose': 'RAILWAY'}, {'purpose_id': 6980, 'primary_purpose': 'RENTAL'}, {'purpose_id': 6985, 'primary_purpose': 'RENTAL UNITS'}, {'purpose_id': 7008, 'primary_purpose': 'RES/COMM'}, {'purpose_id': 7013, 'primary_purpose': 'RES/COMMERCIAL'}, {'purpose_id': 7026, 'primary_purpose': 'RESERVOIR'}, {'purpose_id': 7051, 'primary_purpose': 'RESI/COMM'}, {'purpose_id': 7071, 'primary_purpose': 'RESIDENCE'}, {'purpose_id': 7123, 'primary_purpose': 'RESIDENCE /CO'}, {'purpose_id': 7146, 'primary_purpose': 'RESIDENCE/FAR'}, {'purpose_id': 7149, 'primary_purpose': 'RESIDENCE/FARM'}, {'purpose_id': 7287, 'primary_purpose': 'RESIDENCE(PART ONLY)'}, {'purpose_id': 7336, 'primary_purpose': 'RESIDENCE(PT ONLY)'}, {'purpose_id': 7349, 'primary_purpose': 'RESIDENCE & S'}, {'purpose_id': 7350, 'primary_purpose': 'RESIDENCES'}, {'purpose_id': 7366, 'primary_purpose': 'RESIDENCE/SHO'}, {'purpose_id': 7371, 'primary_purpose': 'RESIDENCE/SHOP'}, {'purpose_id': 7433, 'primary_purpose': 'RESIDENTIAL'}, {'purpose_id': 7445, 'primary_purpose': 'RESIDENTIAL B'}, {'purpose_id': 7447, 'primary_purpose': 'RESIDENTIAL C'}, {'purpose_id': 7449, 'primary_purpose': 'RESIDENTIAL/C'}, {'purpose_id': 7451, 'primary_purpose': 'RESIDENTIALCO'}, {'purpose_id': 7453, 'primary_purpose': 'RESIDENTIAL F'}, {'purpose_id': 7458, 'primary_purpose': 'RESIDENTIAL/I'}, {'purpose_id': 7469, 'primary_purpose': 'RESIDENTIAL U'}, {'purpose_id': 7510, 'primary_purpose': 'RES/LAND'}, {'purpose_id': 7520, 'primary_purpose': 'RESORT'}, {'purpose_id': 7522, 'primary_purpose': 'RESORT/ACCOM'}, {'purpose_id': 7523, 'primary_purpose': 'RESORT APARTM'}, {'purpose_id': 7527, 'primary_purpose': 'RESORT APT'}, {'purpose_id': 7530, 'primary_purpose': 'RESORT UNIT'}, {'purpose_id': 7546, 'primary_purpose': 'RES/SHOP'}, {'purpose_id': 7560, 'primary_purpose': 'RESTAURANT'}, {'purpose_id': 7567, 'primary_purpose': 'RESTAURANT, C'}, {'purpose_id': 7598, 'primary_purpose': 'RETAIL'}, {'purpose_id': 7602, 'primary_purpose': 'RETAIL BUILDI'}, {'purpose_id': 7612, 'primary_purpose': 'RETAIL CENTRE'}, {'purpose_id': 7615, 'primary_purpose': 'RETAIL & COMM'}, {'purpose_id': 7619, 'primary_purpose': 'RETAIL/COMMER'}, {'purpose_id': 7620, 'primary_purpose': 'RETAIL/COMMERC'}, {'purpose_id': 7633, 'primary_purpose': 'RETAIL LOT'}, {'purpose_id': 7641, 'primary_purpose': 'RETAIL/OFFICE'}, {'purpose_id': 7649, 'primary_purpose': 'RETAIL PREMIS'}, {'purpose_id': 7650, 'primary_purpose': 'RETAIL PREMISE'}, {'purpose_id': 7667, 'primary_purpose': 'RETAIL SHOP'}, {'purpose_id': 7672, 'primary_purpose': 'RETAILSHOP'}, {'purpose_id': 7675, 'primary_purpose': 'RETAIL SHOPPI'}, {'purpose_id': 7678, 'primary_purpose': 'RETAIL SHOPS'}, {'purpose_id': 7683, 'primary_purpose': 'RETAIL SPACE'}, {'purpose_id': 7690, 'primary_purpose': 'RETAIL STRATA'}, {'purpose_id': 7694, 'primary_purpose': 'RETAIL SUITE'}, {'purpose_id': 7698, 'primary_purpose': 'RETAIL UNIT'}, {'purpose_id': 7700, 'primary_purpose': 'RETAIL UNITS'}, {'purpose_id': 7716, 'primary_purpose': 'RETIREMENT'}, {'purpose_id': 7721, 'primary_purpose': 'RETIREMENT UN'}, {'purpose_id': 7726, 'primary_purpose': 'RETIREMENT VI'}, {'purpose_id': 7727, 'primary_purpose': 'RETIREMENT VIL'}, {'purpose_id': 7738, 'primary_purpose': 'RETIRE.VILLAGE'}, {'purpose_id': 7739, 'primary_purpose': 'RETIRMENT VIL'}, {'purpose_id': 7750, 'primary_purpose': 'RET VILLAGE'}, {'purpose_id': 7769, 'primary_purpose': 'ROAD'}, {'purpose_id': 7778, 'primary_purpose': 'ROAD CLOSURE'}, {'purpose_id': 7781, 'primary_purpose': 'ROADHOUSE'}, {'purpose_id': 7792, 'primary_purpose': 'ROAD RESERVE'}, {'purpose_id': 7795, 'primary_purpose': 'ROADS'}, {'purpose_id': 7804, 'primary_purpose': 'ROAD WIDENING'}, {'purpose_id': 7815, 'primary_purpose': 'ROOFTOP'}, {'purpose_id': 7834, 'primary_purpose': 'RSL CLUB'}, {'purpose_id': 7871, 'primary_purpose': 'RURAL'}, {'purpose_id': 7906, 'primary_purpose': 'RURAL FARM'}, {'purpose_id': 7909, 'primary_purpose': 'RURAL/FARM'}, {'purpose_id': 7910, 'primary_purpose': 'RURALFARM'}, {'purpose_id': 7917, 'primary_purpose': 'RURAL FARMLAND'}, {'purpose_id': 7921, 'primary_purpose': 'RURAL-FARM/MI'}, {'purpose_id': 7933, 'primary_purpose': 'RURAL HOME'}, {'purpose_id': 7938, 'primary_purpose': 'RURAL HOUSE'}, {'purpose_id': 7946, 'primary_purpose': 'RURAL LAND'}, {'purpose_id': 7950, 'primary_purpose': 'RURALLAND'}, {'purpose_id': 7961, 'primary_purpose': 'RURAL LANDS'}, {'purpose_id': 7969, 'primary_purpose': 'RURAL LIFESTY'}, {'purpose_id': 7987, 'primary_purpose': 'RURAL PROP'}, {'purpose_id': 7989, 'primary_purpose': 'RURAL PROPERT'}, {'purpose_id': 7991, 'primary_purpose': 'RURAL PROPERTY'}, {'purpose_id': 8004, 'primary_purpose': 'RURAL RESIDEN'}, {'purpose_id': 8007, 'primary_purpose': 'RURAL RESIDENC'}, {'purpose_id': 8011, 'primary_purpose': 'RURAL RESIDENT'}, {'purpose_id': 8019, 'primary_purpose': 'RURAL SHED'}, {'purpose_id': 8079, 'primary_purpose': 'SALEYARDS'}, {'purpose_id': 8092, 'primary_purpose': 'SAW MILL'}, {'purpose_id': 8093, 'primary_purpose': 'SAWMILL'}, {'purpose_id': 8100, 'primary_purpose': 'SCHOOL'}, {'purpose_id': 8108, 'primary_purpose': 'SCHOOL BUILDI'}, {'purpose_id': 8123, 'primary_purpose': 'SCHOOL SITE'}, {'purpose_id': 8126, 'primary_purpose': 'SCOUT HALL'}, {'purpose_id': 8145, 'primary_purpose': 'SELF STORAGE'}, {'purpose_id': 8167, 'primary_purpose': 'SERVICE APART'}, {'purpose_id': 8176, 'primary_purpose': 'SERVICED'}, {'purpose_id': 8178, 'primary_purpose': 'SERVICED APAR'}, {'purpose_id': 8180, 'primary_purpose': 'SERVICED APART'}, {'purpose_id': 8185, 'primary_purpose': 'SERVICED APT'}, {'purpose_id': 8189, 'primary_purpose': 'SERVICED UNIT'}, {'purpose_id': 8205, 'primary_purpose': 'SERVICE STATI'}, {'purpose_id': 8207, 'primary_purpose': 'SERVICE STATIO'}, {'purpose_id': 8210, 'primary_purpose': 'SERVICESTATION'}, {'purpose_id': 8212, 'primary_purpose': 'SERVICE STATIONS'}, {'purpose_id': 8214, 'primary_purpose': 'SERVICE STN'}, {'purpose_id': 8231, 'primary_purpose': 'SERV STATION'}, {'purpose_id': 8234, 'primary_purpose': 'SERV STN'}, {'purpose_id': 8257, 'primary_purpose': 'SHEARING SHED'}, {'purpose_id': 8259, 'primary_purpose': 'SHED'}, {'purpose_id': 8260, 'primary_purpose': 'SHED '}, {'purpose_id': 8308, 'primary_purpose': 'SHEDDING'}, {'purpose_id': 8340, 'primary_purpose': 'SHED & LAND'}, {'purpose_id': 8353, 'primary_purpose': 'SHED & OFFICE'}, {'purpose_id': 8357, 'primary_purpose': 'SHED/OFFICE'}, {'purpose_id': 8376, 'primary_purpose': 'SHEDS'}, {'purpose_id': 8471, 'primary_purpose': 'SHOP'}, {'purpose_id': 8472, 'primary_purpose': 'SHOP '}, {'purpose_id': 8496, 'primary_purpose': 'SHOP AND FLAT'}, {'purpose_id': 8504, 'primary_purpose': 'SHOP AND RESI'}, {'purpose_id': 8520, 'primary_purpose': 'SHOP BUILDING'}, {'purpose_id': 8530, 'primary_purpose': 'SHOP & CAR SP'}, {'purpose_id': 8533, 'primary_purpose': 'SHOP & CARSPA'}, {'purpose_id': 8539, 'primary_purpose': 'SHOP CENTRE'}, {'purpose_id': 8570, 'primary_purpose': 'SHOP/FACTORY'}, {'purpose_id': 8575, 'primary_purpose': 'SHOP & FLAT'}, {'purpose_id': 8581, 'primary_purpose': 'SHOP/FLAT'}, {'purpose_id': 8583, 'primary_purpose': 'SHOP & FLATS'}, {'purpose_id': 8588, 'primary_purpose': 'SHOP/FLATS'}, {'purpose_id': 8596, 'primary_purpose': 'SHOP & GARAGE'}, {'purpose_id': 8601, 'primary_purpose': 'SHOP & HOUSE'}, {'purpose_id': 8603, 'primary_purpose': 'SHOP/HOUSE'}, {'purpose_id': 8631, 'primary_purpose': 'SHOP & OFFICE'}, {'purpose_id': 8636, 'primary_purpose': 'SHOP/OFFICE'}, {'purpose_id': 8645, 'primary_purpose': 'SHOP/OFFICES'}, {'purpose_id': 8663, 'primary_purpose': 'SHOPPING CENT'}, {'purpose_id': 8666, 'primary_purpose': 'SHOPPING CENTR'}, {'purpose_id': 8669, 'primary_purpose': 'SHOPPINGCENTRE'}, {'purpose_id': 8676, 'primary_purpose': 'SHOPPING CTR'}, {'purpose_id': 8678, 'primary_purpose': 'SHOPPING CTRE'}, {'purpose_id': 8680, 'primary_purpose': 'SHOPPING PLAZ'}, {'purpose_id': 8688, 'primary_purpose': 'SHOP PREMISES'}, {'purpose_id': 8696, 'primary_purpose': 'SHOP & RES'}, {'purpose_id': 8700, 'primary_purpose': 'SHOP/RES'}, {'purpose_id': 8709, 'primary_purpose': 'SHOP & RESID'}, {'purpose_id': 8711, 'primary_purpose': 'SHOP/RESID'}, {'purpose_id': 8715, 'primary_purpose': 'SHOP & RESIDE'}, {'purpose_id': 8720, 'primary_purpose': 'SHOP & RESIDEN'}, {'purpose_id': 8724, 'primary_purpose': 'SHOP RESIDENC'}, {'purpose_id': 8725, 'primary_purpose': 'SHOP&RESIDENC'}, {'purpose_id': 8727, 'primary_purpose': 'SHOP/RESIDENC'}, {'purpose_id': 8731, 'primary_purpose': 'SHOP&RESIDENCE'}, {'purpose_id': 8735, 'primary_purpose': 'SHOP/RESIDENCE'}, {'purpose_id': 8737, 'primary_purpose': 'SHOP/RESIDENT'}, {'purpose_id': 8747, 'primary_purpose': 'SHOPS'}, {'purpose_id': 8748, 'primary_purpose': 'SHOPS '}, {'purpose_id': 8763, 'primary_purpose': 'SHOPS AND RES'}, {'purpose_id': 8774, 'primary_purpose': 'SHOPS&DWELLIN'}, {'purpose_id': 8781, 'primary_purpose': 'SHOPS & FLAT'}, {'purpose_id': 8785, 'primary_purpose': 'SHOPS & FLATS'}, {'purpose_id': 8789, 'primary_purpose': 'SHOPS/FLATS'}, {'purpose_id': 8799, 'primary_purpose': 'SHOPS INCL OTHERS'}, {'purpose_id': 8804, 'primary_purpose': 'SHOPS & OFFIC'}, {'purpose_id': 8810, 'primary_purpose': 'SHOPS&OFFICE'}, {'purpose_id': 8818, 'primary_purpose': 'SHOPS/OFFICES'}, {'purpose_id': 8824, 'primary_purpose': 'SHOPS & RESID'}, {'purpose_id': 8830, 'primary_purpose': 'SHOPS/RESIDEN'}, {'purpose_id': 8833, 'primary_purpose': 'SHOPS/RETAIL'}, {'purpose_id': 8852, 'primary_purpose': 'SHOPS/UNITS'}, {'purpose_id': 8862, 'primary_purpose': 'SHOP & UNIT'}, {'purpose_id': 8863, 'primary_purpose': 'SHOP UNIT'}, {'purpose_id': 8864, 'primary_purpose': 'SHOP/UNIT'}, {'purpose_id': 8901, 'primary_purpose': 'SHOWROOM'}, {'purpose_id': 8917, 'primary_purpose': 'SHOWROOMS'}, {'purpose_id': 8936, 'primary_purpose': 'SILO'}, {'purpose_id': 8959, 'primary_purpose': 'SKI RESORT'}, {'purpose_id': 8974, 'primary_purpose': 'SMALL FARM'}, {'purpose_id': 8981, 'primary_purpose': 'SMALL RURAL'}, {'purpose_id': 9041, 'primary_purpose': 'STABLES'}, {'purpose_id': 9065, 'primary_purpose': 'STATION'}, {'purpose_id': 9075, 'primary_purpose': 'STEEL SHED'}, {'purpose_id': 9095, 'primary_purpose': 'STORAGE'}, {'purpose_id': 9098, 'primary_purpose': 'STORAGE AREA'}, {'purpose_id': 9099, 'primary_purpose': 'STORAGE AREAS'}, {'purpose_id': 9100, 'primary_purpose': 'STORAGE BAY'}, {'purpose_id': 9104, 'primary_purpose': 'STORAGE CAGE'}, {'purpose_id': 9106, 'primary_purpose': 'STORAGE CAGES'}, {'purpose_id': 9117, 'primary_purpose': 'STORAGE FACIL'}, {'purpose_id': 9124, 'primary_purpose': 'STORAGE LOT'}, {'purpose_id': 9126, 'primary_purpose': 'STORAGE LOTS'}, {'purpose_id': 9133, 'primary_purpose': 'STORAGE ROOM'}, {'purpose_id': 9137, 'primary_purpose': 'STORAGE SHED'}, {'purpose_id': 9140, 'primary_purpose': 'STORAGE SHEDS'}, {'purpose_id': 9144, 'primary_purpose': 'STORAGE SPACE'}, {'purpose_id': 9147, 'primary_purpose': 'STORAGE SPACES'}, {'purpose_id': 9154, 'primary_purpose': 'STORAGE UNIT'}, {'purpose_id': 9155, 'primary_purpose': 'STORAGEUNIT'}, {'purpose_id': 9157, 'primary_purpose': 'STORAGE UNITS'}, {'purpose_id': 9165, 'primary_purpose': 'STORE'}, {'purpose_id': 9177, 'primary_purpose': 'STORE ROOM'}, {'purpose_id': 9178, 'primary_purpose': 'STOREROOM'}, {'purpose_id': 9181, 'primary_purpose': 'STORE ROOMS'}, {'purpose_id': 9182, 'primary_purpose': 'STOREROOMS'}, {'purpose_id': 9200, 'primary_purpose': 'STRATA'}, {'purpose_id': 9202, 'primary_purpose': 'STRATA BUILDI'}, {'purpose_id': 9207, 'primary_purpose': 'STRATA COMMER'}, {'purpose_id': 9216, 'primary_purpose': 'STRATA FACTOR'}, {'purpose_id': 9224, 'primary_purpose': 'STRATA INDUST'}, {'purpose_id': 9229, 'primary_purpose': 'STRATA LOT'}, {'purpose_id': 9238, 'primary_purpose': 'STRATA OFFICE'}, {'purpose_id': 9252, 'primary_purpose': 'STRATA SHOP'}, {'purpose_id': 9256, 'primary_purpose': 'STRATA STORAGE'}, {'purpose_id': 9262, 'primary_purpose': 'STRATA TITLE'}, {'purpose_id': 9269, 'primary_purpose': 'STRATA UNIT'}, {'purpose_id': 9270, 'primary_purpose': 'STRATA UNIT '}, {'purpose_id': 9272, 'primary_purpose': 'STRATAUNIT'}, {'purpose_id': 9277, 'primary_purpose': 'STRATA UNITS'}, {'purpose_id': 9281, 'primary_purpose': 'STRATA VILLA'}, {'purpose_id': 9309, 'primary_purpose': 'STUD FARM'}, {'purpose_id': 9310, 'primary_purpose': 'STUDIO'}, {'purpose_id': 9338, 'primary_purpose': 'SUBSTATION'}, {'purpose_id': 9346, 'primary_purpose': 'SUITE'}, {'purpose_id': 9353, 'primary_purpose': 'SUITES'}, {'purpose_id': 9357, 'primary_purpose': 'SUPERMARKET'}, {'purpose_id': 9359, 'primary_purpose': 'SUPERMARKET&P'}, {'purpose_id': 9363, 'primary_purpose': 'SURGERY'}, {'purpose_id': 9406, 'primary_purpose': 'TAVERN'}, {'purpose_id': 9422, 'primary_purpose': 'TELECOM EXCHAN'}, {'purpose_id': 9437, 'primary_purpose': 'TENANCY WAREH '}, {'purpose_id': 9449, 'primary_purpose': 'TERRACE'}, {'purpose_id': 9457, 'primary_purpose': 'THEATRE'}, {'purpose_id': 9473, 'primary_purpose': 'TIMBER MILL'}, {'purpose_id': 9500, 'primary_purpose': 'TOURIST ACCOM'}, {'purpose_id': 9514, 'primary_purpose': 'TOURIST PARK'}, {'purpose_id': 9532, 'primary_purpose': 'TOWN HOUSE'}, {'purpose_id': 9533, 'primary_purpose': 'TOWN HOUSE '}, {'purpose_id': 9536, 'primary_purpose': 'TOWNHOUSE'}, {'purpose_id': 9537, 'primary_purpose': 'TOWNHOUSE '}, {'purpose_id': 9547, 'primary_purpose': 'TOWNHOUSES'}, {'purpose_id': 9593, 'primary_purpose': 'TRUCK STOP'}, {'purpose_id': 9602, 'primary_purpose': 'TURF FARM'}, {'purpose_id': 9651, 'primary_purpose': 'UNI CAMPUS'}, {'purpose_id': 9663, 'primary_purpose': 'UNIT'}, {'purpose_id': 9664, 'primary_purpose': 'UNIT '}, {'purpose_id': 9680, 'primary_purpose': 'UNIT BLOCK'}, {'purpose_id': 9688, 'primary_purpose': 'UNIT & CAR SP'}, {'purpose_id': 9691, 'primary_purpose': 'UNIT/CARSP'}, {'purpose_id': 9693, 'primary_purpose': 'UNIT & CARSPA'}, {'purpose_id': 9705, 'primary_purpose': 'UNIT/CARSPACE'}, {'purpose_id': 9718, 'primary_purpose': 'UNIT COMMERCIA'}, {'purpose_id': 9721, 'primary_purpose': 'UNIT COMPLEX'}, {'purpose_id': 9731, 'primary_purpose': 'UNIT & GARAGE'}, {'purpose_id': 9733, 'primary_purpose': 'UNIT/GARAGE'}, {'purpose_id': 9760, 'primary_purpose': 'UNITS'}, {'purpose_id': 9761, 'primary_purpose': 'UNITS '}, {'purpose_id': 9767, 'primary_purpose': 'UNITS * 23'}, {'purpose_id': 9774, 'primary_purpose': 'UNITS/CAR PAR'}, {'purpose_id': 9778, 'primary_purpose': 'UNITS/FLATS'}, {'purpose_id': 9785, 'primary_purpose': 'UNITS/RES'}, {'purpose_id': 9799, 'primary_purpose': 'UNITS X13'}, {'purpose_id': 9849, 'primary_purpose': 'UTILITIES'}, {'purpose_id': 9851, 'primary_purpose': 'UTILITY'}, {'purpose_id': 9854, 'primary_purpose': 'UTILITY LOT'}, {'purpose_id': 9855, 'primary_purpose': 'UTILITY LOTS'}, {'purpose_id': 9869, 'primary_purpose': 'VACANT'}, {'purpose_id': 9896, 'primary_purpose': 'VACANT - ACQUIRED FO'}, {'purpose_id': 9906, 'primary_purpose': 'VACANT FARM'}, {'purpose_id': 9910, 'primary_purpose': 'VACANT FARM L'}, {'purpose_id': 9922, 'primary_purpose': 'VACANT LAND'}, {'purpose_id': 9928, 'primary_purpose': 'VACANTLAND'}, {'purpose_id': 10140, 'primary_purpose': 'VACANT LAND ACQUIRED'}, {'purpose_id': 10165, 'primary_purpose': 'VACANT LAND - BOUNDA'}, {'purpose_id': 10168, 'primary_purpose': 'VACANT LAND- BOUNDAR'}, {'purpose_id': 10169, 'primary_purpose': 'VACANT LAND BOUNDARY'}, {'purpose_id': 10215, 'primary_purpose': 'VACANT LAND - LOT 1 '}, {'purpose_id': 10217, 'primary_purpose': 'VACANT LAND(LOT 1)'}, {'purpose_id': 10282, 'primary_purpose': 'VACANT LAND(LOT 1 ON'}, {'purpose_id': 10456, 'primary_purpose': 'VACANT LAND - NUMERO'}, {'purpose_id': 10483, 'primary_purpose': 'VACANT LAND - PART L'}, {'purpose_id': 10491, 'primary_purpose': 'VACANT LAND(PART LOT'}, {'purpose_id': 10503, 'primary_purpose': 'VACANT LAND PART ONL'}, {'purpose_id': 10504, 'primary_purpose': 'VACANT LAND(PART ONL'}, {'purpose_id': 10509, 'primary_purpose': 'VACANT LAND (PART SA'}, {'purpose_id': 10596, 'primary_purpose': 'VACANT LAND - PT LOT'}, {'purpose_id': 10601, 'primary_purpose': 'VACANT LAND- PT LOT '}, {'purpose_id': 10602, 'primary_purpose': 'VACANT LAND PT LOT 1'}, {'purpose_id': 10603, 'primary_purpose': 'VACANT LAND(PT LOT 1'}, {'purpose_id': 10604, 'primary_purpose': 'VACANT LAND-PT LOT 1'}, {'purpose_id': 10606, 'primary_purpose': 'VACANT LAND(PT LOT 2'}, {'purpose_id': 10619, 'primary_purpose': 'VACANT LAND(PT LOT O'}, {'purpose_id': 10620, 'primary_purpose': 'VACANT LAND(PT LOTS '}, {'purpose_id': 10627, 'primary_purpose': 'VACANT LAND(PT ONLY)'}, {'purpose_id': 10637, 'primary_purpose': 'VACANT LAND- PURCHAS'}, {'purpose_id': 10648, 'primary_purpose': 'VACANT LAND - ROAD'}, {'purpose_id': 10735, 'primary_purpose': 'VACANT RURAL'}, {'purpose_id': 10767, 'primary_purpose': 'VARIOUS'}, {'purpose_id': 10787, 'primary_purpose': 'VET CLINIC'}, {'purpose_id': 10799, 'primary_purpose': 'VET SURGERY'}, {'purpose_id': 10803, 'primary_purpose': 'VILLA'}, {'purpose_id': 10804, 'primary_purpose': 'VILLA '}, {'purpose_id': 10812, 'primary_purpose': 'VILLAGE'}, {'purpose_id': 10818, 'primary_purpose': 'VILLAS'}, {'purpose_id': 10822, 'primary_purpose': 'VILLA UNIT'}, {'purpose_id': 10828, 'primary_purpose': 'VINEYARD'}, {'purpose_id': 10906, 'primary_purpose': 'WARE HOUSE'}, {'purpose_id': 10909, 'primary_purpose': 'WAREHOUSE'}, {'purpose_id': 10910, 'primary_purpose': 'WAREHOUSE '}, {'purpose_id': 10934, 'primary_purpose': 'WAREHOUSEINC OTHERS'}, {'purpose_id': 10938, 'primary_purpose': 'WAREHOUSE & O'}, {'purpose_id': 10945, 'primary_purpose': 'WAREHOUSE/OFF'}, {'purpose_id': 10958, 'primary_purpose': 'WAREHOUSES'}, {'purpose_id': 10971, 'primary_purpose': 'WAREHOUSE UNI'}, {'purpose_id': 10973, 'primary_purpose': 'WAREHOUSE UNIT'}, {'purpose_id': 10980, 'primary_purpose': 'WAREHSE'}, {'purpose_id': 11019, 'primary_purpose': 'WEEKENDER'}, {'purpose_id': 11031, 'primary_purpose': 'WHAREHOUSE'}, {'purpose_id': 11037, 'primary_purpose': 'WHOLE PROPERTY TRANS'}, {'purpose_id': 11055, 'primary_purpose': 'WINERY'}, {'purpose_id': 11079, 'primary_purpose': 'WOOL STORE'}, {'purpose_id': 11094, 'primary_purpose': 'WORK SHOP'}, {'purpose_id': 11095, 'primary_purpose': 'WORKSHOP'}, {'purpose_id': 11120, 'primary_purpose': 'WORKSHOP/OFFI'}, {'purpose_id': 11128, 'primary_purpose': 'WORKSHOPS'}, {'purpose_id': 11149, 'primary_purpose': 'X'}]}]\n"
     ]
    },
    {
     "name": "stdout",
     "output_type": "stream",
     "text": [
      "\n",
      "First 8 zoning: [{'zoning_id, zoning\\n': [{'zoning_id': 1, 'zoning': ''}, {'zoning_id': 2, 'zoning': 'A'}, {'zoning_id': 3, 'zoning': 'AGB'}, {'zoning_id': 4, 'zoning': 'B'}, {'zoning_id': 5, 'zoning': 'B1'}, {'zoning_id': 6, 'zoning': 'B2'}, {'zoning_id': 7, 'zoning': 'B3'}, {'zoning_id': 8, 'zoning': 'B4'}, {'zoning_id': 9, 'zoning': 'B5'}, {'zoning_id': 10, 'zoning': 'B6'}, {'zoning_id': 11, 'zoning': 'B7'}, {'zoning_id': 12, 'zoning': 'B8'}, {'zoning_id': 13, 'zoning': 'C'}, {'zoning_id': 14, 'zoning': 'C1'}, {'zoning_id': 15, 'zoning': 'C2'}, {'zoning_id': 16, 'zoning': 'C3'}, {'zoning_id': 17, 'zoning': 'C4'}, {'zoning_id': 18, 'zoning': 'D'}, {'zoning_id': 19, 'zoning': 'E'}, {'zoning_id': 20, 'zoning': 'E1'}, {'zoning_id': 21, 'zoning': 'E2'}, {'zoning_id': 22, 'zoning': 'E3'}, {'zoning_id': 23, 'zoning': 'E4'}, {'zoning_id': 24, 'zoning': 'E5'}, {'zoning_id': 25, 'zoning': 'EM'}, {'zoning_id': 26, 'zoning': 'ENT'}, {'zoning_id': 27, 'zoning': 'ENZ'}, {'zoning_id': 28, 'zoning': 'I'}, {'zoning_id': 29, 'zoning': 'IN1'}, {'zoning_id': 30, 'zoning': 'IN2'}, {'zoning_id': 31, 'zoning': 'IN3'}, {'zoning_id': 32, 'zoning': 'IN4'}, {'zoning_id': 33, 'zoning': 'M'}, {'zoning_id': 34, 'zoning': 'MU'}, {'zoning_id': 35, 'zoning': 'MU1'}, {'zoning_id': 36, 'zoning': 'N'}, {'zoning_id': 37, 'zoning': 'O'}, {'zoning_id': 38, 'zoning': 'P'}, {'zoning_id': 39, 'zoning': 'R'}, {'zoning_id': 40, 'zoning': 'R1'}, {'zoning_id': 41, 'zoning': 'R2'}, {'zoning_id': 42, 'zoning': 'R3'}, {'zoning_id': 43, 'zoning': 'R4'}, {'zoning_id': 44, 'zoning': 'R5'}, {'zoning_id': 45, 'zoning': 'RE1'}, {'zoning_id': 46, 'zoning': 'RE2'}, {'zoning_id': 47, 'zoning': 'REZ'}, {'zoning_id': 48, 'zoning': 'RU1'}, {'zoning_id': 49, 'zoning': 'RU2'}, {'zoning_id': 50, 'zoning': 'RU3'}, {'zoning_id': 51, 'zoning': 'RU4'}, {'zoning_id': 52, 'zoning': 'RU5'}, {'zoning_id': 53, 'zoning': 'RU6'}, {'zoning_id': 54, 'zoning': 'S'}, {'zoning_id': 55, 'zoning': 'SP1'}, {'zoning_id': 56, 'zoning': 'SP2'}, {'zoning_id': 57, 'zoning': 'SP3'}, {'zoning_id': 58, 'zoning': 'SP4'}, {'zoning_id': 59, 'zoning': 'SP5'}, {'zoning_id': 60, 'zoning': 'T'}, {'zoning_id': 61, 'zoning': 'U'}, {'zoning_id': 62, 'zoning': 'UD'}, {'zoning_id': 63, 'zoning': 'UR'}, {'zoning_id': 64, 'zoning': 'V'}, {'zoning_id': 65, 'zoning': 'W'}, {'zoning_id': 66, 'zoning': 'W1'}, {'zoning_id': 67, 'zoning': 'W2'}, {'zoning_id': 68, 'zoning': 'W4'}, {'zoning_id': 69, 'zoning': 'X'}, {'zoning_id': 70, 'zoning': 'Y'}, {'zoning_id': 71, 'zoning': 'Z'}]}]\n",
      "\n",
      "CSV rows (after cleaning): 4836784\n",
      "\n",
      "First 8 cleaned records:\n",
      "{'property_id': '4270509', 'purchase_price': '1400000.00', 'address': '8 C NYARI RD, KENTHURST', 'post_code': '2156', 'property_type': 'house', 'strata_lot_number': '', 'property_name': '', 'area': '2.044', 'area_type': 'H', 'iso_contract_date': '2023-12-14', 'iso_settlement_date': '2024-02-14', 'nature_of_property': 'V', 'legal_description': '2/1229857', 'id': '142', 'council_id': '200', 'purpose_id': '9922', 'zone_id': '53'}\n",
      "{'property_id': '4329326', 'purchase_price': '1105000.00', 'address': '82 CAMARERO ST, BOX HILL', 'post_code': '2765', 'property_type': 'house', 'strata_lot_number': '', 'property_name': '', 'area': '300.2', 'area_type': 'M', 'iso_contract_date': '2024-01-12', 'iso_settlement_date': '2024-02-09', 'nature_of_property': 'R', 'legal_description': '1119/1256791', 'id': '143', 'council_id': '200', 'purpose_id': '7071', 'zone_id': '41'}\n",
      "{'property_id': '1864112', 'purchase_price': '55000.00', 'address': '321 AUBURN ST, MOREE', 'post_code': '2400', 'property_type': 'house', 'strata_lot_number': '', 'property_name': '', 'area': '847.3', 'area_type': 'M', 'iso_contract_date': '2023-09-15', 'iso_settlement_date': '2024-01-29', 'nature_of_property': 'R', 'legal_description': '17/36061', 'id': '192', 'council_id': '168', 'purpose_id': '7071', 'zone_id': '40'}\n",
      "{'property_id': '1869899', 'purchase_price': '680000.00', 'address': '207 GWYDIRFIELD RD, MOREE', 'post_code': '2400', 'property_type': 'house', 'strata_lot_number': '', 'property_name': 'SPRINGVALE', 'area': '2.023', 'area_type': 'H', 'iso_contract_date': '2024-01-19', 'iso_settlement_date': '2024-02-09', 'nature_of_property': 'R', 'legal_description': '6/251911', 'id': '193', 'council_id': '168', 'purpose_id': '7071', 'zone_id': '48'}\n",
      "{'property_id': '1867775', 'purchase_price': '220000.00', 'address': '90 MERRIWA ST, BOGGABILLA', 'post_code': '2409', 'property_type': 'house', 'strata_lot_number': '', 'property_name': '', 'area': '2023.0', 'area_type': 'M', 'iso_contract_date': '2023-12-08', 'iso_settlement_date': '2024-02-09', 'nature_of_property': 'R', 'legal_description': '1/1/758127', 'id': '194', 'council_id': '168', 'purpose_id': '7071', 'zone_id': '52'}\n",
      "{'property_id': '2738374', 'purchase_price': '690000.00', 'address': '10 PETOSTRUM PL, PORT MACQUARIE', 'post_code': '2444', 'property_type': 'house', 'strata_lot_number': '', 'property_name': '', 'area': '672.8', 'area_type': 'M', 'iso_contract_date': '2023-12-14', 'iso_settlement_date': '2024-02-14', 'nature_of_property': 'R', 'legal_description': '94/815767', 'id': '242', 'council_id': '184', 'purpose_id': '7071', 'zone_id': '40'}\n",
      "{'property_id': '1608665', 'purchase_price': '661000.00', 'address': '71 MULYAN ST, COMO', 'post_code': '2226', 'property_type': 'house', 'strata_lot_number': '', 'property_name': '', 'area': '561.7', 'area_type': 'M', 'iso_contract_date': '2013-03-23', 'iso_settlement_date': '2013-05-09', 'nature_of_property': '3', 'legal_description': '2/11301', 'id': '26440', 'council_id': '196', 'purpose_id': '4301', 'zone_id': '2'}\n",
      "{'property_id': '638909', 'purchase_price': '780208.00', 'address': '38 DUFFY AVE, THORNLEIGH', 'post_code': '2120', 'property_type': 'house', 'strata_lot_number': '', 'property_name': '', 'area': '3113.2', 'area_type': 'M', 'iso_contract_date': '2023-06-27', 'iso_settlement_date': '2024-02-09', 'nature_of_property': 'V', 'legal_description': '6, 7/533837 3, 4/1047718', 'id': '440', 'council_id': '147', 'purpose_id': '9922', 'zone_id': '23'}\n"
     ]
    }
   ],
   "source": [
    "import json, os, csv\n",
    "from pyspark import StorageLevel\n",
    "\n",
    "csv_path = 'dataset/nsw_property_price.csv'\n",
    "council_p = \"dataset/council.json\"\n",
    "purpose_p = \"dataset/property_purpose.json\"\n",
    "zoning_p  = \"dataset/zoning.json\"\n",
    "\n",
    "# --- CSV -> RDD (headerless) ---\n",
    "raw_csv_rdd = sc.textFile(csv_path)\n",
    "header_line = raw_csv_rdd.first()\n",
    "header_cols = next(csv.reader([header_line]))\n",
    "name_to_idx = {c: i for i, c in enumerate(header_cols)}\n",
    "\n",
    "def parse_csv_part(lines):\n",
    "    reader = csv.reader(lines)\n",
    "    for row in reader:\n",
    "        yield row\n",
    "\n",
    "csv_rows_no_header = raw_csv_rdd.filter(lambda x: x != header_line).mapPartitions(parse_csv_part)\n",
    "\n",
    "def row_to_dict(row):\n",
    "    try:\n",
    "        return {c: (row[i] if i < len(row) else None) for c, i in name_to_idx.items()}\n",
    "    except Exception as e:\n",
    "        # Log the problematic row and skip it\n",
    "        return None\n",
    "\n",
    "csv_dict_rdd = csv_rows_no_header.map(row_to_dict).filter(lambda x: x is not None)\n",
    "\n",
    "# Part 1.1(2)(3): show count + first 8 *after header removal* (before cleaning)\n",
    "print(\"CSV rows (no header):\", csv_dict_rdd.count())\n",
    "print(\"\\nFirst 8 records (no cleaning):\")\n",
    "for r in csv_dict_rdd.take(8):\n",
    "    print(r)\n",
    "\n",
    "# --- JSON -> RDDs (validate shapes) ---\n",
    "def load_json_array(path, expect_key=None):\n",
    "    with open(path, \"r\", encoding=\"utf-8\") as f:\n",
    "        obj = json.load(f)\n",
    "    if isinstance(obj, dict) and expect_key:\n",
    "        data = obj.get(expect_key, [])\n",
    "    elif isinstance(obj, list):\n",
    "        data = obj\n",
    "    else:\n",
    "        # fallback: if single dict wrap as list\n",
    "        data = [obj]\n",
    "    return sc.parallelize(data)\n",
    "\n",
    "council_rdd = load_json_array(council_p, expect_key=None).persist()\n",
    "purpose_rdd = load_json_array(purpose_p, expect_key=None).persist()\n",
    "zoning_rdd  = load_json_array(zoning_p,  expect_key=None).persist()\n",
    "\n",
    "print(\"\\nCouncil records:\", council_rdd.count())\n",
    "print(\"Purpose records:\", purpose_rdd.count())\n",
    "print(\"Zoning records:\",  zoning_rdd.count())\n",
    "\n",
    "print(\"\\nFirst 8 council:\", council_rdd.take(8))\n",
    "print(\"\\nFirst 8 purpose:\", purpose_rdd.take(8))\n",
    "print(\"\\nFirst 8 zoning:\",  zoning_rdd.take(8))\n",
    "\n",
    "# ==== Part 1.1(4): drop invalid rows (null/empty/'0' purpose_id or council_id), then display ====\n",
    "def is_bad(v):\n",
    "    return (v is None) or (str(v).strip() == \"\") or (str(v).strip() == \"0\")\n",
    "\n",
    "def valid_row(d):\n",
    "    return not (is_bad(d.get(\"purpose_id\")) or is_bad(d.get(\"council_id\")))\n",
    "\n",
    "clean_csv_rdd = csv_dict_rdd.filter(valid_row).persist(StorageLevel.MEMORY_ONLY)\n",
    "\n",
    "print(\"\\nCSV rows (after cleaning):\", clean_csv_rdd.count())\n",
    "print(\"\\nFirst 8 cleaned records:\")\n",
    "for r in clean_csv_rdd.take(8):\n",
    "    print(r)"
   ]
  },
  {
   "cell_type": "markdown",
   "metadata": {},
   "source": [
    "1.1.3 For each RDD, remove the header rows and display the total count and the first 8 records.\n"
   ]
  },
  {
   "cell_type": "code",
   "execution_count": null,
   "metadata": {},
   "outputs": [],
   "source": []
  },
  {
   "cell_type": "markdown",
   "metadata": {},
   "source": [
    "1.1.4 Drop records with invalid information: purpose_id or council_id is null, empty, or 0."
   ]
  },
  {
   "cell_type": "code",
   "execution_count": null,
   "metadata": {},
   "outputs": [],
   "source": []
  },
  {
   "cell_type": "markdown",
   "metadata": {},
   "source": [
    "### 1.2 Data Partitioning in RDD <a class=\"anchor\" name=\"1.2\"></a>\n",
    "1.2.1 For each RDD, using Spark’s default partitioning, print out the total number of partitions and the number of records in each partition"
   ]
  },
  {
   "cell_type": "code",
   "execution_count": null,
   "metadata": {},
   "outputs": [],
   "source": []
  },
  {
   "cell_type": "markdown",
   "metadata": {},
   "source": [
    "1.2.2 Answer the following questions:   \n",
    "a) How many partitions do the above RDDs have?  \n",
    "b) How is the data in these RDDs partitioned by default, when we do not explicitly specify any partitioning strategy? Can you explain why it is partitioned in this number?   \n",
    "c) Assuming we are querying the dataset based on <strong> Property Price</strong>, can you think of a better strategy for partitioning the data based on your available hardware resources?  "
   ]
  },
  {
   "cell_type": "markdown",
   "metadata": {},
   "source": [
    "Your answer for a"
   ]
  },
  {
   "cell_type": "markdown",
   "metadata": {},
   "source": [
    "Your answer for b"
   ]
  },
  {
   "cell_type": "markdown",
   "metadata": {},
   "source": [
    "Your answer for c"
   ]
  },
  {
   "cell_type": "markdown",
   "metadata": {},
   "source": [
    "1.2.3 Create a user-defined function (UDF) to transform the date strings from ISO format (YYYY-MM-DD) (e.g. 2025-01-01) to Australian format (DD/Mon/YYYY) (e.g. 01/Jan/2025), then call the UDF to transform two date columns (iso_contract_date and iso_settlement_date) to contract_date and settlement_date."
   ]
  },
  {
   "cell_type": "code",
   "execution_count": null,
   "metadata": {},
   "outputs": [],
   "source": []
  },
  {
   "cell_type": "markdown",
   "metadata": {},
   "source": [
    "### 1.3 Query/Analysis <a class=\"anchor\" name=\"1.3\"></a>\n",
    "For this part, write relevant RDD operations to answer the following queries.\n",
    "\n",
    "1.3.1 Extract the Month (Jan-Dec) information and print the total number of sales by contract date for each Month. (5%)"
   ]
  },
  {
   "cell_type": "code",
   "execution_count": null,
   "metadata": {},
   "outputs": [],
   "source": []
  },
  {
   "cell_type": "markdown",
   "metadata": {},
   "source": [
    "1.3.2 Which 5 councils have the largest number of houses? Show their name and the total number of houses. (Note: Each house may appear multiple times if there are more than one sales, you should only count them once.) (5%)"
   ]
  },
  {
   "cell_type": "code",
   "execution_count": null,
   "metadata": {},
   "outputs": [],
   "source": []
  },
  {
   "cell_type": "markdown",
   "metadata": {},
   "source": [
    "## Part 2. Working with DataFrames (45%) <a class=\"anchor\" name=\"2-dataframes\"></a>\n",
    "In this section, you need to load the given datasets into PySpark DataFrames and use DataFrame functions to answer the queries.\n",
    "### 2.1 Data Preparation and Loading\n",
    "\n",
    "2.1.1. Load the CSV/JSON files into separate dataframes. When you create your dataframes, please refer to the metadata file and think about the appropriate data type for each column."
   ]
  },
  {
   "cell_type": "code",
   "execution_count": null,
   "metadata": {},
   "outputs": [],
   "source": []
  },
  {
   "cell_type": "markdown",
   "metadata": {},
   "source": [
    "2.1.2 Display the schema of the dataframes."
   ]
  },
  {
   "cell_type": "code",
   "execution_count": null,
   "metadata": {},
   "outputs": [],
   "source": []
  },
  {
   "cell_type": "markdown",
   "metadata": {},
   "source": [
    "When the dataset is large, do you need all columns? How to optimize memory usage? Do you need a customized data partitioning strategy? (Note: Think about those questions but you don’t need to answer these questions.)"
   ]
  },
  {
   "cell_type": "markdown",
   "metadata": {},
   "source": [
    "### 2.2 QueryAnalysis  <a class=\"anchor\" name=\"2.2\"></a>\n",
    "Implement the following queries using dataframes. You need to be able to perform operations like transforming, filtering, sorting, joining and group by using the functions provided by the DataFrame API. For each task, display the first 5 results where no output is specified.\n",
    "\n",
    "2.2.1. The area column has two types: (H, A and M): 1 H is one hectare = 10000 sqm, 1A is one acre = 4000 sqm, 1 M is one sqm. Unify the unit to sqm and create a new column called area_sqm. "
   ]
  },
  {
   "cell_type": "code",
   "execution_count": null,
   "metadata": {},
   "outputs": [],
   "source": []
  },
  {
   "cell_type": "markdown",
   "metadata": {},
   "source": [
    "2.2.2. <pre>The top five property types are: Residence, Vacant Land, Commercial, Farm and Industrial.\n",
    "However, for historical reason, they may have different strings in the database. Please update the primary_purpose with the following rules:\n",
    "a)\tAny purpose that has “HOME”, “HOUSE”, “UNIT” is classified as “Residence”;\n",
    "b)\t“Warehouse”, “Factory”,  “INDUST” should be changed to “Industrial”;\n",
    "c)\tAnything that contains “FARM”(i.e. FARMING), should be changed to “FARM”;\n",
    "d)\t“Vacant”, “Land” should be “Vacant Land”;\n",
    "e)\tAnything that has “COMM”, “Retail”, “Shop” or “Office” are “Cmmercial”.\n",
    "f)\tAll remaining properties, including null and empty purposes, are classified as “Others”.\n",
    "Show the count of each type in a table.\n",
    "(note: Some properties are multi-purpose, e.g. “House & Farm”, it’s fine to count them multiple times.)\n",
    "</pre>"
   ]
  },
  {
   "cell_type": "code",
   "execution_count": null,
   "metadata": {},
   "outputs": [],
   "source": []
  },
  {
   "cell_type": "markdown",
   "metadata": {},
   "source": [
    "2.2.3 Find the top 20 properties that make the largest value gain, show their address, suburb, and value increased. To calculate the value gain, the property must have been sold multiple times, “value increase” can be calculated with the last sold price – first sold price, regardless the transactions in between. Print all 20 records."
   ]
  },
  {
   "cell_type": "code",
   "execution_count": null,
   "metadata": {},
   "outputs": [],
   "source": []
  },
  {
   "cell_type": "markdown",
   "metadata": {},
   "source": [
    "2.2.4 For each season, plot the median house price trend over the years. Seasons in Australia are defined as: (Spring: Sep-Nov, Summer: Dec-Feb, Autumn: Mar-May, Winter: Jun-Aug). "
   ]
  },
  {
   "cell_type": "code",
   "execution_count": null,
   "metadata": {},
   "outputs": [],
   "source": []
  },
  {
   "cell_type": "markdown",
   "metadata": {},
   "source": [
    "2.2.5 (Open Question) Explore the dataset freely and plot one diagram of your choice. Which columns (at least 2) are highly correlated to the sales price? Discuss the steps of your exploration and the results. (No word limit, please keep concise.) "
   ]
  },
  {
   "cell_type": "code",
   "execution_count": null,
   "metadata": {},
   "outputs": [],
   "source": []
  },
  {
   "cell_type": "markdown",
   "metadata": {},
   "source": [
    "Write your dicsussion here."
   ]
  },
  {
   "cell_type": "markdown",
   "metadata": {},
   "source": [
    "### Part 3 RDDs vs DataFrame vs Spark SQL (25%) <a class=\"anchor\" name=\"part-3\"></a>\n",
    "Implement the following complex queries using RDD, DataFrame in SparkSQL separately(choose two). Log the time taken for each query in each approach using the “%%time” built-in magic command in Jupyter Notebook and discuss the performance difference between these 2 approaches of your choice.\n",
    "(notes: You can write a multi-step query or a single complex query, the choice is yours. You can reuse the data frame in Part 2.)"
   ]
  },
  {
   "cell_type": "markdown",
   "metadata": {},
   "source": [
    "#### Complex Query:\n",
    "<pre>\n",
    "A property investor wants to understand whether the property price and the settlement date are correlated. Here is the conditions:\n",
    "1)\tThe investor is only interested in the last 2 years of the dataset.\n",
    "2)\tThe investor is looking at houses under $2 million.\n",
    "3)\tPerform a bucketing of the settlement date (settlement – contract date\n",
    "range (15, 30, 45, 60, 90 days).\n",
    "4)\tPerform a bucketing of property prices in $500K(e.g. 0-$500K, $500K-$1M, $1M-$1.5M, $1.5-$2M)\n",
    "5)\tCount the number of transactions in each combination and print the result in the following format\n",
    "(Note: It’s fine to count the same property multiple times in this task, it’s based on sales transactions).\n",
    "(Note: You shall show the full table with 40 rows, 2 years *4 price bucket * 5 settlement bucket; 0 count should be displayed as 0, not omitted.)\n",
    "</pre>"
   ]
  },
  {
   "cell_type": "markdown",
   "metadata": {},
   "source": [
    "### a)\tImplement the above query using two approaches of your choice separately and print the results. (Note: Outputs from both approaches of your choice are required, and the results should be the same.). "
   ]
  },
  {
   "cell_type": "markdown",
   "metadata": {},
   "source": [
    "#### 3.1. Implementation 1"
   ]
  },
  {
   "cell_type": "code",
   "execution_count": null,
   "metadata": {},
   "outputs": [],
   "source": []
  },
  {
   "cell_type": "markdown",
   "metadata": {},
   "source": [
    "#### 3.2. Implementation 2"
   ]
  },
  {
   "cell_type": "code",
   "execution_count": null,
   "metadata": {},
   "outputs": [],
   "source": []
  },
  {
   "cell_type": "code",
   "execution_count": null,
   "metadata": {},
   "outputs": [],
   "source": []
  },
  {
   "cell_type": "markdown",
   "metadata": {},
   "source": [
    "### b)\tWhich one is easier to implement, in your opinion? Log the time taken for each query, and observe the query execution time, among DataFrame and SparkSQL, which is faster and why? Please include proper references. (Maximum 500 words.) "
   ]
  },
  {
   "cell_type": "markdown",
   "metadata": {},
   "source": []
  },
  {
   "cell_type": "markdown",
   "metadata": {},
   "source": [
    "### Some ideas on the comparison\n",
    "\n",
    "Armbrust, M., Huai, Y., Liang, C., Xin, R., & Zaharia, M. (2015). Deep Dive into Spark SQL’s Catalyst Optimizer. Retrieved September 30, 2017, from https://databricks.com/blog/2015/04/13/deep-dive-into-spark-sqls-catalyst-optimizer.html\n",
    "\n",
    "Damji, J. (2016). A Tale of Three Apache Spark APIs: RDDs, DataFrames, and Datasets. Retrieved September 28, 2017, from https://databricks.com/blog/2016/07/14/a-tale-of-three-apache-spark-apis-rdds-dataframes-and-datasets.html\n",
    "\n",
    "Data Flair (2017a). Apache Spark RDD vs DataFrame vs DataSet. Retrieved September 28, 2017, from http://data-flair.training/blogs/apache-spark-rdd-vs-dataframe-vs-dataset\n",
    "\n",
    "Prakash, C. (2016). Apache Spark: RDD vs Dataframe vs Dataset. Retrieved September 28, 2017, from http://why-not-learn-something.blogspot.com.au/2016/07/apache-spark-rdd-vs-dataframe-vs-dataset.html\n",
    "\n",
    "Xin, R., & Rosen, J. (2015). Project Tungsten: Bringing Apache Spark Closer to Bare Metal. Retrieved September 30, 2017, from https://databricks.com/blog/2015/04/28/project-tungsten-bringing-spark-closer-to-bare-metal.html"
   ]
  }
 ],
 "metadata": {
  "kernelspec": {
   "display_name": "Python 3 (ipykernel)",
   "language": "python",
   "name": "python3"
  },
  "language_info": {
   "codemirror_mode": {
    "name": "ipython",
    "version": 3
   },
   "file_extension": ".py",
   "mimetype": "text/x-python",
   "name": "python",
   "nbconvert_exporter": "python",
   "pygments_lexer": "ipython3",
   "version": "3.10.13"
  }
 },
 "nbformat": 4,
 "nbformat_minor": 4
}
